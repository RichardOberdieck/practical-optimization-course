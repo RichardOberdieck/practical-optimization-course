{
 "cells": [
  {
   "cell_type": "code",
   "execution_count": 19,
   "metadata": {},
   "outputs": [
    {
     "data": {
      "text/plain": [
       "[<matplotlib.lines.Line2D at 0x5581190898>]"
      ]
     },
     "execution_count": 19,
     "metadata": {},
     "output_type": "execute_result"
    },
    {
     "data": {
      "image/png": "[encoded data removed]",
      "text/plain": [
       "<Figure size 432x288 with 1 Axes>"
      ]
     },
     "metadata": {
      "needs_background": "light"
     },
     "output_type": "display_data"
    }
   ],
   "source": [
    "import matplotlib.pyplot as plt\n",
    "import numpy as np\n",
    "import xpress as xp\n",
    "\n",
    "# coefficients\n",
    "c = [5, 3]\n",
    "b = [3, 6]\n",
    "nRange = range(len(c))\n",
    "\n",
    "# Breakpoints\n",
    "lower_bp = [0, 1.6]\n",
    "upper_bp = [1.6, 5]\n",
    "\n",
    "x = np.linspace(0,5)\n",
    "y1 = lambda x : c[0]*x + b[0]\n",
    "y2 = lambda x : c[1]*x + b[1]\n",
    "\n",
    "plt.plot(x, y1(x))\n",
    "plt.plot(x,y2(x))"
   ]
  },
  {
   "cell_type": "code",
   "execution_count": 30,
   "metadata": {},
   "outputs": [],
   "source": [
    "def get_linear_value(x_fix):\n",
    "    model = xp.problem(\"Test\")\n",
    "    x = {i : xp.var(vartype = xp.continuous, lb = 0, ub = 5, name = f'x_{i}') for i in nRange}\n",
    "    l = {i : xp.var(vartype = xp.binary, name = f'lambda_{i}') for i in nRange}\n",
    "    y = xp.var(vartype = xp.continuous, lb = 0, ub = 30, name = 'y')\n",
    "    model.addVariable(x,y,l)\n",
    "    \n",
    "    equality_constraint = xp.constraint(y == xp.Sum(c[i]*x[i] + b[i]*l[i] for i in nRange), name = \"Equality constraint\")\n",
    "    semi_continuous_lower = [xp.constraint(l[i]*lower_bp[i] <= x[i], name = f'Lower bound for x_{i}') for i in nRange]\n",
    "    semi_continuous_upper = [xp.constraint(l[i]*upper_bp[i] >= x[i], name = f'Upper bound for x_{i}') for i in nRange]\n",
    "    lambda_sum = xp.constraint(xp.Sum(l[i] for i in nRange) == 1, name = \"Lambda sum to 1\")\n",
    "    model.addConstraint(equality_constraint, semi_continuous_lower, semi_continuous_upper, lambda_sum)\n",
    "    \n",
    "    # Fix value of x\n",
    "    if x_fix <= lower_bp[1]:\n",
    "        model.addConstraint(x[0] == x_fix)\n",
    "    else:\n",
    "        model.addConstraint(x[1] == x_fix)\n",
    "        \n",
    "    model.solve()\n",
    "    \n",
    "    return model.getSolution(y)      "
   ]
  },
  {
   "cell_type": "code",
   "execution_count": 26,
   "metadata": {},
   "outputs": [
    {
     "data": {
      "text/plain": [
       "14.0"
      ]
     },
     "execution_count": 26,
     "metadata": {},
     "output_type": "execute_result"
    }
   ],
   "source": [
    "\n",
    "x_i = {i :}\n",
    "hydrogen_created[t] <= xp.sum(c_i * x_i + b_i for i in all_is) for t in times)\n",
    "\n"
   ]
  },
  {
   "cell_type": "code",
   "execution_count": 33,
   "metadata": {},
   "outputs": [
    {
     "data": {
      "text/plain": [
       "15"
      ]
     },
     "execution_count": 33,
     "metadata": {},
     "output_type": "execute_result"
    }
   ],
   "source": [
    "y2(3)"
   ]
  },
  {
   "cell_type": "code",
   "execution_count": 27,
   "metadata": {},
   "outputs": [
    {
     "data": {
      "text/plain": [
       "8"
      ]
     },
     "execution_count": 27,
     "metadata": {},
     "output_type": "execute_result"
    }
   ],
   "source": [
    "y1(1)"
   ]
  },
  {
   "cell_type": "code",
   "execution_count": 32,
   "metadata": {},
   "outputs": [
    {
     "data": {
      "text/plain": [
       "15.0"
      ]
     },
     "execution_count": 32,
     "metadata": {},
     "output_type": "execute_result"
    }
   ],
   "source": [
    "get_linear_value(3)"
   ]
  },
  {
   "cell_type": "code",
   "execution_count": null,
   "metadata": {},
   "outputs": [],
   "source": []
  }
 ],
 "metadata": {
  "kernelspec": {
   "display_name": "Python 3",
   "language": "python",
   "name": "python3"
  },
  "language_info": {
   "codemirror_mode": {
    "name": "ipython",
    "version": 3
   },
   "file_extension": ".py",
   "mimetype": "text/x-python",
   "name": "python",
   "nbconvert_exporter": "python",
   "pygments_lexer": "ipython3",
   "version": "3.7.2"
  }
 },
 "nbformat": 4,
 "nbformat_minor": 2
}
