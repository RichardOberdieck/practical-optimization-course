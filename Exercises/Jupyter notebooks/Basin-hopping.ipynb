{
 "cells": [
  {
   "cell_type": "markdown",
   "metadata": {},
   "source": [
    "# Basin-hopping algorithm in scipy\n",
    "The `basin-hopping algorithm` in `scipy` is a metaheuristic for the solution of general optimization problems.\n",
    "\n",
    "\"It has been motivated by problems from Physical Chemistry, in particular the taks of finding stable molecular configurations or configurations with the lowest energy. These task typically have lots of local minima which makes is hard for standard optimization methods because there is a very strong dependency on the initial conditions.\" [See here](https://www.quora.com/Mathematical-Optimization-What-is-the-basin-hopping-algorithm)\n",
    "\n",
    "The point of this exercise is to have a look at the algorithm and see what it can do. We will therefore solve the following optimization problem:\n",
    "\n",
    "\\begin{equation}\n",
    "\\begin{array}{ll}\n",
    "\\underset{x_0,x_1}{\\text{minimize}} & \\cos(14.5x_0 - 0.3) + (x_1 + 0.2) x_1 + (x_0 + 0.2)x_0 \\\\\n",
    "\\text{subject to} & -1.1 \\leq x_0,x_1 \\leq 1.1\n",
    "\\end{array}\n",
    "\\end{equation}\n",
    "\n",
    "## Initialization and first test\n",
    "First, let's load the routine in and just optimize the objective function without constraints:"
   ]
  },
  {
   "cell_type": "code",
   "execution_count": 9,
   "metadata": {},
   "outputs": [
    {
     "name": "stdout",
     "output_type": "stream",
     "text": [
      "global minimum: x[0] = -0.1951, x[1] = -0.1000, f(x0) = -1.0109\n"
     ]
    }
   ],
   "source": [
    "# Load the solver\n",
    "from scipy import optimize\n",
    "from scipy.optimize import basinhopping\n",
    "import numpy as np\n",
    "\n",
    "# Define the objective and initial guess\n",
    "func = lambda x: np.cos(14.5 * x[0] - 0.3) + (x[1] + 0.2) * x[1] + (x[0] + 0.2) * x[0]\n",
    "x0=[1.0, 1.0]\n",
    "minimizer_kwargs = {\"method\": \"L-BFGS-B\"}\n",
    "\n",
    "# Solve the problem and print result\n",
    "ret = basinhopping(func, x0, minimizer_kwargs=minimizer_kwargs, niter=200)\n",
    "print(\"global minimum: x[0] = %.4f, x[1] = %.4f, f(x0) = %.4f\" % (ret.x[0], ret.x[1], ret.fun))"
   ]
  },
  {
   "cell_type": "markdown",
   "metadata": {},
   "source": [
    "# Now let's add some constraints\n",
    "To add some constraints, we have to add a so-called acceptance test. This means a test that each solution has to pass to be accepted. To do this, you define the following class:"
   ]
  },
  {
   "cell_type": "code",
   "execution_count": 10,
   "metadata": {},
   "outputs": [],
   "source": [
    "class MyBounds(object):\n",
    "    def __init__(self, xmax=[1.1,1.1], xmin=[-1.1,-1.1] ):\n",
    "        self.xmax = np.array(xmax)\n",
    "        self.xmin = np.array(xmin)\n",
    "    def __call__(self, **kwargs):\n",
    "        x = kwargs[\"x_new\"]\n",
    "        tmax = bool(np.all(x <= self.xmax))\n",
    "        tmin = bool(np.all(x >= self.xmin))\n",
    "        return tmax and tmin"
   ]
  },
  {
   "cell_type": "markdown",
   "metadata": {},
   "source": [
    "Now, you can use this class as an acceptance test in `basinhopping`:"
   ]
  },
  {
   "cell_type": "code",
   "execution_count": 11,
   "metadata": {},
   "outputs": [
    {
     "name": "stdout",
     "output_type": "stream",
     "text": [
      "global minimum: x[0] = -0.1951, x[1] = -0.1000, f(x0) = -1.0109\n"
     ]
    }
   ],
   "source": [
    "mybounds = MyBounds()\n",
    "ret = basinhopping(func, x0, minimizer_kwargs=minimizer_kwargs, niter=10, accept_test=mybounds)\n",
    "print(\"global minimum: x[0] = %.4f, x[1] = %.4f, f(x0) = %.4f\" % (ret.x[0], ret.x[1], ret.fun))"
   ]
  },
  {
   "cell_type": "markdown",
   "metadata": {},
   "source": [
    "# However....let's play with the constraints\n",
    "Currently, the constraints are inactive. So let's make them active by setting the lower bound to $0.5$:"
   ]
  },
  {
   "cell_type": "code",
   "execution_count": 12,
   "metadata": {},
   "outputs": [],
   "source": [
    "class MyBounds2(object):\n",
    "    def __init__(self, xmax=[1.1,1.1], xmin=[0.5,0.5] ):\n",
    "        self.xmax = np.array(xmax)\n",
    "        self.xmin = np.array(xmin)\n",
    "    def __call__(self, **kwargs):\n",
    "        x = kwargs[\"x_new\"]\n",
    "        tmax = bool(np.all(x <= self.xmax))\n",
    "        tmin = bool(np.all(x >= self.xmin))\n",
    "        return tmax and tmin"
   ]
  },
  {
   "cell_type": "code",
   "execution_count": 13,
   "metadata": {},
   "outputs": [
    {
     "name": "stdout",
     "output_type": "stream",
     "text": [
      "global minimum: x[0] = 1.0926, x[1] = -0.1000, f(x0) = 0.4159\n"
     ]
    }
   ],
   "source": [
    "mybounds2 = MyBounds2()\n",
    "ret = basinhopping(func, x0, minimizer_kwargs=minimizer_kwargs, niter=10, accept_test=mybounds2)\n",
    "print(\"global minimum: x[0] = %.4f, x[1] = %.4f, f(x0) = %.4f\" % (ret.x[0], ret.x[1], ret.fun))"
   ]
  },
  {
   "cell_type": "markdown",
   "metadata": {},
   "source": [
    "Wow! The constraints are violated (and by a long shot). However if we look at the optimizer, it thinks it found a good solution:"
   ]
  },
  {
   "cell_type": "code",
   "execution_count": 14,
   "metadata": {},
   "outputs": [
    {
     "data": {
      "text/plain": [
       "                        fun: 0.41591968109174626\n",
       " lowest_optimization_result:       fun: 0.41591968109174626\n",
       " hess_inv: <2x2 LbfgsInvHessProduct with dtype=float64>\n",
       "      jac: array([-3.8191672e-06,  8.8817842e-08])\n",
       "  message: b'CONVERGENCE: NORM_OF_PROJECTED_GRADIENT_<=_PGTOL'\n",
       "     nfev: 45\n",
       "      nit: 11\n",
       "   status: 0\n",
       "  success: True\n",
       "        x: array([ 1.09260105, -0.09999996])\n",
       "                    message: ['requested number of basinhopping iterations completed successfully']\n",
       "      minimization_failures: 0\n",
       "                       nfev: 465\n",
       "                        nit: 10\n",
       "                          x: array([ 1.09260105, -0.09999996])"
      ]
     },
     "execution_count": 14,
     "metadata": {},
     "output_type": "execute_result"
    }
   ],
   "source": [
    "ret"
   ]
  },
  {
   "cell_type": "markdown",
   "metadata": {},
   "source": [
    "This is not an uncommon problem (see [here](https://github.com/scipy/scipy/issues/7842) and [here](https://github.com/scipy/scipy/issues/7799)), and this is in a main Python package! Therefore, always be careful with metaheuristics!"
   ]
  },
  {
   "cell_type": "markdown",
   "metadata": {},
   "source": [
    "## Addendum\n",
    "The standard method to define constraints in `scipy.minimize` is via a dictionary. In our case, this would be:"
   ]
  },
  {
   "cell_type": "code",
   "execution_count": 15,
   "metadata": {},
   "outputs": [],
   "source": [
    "xmax = [1.1,1.1]; xmin = [0.5,0.5]\n",
    "cons = ({'type': 'ineq', 'fun': lambda x:  x[0] - xmin[0]},\n",
    "        {'type': 'ineq', 'fun': lambda x:  -x[0] + xmax[0]},\n",
    "        {'type': 'ineq', 'fun': lambda x:  x[1] - xmin[1]},\n",
    "        {'type': 'ineq', 'fun': lambda x:  -x[1] + xmax[1]})"
   ]
  },
  {
   "cell_type": "markdown",
   "metadata": {},
   "source": [
    "So addding this to the original problem, we try again:"
   ]
  },
  {
   "cell_type": "code",
   "execution_count": 16,
   "metadata": {},
   "outputs": [
    {
     "name": "stdout",
     "output_type": "stream",
     "text": [
      "global minimum: x[0] = 0.6634, x[1] = 0.5000, f(x0) = -0.0717\n"
     ]
    }
   ],
   "source": [
    "minimizer_kwargs = {\"constraints\": cons}\n",
    "ret = basinhopping(func, x0, minimizer_kwargs=minimizer_kwargs, niter=10)\n",
    "print(\"global minimum: x[0] = %.4f, x[1] = %.4f, f(x0) = %.4f\" % (ret.x[0], ret.x[1], ret.fun))"
   ]
  }
 ],
 "metadata": {
  "kernelspec": {
   "display_name": "Python 3",
   "language": "python",
   "name": "python3"
  },
  "language_info": {
   "codemirror_mode": {
    "name": "ipython",
    "version": 3
   },
   "file_extension": ".py",
   "mimetype": "text/x-python",
   "name": "python",
   "nbconvert_exporter": "python",
   "pygments_lexer": "ipython3",
   "version": "3.7.2"
  }
 },
 "nbformat": 4,
 "nbformat_minor": 2
}
