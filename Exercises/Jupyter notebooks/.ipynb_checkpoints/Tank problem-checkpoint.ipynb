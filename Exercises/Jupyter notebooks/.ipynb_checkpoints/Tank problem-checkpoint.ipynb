{
 "cells": [
  {
   "cell_type": "markdown",
   "metadata": {},
   "source": [
    "# The tank problem\n",
    "We want to solve the following optimization problem:\n",
    "\\begin{equation}\n",
    "\\begin{array}{ll}\n",
    "\\underset{\\{x_k, u_k, \\forall k\\}}{\\text{minimize}} & \\sum \\limits_{k=1}^{N} (x_k - x_{ref})^2 \\\\\n",
    "\\text{subject to} & x_{k+1} = x_k + u_k, \\hspace{0.3cm} \\forall k=0,...,N-1 \\\\\n",
    "& x_k \\in [0,7], \\hspace{0.3cm} \\forall k=1,...,N \\\\\n",
    "& u_k \\in [0,1], \\hspace{0.3cm} \\forall k=0,...,N-1\n",
    "\\end{array}\n",
    "\\end{equation}\n",
    "\n",
    "with $x_{ref} = 5$, $N = 20$ and one time step per minute. Note: the states $x_k$ are all defined by the dynamics of the system. However, technically we have to include them as the optimization variables unless we want to substitute all the equality constraints.\n",
    "\n",
    "## The variables"
   ]
  },
  {
   "cell_type": "code",
   "execution_count": 1,
   "metadata": {},
   "outputs": [],
   "source": [
    "# Initialization\n",
    "from docplex.mp.model import Model\n",
    "import matplotlib.pyplot as plt\n",
    "from matplotlib.ticker import MaxNLocator\n",
    "\n",
    "mdl = Model(name=\"The tank problem\")\n",
    "\n",
    "# Parameter definition\n",
    "N = 20\n",
    "xref = 5\n",
    "x0 = 0\n",
    "\n",
    "# Variable definition\n",
    "x = mdl.continuous_var_list(N+1, lb=0, ub=7, name=\"Volume\")\n",
    "u = mdl.continuous_var_list(N, lb=0, ub=1, name=\"Inflow\")"
   ]
  },
  {
   "cell_type": "markdown",
   "metadata": {},
   "source": [
    "## The dynamics"
   ]
  },
  {
   "cell_type": "code",
   "execution_count": 2,
   "metadata": {},
   "outputs": [],
   "source": [
    "mdl.add_constraints([x[k+1] == x[k] + u[k] for k in range(N)]);"
   ]
  },
  {
   "cell_type": "markdown",
   "metadata": {},
   "source": [
    "## Cost function"
   ]
  },
  {
   "cell_type": "code",
   "execution_count": 3,
   "metadata": {},
   "outputs": [],
   "source": [
    "mdl.minimize(mdl.sum((x[k] - xref)**2 for k in range(N+1)))"
   ]
  },
  {
   "cell_type": "markdown",
   "metadata": {},
   "source": [
    "## The initial condition"
   ]
  },
  {
   "cell_type": "code",
   "execution_count": 4,
   "metadata": {},
   "outputs": [],
   "source": [
    "mdl.add_constraint(x[0] == x0);"
   ]
  },
  {
   "cell_type": "markdown",
   "metadata": {},
   "source": [
    "## Solution and post-processing"
   ]
  },
  {
   "cell_type": "code",
   "execution_count": 5,
   "metadata": {},
   "outputs": [],
   "source": [
    "mdl.solve();"
   ]
  },
  {
   "cell_type": "code",
   "execution_count": 6,
   "metadata": {},
   "outputs": [
    {
     "data": {
      "image/png": "[encoded data removed]",
      "text/plain": [
       "<Figure size 432x288 with 1 Axes>"
      ]
     },
     "metadata": {},
     "output_type": "display_data"
    }
   ],
   "source": [
    "ax = plt.figure().gca()\n",
    "plt.plot(range(N),mdl.solution.get_values(u),label=\"u\")\n",
    "plt.plot(range(N+1),mdl.solution.get_values(x),label=\"x\")\n",
    "plt.legend(bbox_to_anchor=(1.5, 1));\n",
    "plt.xlabel(\"Time step\")\n",
    "plt.ylabel(\"L\")\n",
    "ax.xaxis.set_major_locator(MaxNLocator(integer=True))"
   ]
  },
  {
   "cell_type": "code",
   "execution_count": null,
   "metadata": {},
   "outputs": [],
   "source": []
  }
 ],
 "metadata": {
  "kernelspec": {
   "display_name": "Python 3",
   "language": "python",
   "name": "python3"
  },
  "language_info": {
   "codemirror_mode": {
    "name": "ipython",
    "version": 3
   },
   "file_extension": ".py",
   "mimetype": "text/x-python",
   "name": "python",
   "nbconvert_exporter": "python",
   "pygments_lexer": "ipython3",
   "version": "3.6.6"
  }
 },
 "nbformat": 4,
 "nbformat_minor": 2
}
