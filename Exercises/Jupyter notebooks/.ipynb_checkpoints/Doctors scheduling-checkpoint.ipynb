{
 "cells": [
  {
   "cell_type": "markdown",
   "metadata": {},
   "source": [
    "# Scheduling the doctors for the paediatric units of Hamburg\n",
    "> This is an actual (albeit simpified and anonymized) case.\n",
    "\n",
    "Employee scheduling (e.g. workers, nurses, doctors) is probably the oldest optimization problem ever. It was what George Dantzig was working on during World War II and what got him the interest of DuPont with his famous \"assign 70 workers to 70 jobs\" "
   ]
  }
 ],
 "metadata": {
  "kernelspec": {
   "display_name": "Python 3",
   "language": "python",
   "name": "python3"
  },
  "language_info": {
   "codemirror_mode": {
    "name": "ipython",
    "version": 3
   },
   "file_extension": ".py",
   "mimetype": "text/x-python",
   "name": "python",
   "nbconvert_exporter": "python",
   "pygments_lexer": "ipython3",
   "version": "3.7.2"
  }
 },
 "nbformat": 4,
 "nbformat_minor": 2
}
