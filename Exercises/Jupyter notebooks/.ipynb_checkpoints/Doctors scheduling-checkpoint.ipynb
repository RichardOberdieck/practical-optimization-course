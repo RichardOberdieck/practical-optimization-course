{
 "cells": [
  {
   "cell_type": "markdown",
   "metadata": {},
   "source": [
    "# Scheduling the doctors for the paediatric units of Hamburg\n",
    "> This is an actual (albeit simpified and anonymized) case.\n",
    "\n",
    "Employee scheduling (e.g. workers, nurses, doctors) is probably the oldest optimization problem ever. It was what George Dantzig was working on during World War II and what got him the interest of DuPont with his famous \"assign 70 workers to 70 jobs\" example. In this case, we are going to look at a more recent example, namely on scheduling the doctors for the paediatric units of five hospitals in Hamburg.\n",
    "\n",
    "In particular, we have 22 doctors, each with hard constraints (regulation from pregnancy, where they can work) as well as preferences (allocation) and we have to meet the demands of all the hospitals. Let's get to it!\n",
    "\n",
    "## Initialization and data import\n",
    "First, we have to load in the data and massage it into place:\n",
    "> This is a lot of parsing, but it shows what an actual program has to do before we can even start optimizing."
   ]
  },
  {
   "cell_type": "code",
   "execution_count": 174,
   "metadata": {},
   "outputs": [],
   "source": [
    "import xpress as xp\n",
    "%env XPRESS=..\n",
    "import pandas as pd\n",
    "import numpy as np\n",
    "from dataclasses import dataclass\n",
    "from datetime import datetime\n",
    "from datetime import timedelta\n",
    "from datetime import time\n",
    "\n",
    "# Import of the data using pandas\n",
    "df = pd.read_excel(\"DoctorData.xlsx\", sheet_name = [\"Doctors\", \"Hospitals\"])\n",
    "start_time = datetime(2019,7,1)\n",
    "end_time = datetime(2019,8,30)\n",
    "day_limit = 12 # Number of days a doctor can work in a row\n",
    "total_work_time = (end_time - start_time).days * (40/7) # How many hours a 100% allocated person would work\n",
    "\n",
    "# Define the classes\n",
    "class Doctor:\n",
    "    def __init__(self, name, is_pregnant, allocation, work_locations):\n",
    "        self.name = name\n",
    "        self.is_pregnant = is_pregnant\n",
    "        self.allocation = allocation\n",
    "        self.work_locations = work_locations\n",
    "                \n",
    "class Shift:\n",
    "    def __init__(self, start_time, end_time):\n",
    "        self.start_time = start_time\n",
    "        self.end_time = end_time\n",
    "        self.duration_in_hours = (end_time - start_time).total_seconds() / 3600\n",
    "        self.is_nightshift = start_time.time() >= time(18,0) or start_time.time() <= time(2,0)\n",
    "        self.can_work_pregnant = self.duration_in_hours < 12 and not self.is_nightshift\n",
    "\n",
    "# Create a list of hospitals\n",
    "hospitals = df[\"Hospitals\"][\"ID\"].tolist()\n",
    "\n",
    "# Get the list of doctors\n",
    "doctors = list()\n",
    "for index, row in df[\"Doctors\"].iterrows():\n",
    "    is_pregnant = row[\"Pregnant\"] == \"Yes\"\n",
    "    work_list = list()\n",
    "    for hospital in hospitals:\n",
    "        if row[f'Work in {hospital}?'] == \"Yes\":\n",
    "            work_list.append(hospital)\n",
    "    doctors.append(Doctor(row[\"Name\"], is_pregnant, row[\"Allocation [%]\"]/100, work_list))\n",
    "    \n",
    "# Create a list of shifts\n",
    "shifts = list()\n",
    "shift_days = list()\n",
    "current = start_time\n",
    "weekday_times = [(6, 14), (14, 22), (22, 30)]\n",
    "weekend_times = [(6, 18), (18, 30)]\n",
    "while current <= end_time:\n",
    "    shift_days.append(current)\n",
    "    if current.weekday() < 5:\n",
    "        shifts += [Shift(current + timedelta(hours=start), current + timedelta(hours=end))\n",
    "                  for start,end in weekday_times]\n",
    "    else:\n",
    "        shifts += [Shift(current + timedelta(hours=start), current + timedelta(hours=end))\n",
    "                  for start,end in weekend_times]\n",
    "    \n",
    "    current += timedelta(days=1)\n",
    "        \n",
    "# Finally, the index class\n",
    "@dataclass(frozen=True)\n",
    "class Placement:\n",
    "    doctor: Doctor\n",
    "    shift: Shift\n",
    "    hospital: str\n",
    "        \n",
    "placements = [Placement(doctor, shift, hospital) for doctor in doctors for shift in shifts for hospital in hospitals]\n",
    "\n",
    "# And another index class, related to nightshift work\n",
    "@dataclass(frozen=True)\n",
    "class Nightshift:\n",
    "    doctor: Doctor\n",
    "    day: datetime\n",
    "        \n",
    "nightshifts = [Nightshift(doctor, shift_day) for doctor in doctors for shift_day in shift_days]"
   ]
  },
  {
   "cell_type": "markdown",
   "metadata": {},
   "source": [
    "Ok, this was a lot of parsing, but now we have all the information at our fingertips. So let's get started!\n",
    "\n",
    "## Problem and variable definition\n",
    "The degrees of freedom in our system are whether a certain doctor $d$ works in hospital $h$ during shift $s$, which we called a `Placement` above:"
   ]
  },
  {
   "cell_type": "markdown",
   "metadata": {},
   "source": [
    "## The general setup"
   ]
  },
  {
   "cell_type": "code",
   "execution_count": 178,
   "metadata": {},
   "outputs": [],
   "source": []
  },
  {
   "cell_type": "markdown",
   "metadata": {},
   "source": [
    "## Making it more realistic\n",
    "Now that we got the general stuff out of the way, let's go a little bit more into detail and add some realism. First off, not all doctors can work in all hospitals:"
   ]
  },
  {
   "cell_type": "code",
   "execution_count": 179,
   "metadata": {},
   "outputs": [],
   "source": []
  },
  {
   "cell_type": "markdown",
   "metadata": {},
   "source": [
    "Ok, the next one is that pregnant woman cannot take shifts that are in the evening or are 12 hours long."
   ]
  },
  {
   "cell_type": "code",
   "execution_count": 180,
   "metadata": {},
   "outputs": [],
   "source": []
  },
  {
   "cell_type": "markdown",
   "metadata": {},
   "source": [
    "Lastly, night shifts have to be grouped into blocks of 3 nights, with 3 nights off afterwards."
   ]
  },
  {
   "cell_type": "code",
   "execution_count": null,
   "metadata": {},
   "outputs": [],
   "source": []
  },
  {
   "cell_type": "markdown",
   "metadata": {},
   "source": [
    "## Making a good schedule\n",
    "Now we get to the part of the objective function. The objective is to minimize the deviation of the actual allocation:"
   ]
  },
  {
   "cell_type": "code",
   "execution_count": null,
   "metadata": {},
   "outputs": [],
   "source": []
  },
  {
   "cell_type": "markdown",
   "metadata": {},
   "source": [
    "## Solving and post-processing"
   ]
  },
  {
   "cell_type": "code",
   "execution_count": 183,
   "metadata": {},
   "outputs": [
    {
     "name": "stdout",
     "output_type": "stream",
     "text": [
      "Solution status: mip_optimal\n"
     ]
    }
   ],
   "source": [
    "model.solve()\n",
    "print(f'Solution status: {model.getProbStatusString()}')"
   ]
  }
 ],
 "metadata": {
  "kernelspec": {
   "display_name": "Python 3",
   "language": "python",
   "name": "python3"
  },
  "language_info": {
   "codemirror_mode": {
    "name": "ipython",
    "version": 3
   },
   "file_extension": ".py",
   "mimetype": "text/x-python",
   "name": "python",
   "nbconvert_exporter": "python",
   "pygments_lexer": "ipython3",
   "version": "3.7.2"
  }
 },
 "nbformat": 4,
 "nbformat_minor": 2
}
