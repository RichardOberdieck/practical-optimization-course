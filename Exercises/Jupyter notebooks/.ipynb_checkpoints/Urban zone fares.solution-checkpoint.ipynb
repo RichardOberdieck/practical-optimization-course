{
 "cells": [
  {
   "cell_type": "markdown",
   "metadata": {},
   "source": [
    "# Urban zone fares\n",
    "In this problem, we have a look at how to price the public transport of Copenhagen for a selected number of stations. Specifically, we will be looking at Nørreport, Kastrup, Glostrup, Klampenborg, Herlev and Christianshavn.\n",
    "\n",
    "## Initialization and data import\n",
    "First, let's get the data in:"
   ]
  },
  {
   "cell_type": "code",
   "execution_count": 12,
   "metadata": {},
   "outputs": [],
   "source": [
    "# Initialization\n",
    "import xpress as xp\n",
    "import matplotlib.pyplot as plt\n",
    "import numpy as np\n",
    "import pandas as pd\n",
    "\n",
    "# Define the base ride parameter\n",
    "f0 = 15\n",
    "fmin = 10\n",
    "fmax = 40\n",
    "cdiffmin = 0\n",
    "cdiffmax = 30\n",
    "\n",
    "class Connection:\n",
    "    def __init__(self, origin, destination, distance, elasticity, base_rideship):\n",
    "        self.origin = origin\n",
    "        self.destination = destination\n",
    "        self.distance = distance\n",
    "        self.elasticity = elasticity\n",
    "        self.base_ridership = base_rideship\n",
    "        \n",
    "    def __str__(self):\n",
    "        return f'{self.origin}->{self.destination}'\n",
    "      \n",
    "        \n",
    "connections = [Connection(\"Norreport\", \"Kastrup\", 7.9, -0.6, 50),\n",
    "              Connection(\"Norreport\", \"Glostrup\", 12.1, -0.7, 3),\n",
    "              Connection(\"Norreport\", \"Klampenborg\", 11.5, -0.6, 9),\n",
    "              Connection(\"Norreport\", \"Herlev\", 9.6, -0.8, 15),\n",
    "              Connection(\"Norreport\", \"Christianshavn\", 1.8, -0.9, 80),\n",
    "              Connection(\"Kastrup\", \"Glostrup\", 18.3, -0.7, 8),\n",
    "              Connection(\"Kastrup\", \"Klampenborg\", 19.1, -0.5, 9),\n",
    "              Connection(\"Kastrup\", \"Herlev\", 17.5, -0.9, 5),\n",
    "              Connection(\"Kastrup\", \"Christianshavn\", 6.2, -0.9, 60),\n",
    "              Connection(\"Glostrup\", \"Klampenborg\", 20.2, -0.6, 16),\n",
    "              Connection(\"Glostrup\", \"Herlev\", 7.5, -0.8, 26),\n",
    "              Connection(\"Glostrup\", \"Christianshavn\", 13.1, -0.9, 34),\n",
    "              Connection(\"Klampenborg\", \"Herlev\", 13.7, -0.4, 35),\n",
    "              Connection(\"Klampenborg\", \"Christianshavn\", 13.2, -0.9, 12),\n",
    "              Connection(\"Herlev\", \"Christianshavn\", 11.6, -0.9, 19)]"
   ]
  },
  {
   "cell_type": "markdown",
   "metadata": {},
   "source": [
    "## Variable definition\n",
    "Next, let's have a look at the variables we are going to need:\n",
    "- $f_{ij}$: The overall fare between $i$ and $j$\n",
    "- $c_{fix}$: The fixed cost per fare regardless of distance\n",
    "- $c_{mile}$: The mileage cost which varies linearly with distance."
   ]
  },
  {
   "cell_type": "code",
   "execution_count": 13,
   "metadata": {},
   "outputs": [],
   "source": [
    "model = xp.problem(\"Urban zone fares\")\n",
    "\n",
    "f = {c : xp.var(vartype = xp.continuous, lb = fmin, ub = fmax, name=f'f_{c}') for c in connections}\n",
    "cfix = xp.var(vartype = xp.continuous, lb = 0, name = 'cfix')\n",
    "cmile = xp.var(vartype = xp.continuous, lb = 0, name = 'cmile')\n",
    "\n",
    "model.addVariable(f,cfix,cmile)"
   ]
  },
  {
   "cell_type": "markdown",
   "metadata": {},
   "source": [
    "These variables are related as follows:\n",
    "\\begin{equation}\n",
    "f_{ij} = c_{fix} + c_{mile}d_{ij}\n",
    "\\end{equation}\n",
    "\n",
    "As stated in other examples, it is typically a good idea to get these very basic logical relationships out of the way first. This includes the bounds $f_{ij}^{\\min} \\leq f_{ij} \\leq f_{ij}^{\\max}$."
   ]
  },
  {
   "cell_type": "code",
   "execution_count": 14,
   "metadata": {},
   "outputs": [],
   "source": [
    "variable_relation = (xp.constraint(f[c] == cfix + cmile * c.distance, name =f'Linking variables for connection {c})')\n",
    "                     for c in connections)"
   ]
  },
  {
   "cell_type": "markdown",
   "metadata": {},
   "source": [
    "## Constraint definition\n",
    "The only constraint left is $c_{diff}^{\\min} \\leq c_{fix} - c_{mile} \\leq c_{diff}^{\\max}$:"
   ]
  },
  {
   "cell_type": "code",
   "execution_count": 15,
   "metadata": {},
   "outputs": [],
   "source": [
    "cdiffbound = xp.constraint(cdiffmin <= cfix - cmile <= cdiffmax, name = \"Bounding cdiff\")\n",
    "model.addConstraint(variable_relation, cdiffbound)"
   ]
  },
  {
   "cell_type": "markdown",
   "metadata": {},
   "source": [
    "## The objective function\n",
    "The difficult part of the example is the formulation of the objective function, a task that is often neglected. Clever objective function modelling can often result in a much nicer and easier problem to handle.\n",
    "\n",
    "First, we begin by stating that the overall revenue is given by ridership $P_{ij}$ times fare $f_{ij}$, i.e.\n",
    "\\begin{equation}\n",
    "R = \\sum \\limits_{i} \\sum \\limits_{j>i} P_{ij}f_{ij}\n",
    "\\end{equation}\n",
    "\n",
    "However, how is ridership established? Well, we take a look at the notes:\n",
    "\\begin{equation}\n",
    "P_{ij} = P_{ij}^0 \\left(1+ e_{ij}\\frac{f_{ij} - f_{ij}^0}{f_{ij}^0}\\right)\n",
    "\\end{equation}\n",
    "\n",
    "Although we probably could simply put this into CPLEX, it is worth the effort to do some linear algebra here:\n",
    "\\begin{equation}\n",
    "P_{ij} = P_{ij}^0 \\left(\\frac{f_{ij}^0 + e_{ij}f_{ij} - e_{ij}f_{ij}^0}{f_{ij}^0}\\right) \\\\\n",
    "P_{ij} = \\frac{P_{ij}^0}{f_{ij}^0}(e_{ij}f_{ij} + (1-e_{ij})f_{ij}^0) \\\\\n",
    "P_{ij} = \\frac{e_{ij}P_{ij}^0}{f_{ij}^0}\\left(f_{ij} + \\frac{1-e_{ij}}{e_{ij}} f_{ij}^0\\right)\n",
    "\\end{equation}\n",
    "This means, by defining $\\alpha_{ij} = \\frac{e_{ij}P_{ij}^0}{f_{ij}^0}$ and $\\beta_{ij} = \\frac{1-e_{ij}}{e_{ij}} f_{ij}^0$ we can write the objective function as:\n",
    "\\begin{equation}\n",
    "R = \\sum \\limits_{i} \\sum \\limits_{j>i} \\alpha_{ij} f_{ij}^2 + \\alpha_{ij}\\beta_{ij} f_{ij}\n",
    "\\end{equation}"
   ]
  },
  {
   "cell_type": "markdown",
   "metadata": {},
   "source": [
    "### Why should you do this?\n",
    "1) Optimization applications are in most cases \"decision support systems\", i.e. a human will often (not always, think control!) use the output to decide something. This means, it is crucial that the result is not just a number, say $8$, but that solution interpretation yields the underlying structure of the solution. With the reformulated objective function, this is easily done using parameters $\\alpha_{ij}$ and $\\beta_{ij}$.\n",
    "\n",
    "2) This little bit of linear algebra proves concavity! If I give you $f_{ij}P_{ij}^0 \\left(1+ e_{ij}\\frac{f_{ij} - f_{ij}^0}{f_{ij}^0}\\right)$, do you immediately know that it is concave? Using this simple reformulation we have proven concavity and the fact that this is a simple convex quadratic programming problem. The reason it is a convex QP by the way is, because we look to maximize the revenue, which is equivalent to minimizing $-R$, which is convex."
   ]
  },
  {
   "cell_type": "code",
   "execution_count": 19,
   "metadata": {},
   "outputs": [],
   "source": [
    "model.setObjective(xp.Sum(((c.elasticity*c.base_ridership) / f0) * f[c]**2 + \n",
    "                   (c.elasticity * c.base_ridership / f0) * ((1-c.elasticity / c.elasticity)*f0) * f[c] for c in connections), \n",
    "                   sense = xp.maximize)"
   ]
  },
  {
   "cell_type": "markdown",
   "metadata": {},
   "source": [
    "## Solution and post-processing"
   ]
  },
  {
   "cell_type": "code",
   "execution_count": 20,
   "metadata": {},
   "outputs": [
    {
     "name": "stdout",
     "output_type": "stream",
     "text": [
      "Solution status: lp_nonconvex\n"
     ]
    }
   ],
   "source": [
    "model.solve()\n",
    "print(f'Solution status: {model.getProbStatusString()}')"
   ]
  },
  {
   "cell_type": "markdown",
   "metadata": {},
   "source": [
    "> Even though it says `lp_optimal` here, it actually solved a quadratic programming problem.\n",
    "\n",
    "Ok, so let's have a look at the solution:"
   ]
  },
  {
   "cell_type": "code",
   "execution_count": null,
   "metadata": {},
   "outputs": [],
   "source": []
  }
 ],
 "metadata": {
  "kernelspec": {
   "display_name": "Python 3",
   "language": "python",
   "name": "python3"
  },
  "language_info": {
   "codemirror_mode": {
    "name": "ipython",
    "version": 3
   },
   "file_extension": ".py",
   "mimetype": "text/x-python",
   "name": "python",
   "nbconvert_exporter": "python",
   "pygments_lexer": "ipython3",
   "version": "3.7.2"
  }
 },
 "nbformat": 4,
 "nbformat_minor": 2
}
