{
 "cells": [
  {
   "cell_type": "markdown",
   "metadata": {},
   "source": [
    "# Urban zone fares\n",
    "In this problem, we have a look at how to price the public transport of Copenhagen for a selected number of stations. Specifically, we will be looking at Nørreport, Kastrup, Glostrup, Klampenborg, Herlev and Christianshavn.\n",
    "\n",
    "## Initialization and data import\n",
    "First, let's get the data in:"
   ]
  },
  {
   "cell_type": "code",
   "execution_count": 1,
   "metadata": {},
   "outputs": [],
   "source": [
    "# Initialization\n",
    "import xpress as xp\n",
    "import matplotlib.pyplot as plt\n",
    "import numpy as np\n",
    "import pandas as pd\n",
    "\n",
    "# Define the base ride parameter\n",
    "f0 = 15\n",
    "fmin = 10\n",
    "fmax = 40\n",
    "cdiffmin = 0\n",
    "cdiffmax = 30\n",
    "\n",
    "class Connection:\n",
    "    def __init__(self, origin, destination, distance, elasticity, base_rideship):\n",
    "        self.origin = origin\n",
    "        self.destination = destination\n",
    "        self.distance = distance\n",
    "        self.elasticity = elasticity\n",
    "        self.base_ridership = base_rideship\n",
    "        \n",
    "    def __str__(self):\n",
    "        return f'{self.origin}->{self.destination}'\n",
    "      \n",
    "        \n",
    "connections = [Connection(\"Norreport\", \"Kastrup\", 7.9, -0.6, 50),\n",
    "              Connection(\"Norreport\", \"Glostrup\", 12.1, -0.7, 3),\n",
    "              Connection(\"Norreport\", \"Klampenborg\", 11.5, -0.6, 9),\n",
    "              Connection(\"Norreport\", \"Herlev\", 9.6, -0.8, 15),\n",
    "              Connection(\"Norreport\", \"Christianshavn\", 1.8, -0.9, 80),\n",
    "              Connection(\"Kastrup\", \"Glostrup\", 18.3, -0.7, 8),\n",
    "              Connection(\"Kastrup\", \"Klampenborg\", 19.1, -0.5, 9),\n",
    "              Connection(\"Kastrup\", \"Herlev\", 17.5, -0.9, 5),\n",
    "              Connection(\"Kastrup\", \"Christianshavn\", 6.2, -0.9, 60),\n",
    "              Connection(\"Glostrup\", \"Klampenborg\", 20.2, -0.6, 16),\n",
    "              Connection(\"Glostrup\", \"Herlev\", 7.5, -0.8, 26),\n",
    "              Connection(\"Glostrup\", \"Christianshavn\", 13.1, -0.9, 34),\n",
    "              Connection(\"Klampenborg\", \"Herlev\", 13.7, -0.4, 35),\n",
    "              Connection(\"Klampenborg\", \"Christianshavn\", 13.2, -0.9, 12),\n",
    "              Connection(\"Herlev\", \"Christianshavn\", 11.6, -0.9, 19)]"
   ]
  },
  {
   "cell_type": "markdown",
   "metadata": {},
   "source": [
    "## Variable definition\n",
    "Let's have a look at the variables we are going to need: we need to identify the flows, the fixed cost per fare and the mileage cost."
   ]
  },
  {
   "cell_type": "code",
   "execution_count": 7,
   "metadata": {},
   "outputs": [],
   "source": [
    "model = xp.problem(\"Urban zone fares\")\n",
    "\n",
    "f = {}\n",
    "cfix = \n",
    "cmile = \n",
    "P = {}\n",
    "\n",
    "model.addVariable(f,cfix,cmile, P)"
   ]
  },
  {
   "cell_type": "markdown",
   "metadata": {},
   "source": [
    "These variables are related through a simple linear relation."
   ]
  },
  {
   "cell_type": "code",
   "execution_count": 8,
   "metadata": {},
   "outputs": [],
   "source": [
    "fare_relation = ()\n",
    "rideship_relation = ()"
   ]
  },
  {
   "cell_type": "markdown",
   "metadata": {},
   "source": [
    "## Constraint definition\n",
    "There is a minimum and maximum difference between the fixed and mileage cost:"
   ]
  },
  {
   "cell_type": "code",
   "execution_count": 9,
   "metadata": {},
   "outputs": [],
   "source": [
    "cdiffbound = \n",
    "model.addConstraint(fare_relation, rideship_relation, cdiffbound)"
   ]
  },
  {
   "cell_type": "markdown",
   "metadata": {},
   "source": [
    "## The objective function\n",
    "The difficult part of the example is the formulation of the objective function, a task that is often neglected. Clever objective function modelling can often result in a much nicer and easier problem to handle."
   ]
  },
  {
   "cell_type": "code",
   "execution_count": 10,
   "metadata": {},
   "outputs": [],
   "source": [
    "model.setObjective()"
   ]
  },
  {
   "cell_type": "markdown",
   "metadata": {},
   "source": [
    "## Solution and post-processing"
   ]
  },
  {
   "cell_type": "code",
   "execution_count": 11,
   "metadata": {},
   "outputs": [
    {
     "name": "stdout",
     "output_type": "stream",
     "text": [
      "Solution status: lp_optimal\n"
     ]
    }
   ],
   "source": [
    "model.solve()\n",
    "print(f'Solution status: {model.getProbStatusString()}')"
   ]
  },
  {
   "cell_type": "markdown",
   "metadata": {},
   "source": [
    "> Don't worry if it says `lp_optimal`, that is totally ok. It shouldn't say `nonconvex` though."
   ]
  }
 ],
 "metadata": {
  "kernelspec": {
   "display_name": "Python 3",
   "language": "python",
   "name": "python3"
  },
  "language_info": {
   "codemirror_mode": {
    "name": "ipython",
    "version": 3
   },
   "file_extension": ".py",
   "mimetype": "text/x-python",
   "name": "python",
   "nbconvert_exporter": "python",
   "pygments_lexer": "ipython3",
   "version": "3.7.2"
  }
 },
 "nbformat": 4,
 "nbformat_minor": 2
}
