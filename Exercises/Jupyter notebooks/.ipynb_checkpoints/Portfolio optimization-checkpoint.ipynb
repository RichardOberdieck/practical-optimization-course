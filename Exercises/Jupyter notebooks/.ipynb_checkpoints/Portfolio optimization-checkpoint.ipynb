{
 "cells": [
  {
   "cell_type": "markdown",
   "metadata": {},
   "source": [
    "# Making money with portfolio optimization\n",
    "One of the great applications of mathematical optimization is portfolio optimization, which was pioneered in 1952 by [Harry Markowitz](https://en.wikipedia.org/wiki/Harry_Markowitz) in his seminal [paper](https://www.math.ust.hk/~maykwok/courses/ma362/07F/markowitz_JF.pdf) that earned him a Nobel prize in 1990. The essence of it is that when making investment decisions, you should not simply go by the highest mean return on investment, but you also have to consider the risk associated with this.\n",
    "\n",
    "Specifically, we are interested in making as much money while ensure with $1-\\beta$ percent probability that we are not going to loose money. To model this type of  probabilistic constraint, we can use:\n",
    "\\begin{align*}\n",
    "\\bar{p}^Tx + \\Phi^{-1}(\\beta)\\left|\\left|\\sum \\limits_{i} \\Sigma x\\right|\\right|_2 \\geq 0,\n",
    "\\end{align*}\n",
    "where $\\Phi$ is the cumulative density function (CDF) of a unit Gaussian random variable, $\\Sigma$ is the covariance matrix and $x$ is the fraction of the investment amount allocated to each investment. Note that:\n",
    "\\begin{equation}\n",
    "\\left| \\left| c \\right| \\right|_2 = \\left| \\left| \\begin{bmatrix} c_1 \\\\c_2 \\\\ \\vdots \\\\ c_n \\end{bmatrix} \\right| \\right|_2 = \\sqrt{\\sum \\limits_i c_i^2}\n",
    "\\end{equation}\n",
    "is called the 2-norm (or Euclidean norm).\n",
    "\n",
    "The idea behind this constraint is the following:\n",
    "- $\\bar{p}^Tx$ denotes how much money we make on average. We now have to adjust for the uncertainty associated with our choice of $x$.\n",
    "- $\\left|\\left|\\sum \\limits_{i} \\Sigma x\\right|\\right|_2$ sums up the covariance weighted by our choice of investment $x$. In other words, the term represents teh *cumulative* risk we incur for a selection $x$.\n",
    "- $\\Phi^{-1}$ is the [quantile function](https://en.wikipedia.org/wiki/Quantile_function) and denotes \"the value of the random variable such that the probability of the variable being less than or equal to that value equals the given probability\". In other words, it answers the question \"how much would I have to shift my mean, so that I make sure that only a fraction of $\\beta$ is negative\" (check out [this plot](https://en.wikipedia.org/wiki/Quantile_function#/media/File:Probit_plot.png), it may give you some clarity).\n",
    "\n",
    "Therefore, the idea is that we force the problem to find a solution where we can make sure that we will lose money only in a $\\beta$ fraction of the cases.\n",
    "\n",
    "## Data acquisition\n",
    "So let's get some data. But let's get some real data just to make it fun (I took part of this script from [here](https://www.pythonforfinance.net/2017/01/21/investment-portfolio-optimisation-with-python/)):"
   ]
  },
  {
   "cell_type": "code",
   "execution_count": 1,
   "metadata": {},
   "outputs": [
    {
     "name": "stdout",
     "output_type": "stream",
     "text": [
      "env: XPRESS=..\n"
     ]
    }
   ],
   "source": [
    "import pandas_datareader.data as web\n",
    "import numpy as np\n",
    "import pandas as pd\n",
    "import xpress as xp\n",
    "%env XPRESS=..\n",
    "from scipy.stats import norm\n",
    "import matplotlib as plt\n",
    "from dataclasses import dataclass\n",
    "\n",
    "stocks = ['AAPL', 'AMZN', 'MSFT', 'GOOG', 'FB', 'JNJ', 'BABA', 'JPM', 'XOM', 'WMT', 'BAC', 'PFE', 'VZ', 'PG', 'T', 'BA', \n",
    "          'CSCO', 'HD', 'INTC', 'KO', 'ORCL', 'DIS', 'C', 'MCD', 'NFLX', 'IBM', 'GE', 'TSLA', 'F', 'AMD']\n",
    " \n",
    "# Download daily price data for each of the stocks in the portfolio\n",
    "data = web.DataReader(stocks,data_source='yahoo',start='01/01/2010')['Adj Close']\n",
    "data.sort_index(inplace=True)\n",
    " \n",
    "# Convert daily stock prices into daily returns\n",
    "returns = data.pct_change()\n",
    " \n",
    "# Calculate mean daily return and covariance of daily returns\n",
    "means = returns.mean()\n",
    "cov_matrix = returns.cov()\n",
    "sigma = pd.Series(np.diag(cov_matrix), index=cov_matrix.index)\n",
    "\n",
    "# If this does not work for some reason, you can also uncomment these lines and load in a dataset I downloaded:\n",
    "#df = pd.read_csv('PortfolioData.csv')\n",
    "#df.set_index('Symbols', inplace=True)\n",
    "#means = df['Mean']\n",
    "#sigma = df['Sigma']\n",
    "\n",
    "# Probability of loosing money - has to be < 0.5 otherwise the problem is non-convex\n",
    "beta = 0.05\n",
    "\n",
    "# Define the investment class\n",
    "@dataclass(frozen=True)\n",
    "class Investment:\n",
    "    name: str\n",
    "    mean: float\n",
    "    sigma: float\n",
    "\n",
    "investments = list()\n",
    "for s in stocks:\n",
    "    investments.append(Investment(s, means[s], sigma[s]))"
   ]
  },
  {
   "cell_type": "markdown",
   "metadata": {},
   "source": [
    "At this point we assume though that all the stocks are independent. This is a limiting assumption, and the formula above works for general covariance matrices. However, to keep things simple, we stick with a diagonal covariance matrix for now.\n",
    "\n",
    "As we learned by now, let's start with the model creation, variable definition and objective function.\n",
    "\n",
    "## Model creation and variable definition\n",
    "**What is needed here?**\n",
    "> Consider that you want to assign a part of your investment to a given `Investment` (listed in `investments`)"
   ]
  },
  {
   "cell_type": "code",
   "execution_count": 156,
   "metadata": {},
   "outputs": [],
   "source": []
  },
  {
   "cell_type": "markdown",
   "metadata": {},
   "source": [
    "## Objective function\n",
    "**What is needed here?**\n",
    "> Overall, we want to make as much money as possible on average for a given `Investment`."
   ]
  },
  {
   "cell_type": "code",
   "execution_count": 157,
   "metadata": {},
   "outputs": [],
   "source": []
  },
  {
   "cell_type": "markdown",
   "metadata": {},
   "source": [
    "## Enforcing investment amount\n",
    "We a fixed amount of money we can allott to all `investments`. To make our lives easy, we have normalized it to 1, and the sum of all the investments has to add up to that: **How do you write this in code?**"
   ]
  },
  {
   "cell_type": "code",
   "execution_count": 158,
   "metadata": {},
   "outputs": [],
   "source": []
  },
  {
   "cell_type": "markdown",
   "metadata": {},
   "source": [
    "Ok, so far so good. The problem is that if we simply solve this problem now, we will only go after the highest expected return and not take risk into account. To do so, we need to look at the constraint stated above:\n",
    "\n",
    "## Enforce risk limit\n",
    "Let us focus on the unknown part: $\\Phi^{-1}(\\beta)\\left|\\left|\\sum \\Sigma x\\right|\\right|$. First off, $\\Phi^{-1}(\\beta)$ is called the [...] and available through `norm.ppf` in Python. As for the 2-norm: for now we consider the covariance matrix $\\Sigma$ to be independent (i.e. no cross-terms), and so the norm equation simplifies to $\\left|\\left|\\sum \\Sigma x\\right|\\right| = \\sqrt{\\sum \\limits_i (\\sigma_ix_i)^2}$. Therefore, once we arrive at this point, we would expect to write the following:"
   ]
  },
  {
   "cell_type": "code",
   "execution_count": 159,
   "metadata": {},
   "outputs": [],
   "source": [
    "#enforce_risk_limit = xp.constraint(xp.Sum(inv.mean*x[inv] for inv in investments) \n",
    "# + norm.ppf(beta)*xp.Sum((inv.sigma*x[inv])**2 for inv in investments)**(1/2) >= 0)"
   ]
  },
  {
   "cell_type": "markdown",
   "metadata": {},
   "source": [
    "However, if you try to solve the problem with this constraint, it throws a nasty error saying that you can't do square-root of variables. But then how should we do our SOCP constraint? Shall we simply square it?\n",
    "\n",
    "\\begin{equation}\n",
    "\\bar{p}^Tx+ \\Phi^{-1}(\\beta)\\sqrt{\\sum \\limits_{i} (\\sigma_i x_i)^2} \\geq 0 \\\\\n",
    "(\\Phi^{-1}(\\beta))^2(\\sum \\limits_{i} (\\sigma_i x_i)^2) \\leq (\\bar{p}^Tx)^2\n",
    "\\end{equation}\n",
    "\n",
    "However, it you write that into Xpress, you will get that the model is non-convex! So what?\n",
    "\n",
    "Well, the answer is that we always have to reformulate any SOCP into a very specific cone, namely:\n",
    "\\begin{equation}\n",
    "x \\succeq 0 \\leftrightarrow x_1 \\geq \\sqrt{\\left(x_2^2 + x_3^2 + ... x_n^2\\right)} = \\sqrt{\\sum \\limits_{i=2}^{n} x_i^2}\n",
    "\\end{equation}\n",
    "\n",
    "Therefore, let's create an auxiliary variable that mimics the remaining terms. Let $x_{all} = \\bar{p}^Tx$. Then:\n",
    "\\begin{equation}\n",
    "\\bar{p}^Tx+ \\Phi^{-1}(\\beta)\\left|\\left| \\Sigma x\\right|\\right|_2 \\geq 0\n",
    "\\end{equation}\n",
    "\n",
    "Since $\\Phi^{-1}(\\beta) < 0$ (due to $\\beta < 0.5$), we can move it to the other side and square each side without affecting the validity of the inequality:\n",
    "\\begin{equation}\n",
    "(\\Phi^{-1}(\\beta))^2(\\sigma_0x_0^2 + \\sigma_1x_1^2 + \\sigma_2x_2^2) \\leq x_{all}^2\n",
    "\\end{equation}\n",
    "\n",
    "**Write this in code**"
   ]
  },
  {
   "cell_type": "code",
   "execution_count": 160,
   "metadata": {},
   "outputs": [],
   "source": [
    "norm.ppf(beta)"
   ]
  },
  {
   "cell_type": "markdown",
   "metadata": {},
   "source": [
    "## Solve the model and post-process the result"
   ]
  },
  {
   "cell_type": "code",
   "execution_count": 161,
   "metadata": {},
   "outputs": [
    {
     "name": "stdout",
     "output_type": "stream",
     "text": [
      "Solution string: lp_optimal\n"
     ]
    }
   ],
   "source": [
    "model.solve()\n",
    "\n",
    "print(f'Solution string: {model.getProbStatusString()}')"
   ]
  },
  {
   "cell_type": "markdown",
   "metadata": {},
   "source": [
    "Now that we have the solution, we should validate that we described the probability constraint correctly. How do we do this? Well, the simple answer is: we sample for a Gaussian distribution with the specified mean and standard deviation, and evaluate the constraint. It should be violated less than $\\beta$ percent of the time."
   ]
  },
  {
   "cell_type": "code",
   "execution_count": 162,
   "metadata": {},
   "outputs": [
    {
     "name": "stdout",
     "output_type": "stream",
     "text": [
      "Satisfaction: 945/1000\n"
     ]
    }
   ],
   "source": [
    "n = 1000\n",
    "samples = {inv : np.random.normal(inv.mean, inv.sigma, n) for inv in investments}\n",
    "satisfied = 0\n",
    "for k in range(n):\n",
    "    if np.sum([samples[inv][k]*model.getSolution(x[inv]) for inv in investments]) >= 0:\n",
    "        satisfied += 1\n",
    "\n",
    "print(f'Satisfaction: {satisfied}/{n}')"
   ]
  },
  {
   "cell_type": "code",
   "execution_count": 15,
   "metadata": {},
   "outputs": [],
   "source": [
    "means.name = \"Mean\"\n",
    "sigma.name = \"Sigma\"\n",
    "\n",
    "df = pd.concat([means, sigma], axis=1)\n",
    "df.to_csv('PortfolioData.csv')"
   ]
  }
 ],
 "metadata": {
  "kernelspec": {
   "display_name": "Python 3",
   "language": "python",
   "name": "python3"
  },
  "language_info": {
   "codemirror_mode": {
    "name": "ipython",
    "version": 3
   },
   "file_extension": ".py",
   "mimetype": "text/x-python",
   "name": "python",
   "nbconvert_exporter": "python",
   "pygments_lexer": "ipython3",
   "version": "3.7.2"
  }
 },
 "nbformat": 4,
 "nbformat_minor": 2
}
