{
 "cells": [
  {
   "cell_type": "markdown",
   "metadata": {},
   "source": [
    "# Two tank problem\n",
    "Now we look at the two-tank problem. In essence, it is exactly the same problem as the one-tank problem. First, let's look at the dynamics:\n",
    "- We now have two states $x^A$, i.e. the volume of tank A and $x^B$, i.e. the volume of tank B.\n",
    "- We also have two control variables: $u^A$ and $u^B$, which are the inflows into tank A and B, respectively.\n",
    "\n",
    "This leads to the following state-space equation:\n",
    "\\begin{align}\n",
    "x^A_{k+1} &= x^A_{k} + u^A_{k} - u^B_k\\\\\n",
    "x^B_{k+1} &= x^B_k + u^B_{k}\n",
    "\\end{align}\n",
    "\n",
    "In addition, we have the constraint that everything has to stay at least for one time period in the tank. Assuming \"first-in first-out\", we get that $u^B_k \\leq  x^A_k$, i.e. that we can only have an outflow of tank B that can be at most as large as what is currently in the tank, and not anything of what has been added with $u^A_k$.\n",
    "\n",
    "## Initialization and some definitions"
   ]
  },
  {
   "cell_type": "code",
   "execution_count": 20,
   "metadata": {},
   "outputs": [],
   "source": [
    "import xpress as xp\n",
    "#%env XPRESS=..\n",
    "import matplotlib.pyplot as plt\n",
    "from matplotlib.ticker import MaxNLocator\n",
    "\n",
    "model = xp.problem(\"Two tank problem\")\n",
    "\n",
    "# Parameter definition\n",
    "N = 20\n",
    "NxRange = range(N+1)\n",
    "NuRange = range(N)\n",
    "xref = 5\n",
    "x0 = 0\n",
    "uB0 = 0"
   ]
  },
  {
   "cell_type": "markdown",
   "metadata": {},
   "source": [
    "Now let's define the variables. Specifically, we need to duplicate what we did in the `MPC.ipynb` example, i.e. we have to do that for two tanks:"
   ]
  },
  {
   "cell_type": "code",
   "execution_count": 21,
   "metadata": {},
   "outputs": [],
   "source": [
    "xA = {k : xp.var(vartype = xp.continuous, lb = 0, ub = 7, name = f'Volume of A at {k}') for k in NxRange}\n",
    "xB = {k : xp.var(vartype = xp.continuous, lb = 0, ub = 7, name = f'Volume of B at {k}') for k in NxRange}\n",
    "uA = {k : xp.var(vartype = xp.continuous, lb = 0, ub = 1, name = f'Inflow into A at {k}') for k in NuRange}\n",
    "uB = {k : xp.var(vartype = xp.continuous, lb = 0, ub = 1, name = f'Inflow into B at {k}') for k in NuRange}\n",
    "\n",
    "model.addVariable(xA,xB,uA,uB)"
   ]
  },
  {
   "cell_type": "markdown",
   "metadata": {},
   "source": [
    "Next, we have to define the dynamics of the tanks. Specifically, we have the mass balance for tank $A$ and $B$ (remember to define also the special case for $t=0$ for $A$):"
   ]
  },
  {
   "cell_type": "code",
   "execution_count": 22,
   "metadata": {},
   "outputs": [],
   "source": [
    "dynamics_tank_A = (xp.constraint(xA[k+1] == xA[k] + uA[k] - uB[k], name = f'Dynamics for tank A at {k}')\n",
    "                  for k in range(N))\n",
    "dynamics_tank_B = (xp.constraint(xB[k+1] == xB[k] + uB[k], name = f'Dynamics for tank B at {k}')\n",
    "                  for k in range(N))"
   ]
  },
  {
   "cell_type": "markdown",
   "metadata": {},
   "source": [
    "Ok, so now we tackle the constraints we did not have in the first tank example. Specifically, we want to write that the maximum change in inflow between two time periods is less than 250. From a mathematical perspective, this leads to $\\left|u_k - u_{k-1}\\right| \\leq 250$. Since we cannot use the absolute value, we have to reformulate this to the following:\n",
    "\\begin{align}\n",
    "-250 \\leq u_k - u_{k-1} \\leq 250, \\hspace{0.3cm} \\forall k > 0\n",
    "\\end{align}"
   ]
  },
  {
   "cell_type": "code",
   "execution_count": 23,
   "metadata": {},
   "outputs": [],
   "source": [
    "inflow_limit_A = (xp.constraint(-0.25 <= uA[k] - uA[k-1] <= 0.25, name=f'Inflow limit for A at {k}')\n",
    "               for k in range(N) if k > 0)\n",
    "inflow_limit_B = (xp.constraint(-0.25 <= uB[k] - uB[k-1] <= 0.25, name=f'Inflow limit for B at {k}')\n",
    "               for k in range(N) if k > 0)"
   ]
  },
  {
   "cell_type": "markdown",
   "metadata": {},
   "source": [
    "Lastly, we have the constraint that we have to stay at least one time period in tank A. If we assume that \"first-in first-out\" holds (as it is reasonable due to the setup of the system), this can be translated into: $u^B_k \\leq x^A_k$. In other words, at time $k$ I can only take out things that were already in there when I started. In code, this translates to:"
   ]
  },
  {
   "cell_type": "code",
   "execution_count": 24,
   "metadata": {},
   "outputs": [],
   "source": [
    "min_residence_time = (xp.constraint(uB[k] <= xA[k], name = f'Min residence time for {k}') for k in range(N))\n",
    "\n",
    "model.addConstraint(dynamics_tank_A, dynamics_tank_A_at_0, dynamics_tank_B, inflow_limit_A, inflow_limit_B, min_residence_time)"
   ]
  },
  {
   "cell_type": "markdown",
   "metadata": {},
   "source": [
    "## Cost function\n",
    "This is basically the same as the previous example:"
   ]
  },
  {
   "cell_type": "code",
   "execution_count": 25,
   "metadata": {},
   "outputs": [],
   "source": [
    "model.setObjective(xp.Sum((xA[k] - xref)**2 + (xB[k] - xref)**2 for k in range(N+1)))"
   ]
  },
  {
   "cell_type": "markdown",
   "metadata": {},
   "source": [
    "## Initial conditions\n",
    "As before, we have to define the initial conditions of our system:"
   ]
  },
  {
   "cell_type": "code",
   "execution_count": 26,
   "metadata": {},
   "outputs": [],
   "source": [
    "initial_A = xp.constraint(xA[0] == x0, name='Initial condition for A')\n",
    "initial_B = xp.constraint(xB[0] == x0, name='Initial condition for B')\n",
    "\n",
    "model.addConstraint(initial_A, initial_B)"
   ]
  },
  {
   "cell_type": "markdown",
   "metadata": {},
   "source": [
    "## Solution and post-processing"
   ]
  },
  {
   "cell_type": "code",
   "execution_count": 30,
   "metadata": {},
   "outputs": [
    {
     "data": {
      "image/png": "[encoded data removed]",
      "text/plain": [
       "<Figure size 432x288 with 1 Axes>"
      ]
     },
     "metadata": {
      "needs_background": "light"
     },
     "output_type": "display_data"
    }
   ],
   "source": [
    "model.solve();\n",
    "ax = plt.figure().gca()\n",
    "plt.plot(range(N),[model.getSolution(uA[k]) for k in range(N)],label=\"u^A\")\n",
    "plt.plot(range(N+1),[model.getSolution(xA[k]) for k in range(N+1)],label=\"x^A\")\n",
    "plt.plot(range(N),[model.getSolution(uB[k]) for k in range(N)],label=\"u^B\")\n",
    "plt.plot(range(N+1),[model.getSolution(xB[k]) for k in range(N+1)],label=\"x^B\")\n",
    "plt.legend(bbox_to_anchor=(1.5, 1));\n",
    "plt.xlabel(\"Time step\")\n",
    "plt.ylabel(\"L\")\n",
    "ax.xaxis.set_major_locator(MaxNLocator(integer=True))"
   ]
  }
 ],
 "metadata": {
  "kernelspec": {
   "display_name": "Python 3",
   "language": "python",
   "name": "python3"
  },
  "language_info": {
   "codemirror_mode": {
    "name": "ipython",
    "version": 3
   },
   "file_extension": ".py",
   "mimetype": "text/x-python",
   "name": "python",
   "nbconvert_exporter": "python",
   "pygments_lexer": "ipython3",
   "version": "3.7.2"
  }
 },
 "nbformat": 4,
 "nbformat_minor": 2
}
