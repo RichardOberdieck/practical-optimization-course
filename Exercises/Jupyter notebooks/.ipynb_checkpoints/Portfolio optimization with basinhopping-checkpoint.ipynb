{
 "cells": [
  {
   "cell_type": "markdown",
   "metadata": {},
   "source": [
    "# Do portfolio optimization with basinhopping\n",
    "Let's try to do our previous example of portfolio optimization using basinhopping:\n",
    "\\begin{equation}\n",
    "\\begin{array}{ll}\n",
    "\\underset{\\{x_k, \\forall k\\}}{\\text{maximize}} & \\sum \\limits_{k} \\bar{p}_kx_k \\\\\n",
    "\\text{subject to} & \\bar{p}^Tx + \\Phi^{-1}(\\beta)\\left|\\left|\\sum \\limits_{i} \\sigma_i x_i\\right|\\right|_2 \\geq \\alpha \\\\\n",
    "& \\sum \\limits_k x_k = 1 \\\\\n",
    "& x_k \\in [0,1], \\hspace{0.3cm} \\forall k\n",
    "\\end{array}\n",
    "\\end{equation}\n",
    "\n",
    "The data is given as:\n",
    "- $\\bar{p}_1 = 1$; $\\sigma = 2$\n",
    "- $\\bar{p}_2 = 0.5$; $\\sigma = 0.3$\n",
    "- $\\bar{p}_3 = 5$; $\\sigma = 13$\n",
    "- $\\alpha = 0$; $\\beta = 0.05$"
   ]
  },
  {
   "cell_type": "code",
   "execution_count": 2,
   "metadata": {},
   "outputs": [],
   "source": [
    "# Load the solver\n",
    "from scipy.optimize import basinhopping\n",
    "import numpy as np\n",
    "from scipy.stats import norm\n",
    "\n",
    "# Parameter definition\n",
    "pbar = [1, 0.5, 5]\n",
    "sigma = [2, 0.3, 13]\n",
    "alpha = 0\n",
    "beta = 0.05\n",
    "N = len(pbar)"
   ]
  },
  {
   "cell_type": "markdown",
   "metadata": {},
   "source": [
    "## Define the objective function"
   ]
  },
  {
   "cell_type": "code",
   "execution_count": 3,
   "metadata": {},
   "outputs": [],
   "source": [
    "# Define the objective and initial guess [maximization becomes minimization via a minus]\n",
    "func = lambda x: -pbar[0]*x[0] - pbar[1]*x[1] - pbar[2]*x[2]\n",
    "x0=[0.5, 0.5, 0]"
   ]
  },
  {
   "cell_type": "markdown",
   "metadata": {},
   "source": [
    "## Define the constraints"
   ]
  },
  {
   "cell_type": "code",
   "execution_count": 11,
   "metadata": {},
   "outputs": [],
   "source": [
    "scaling = norm.ppf(beta);\n",
    "cons = ({'type': 'ineq', 'fun': lambda x:  x[0]},\n",
    "        {'type': 'ineq', 'fun': lambda x:  x[1]},\n",
    "        {'type': 'ineq', 'fun': lambda x:  x[2]},\n",
    "        {'type': 'eq', 'fun': lambda x:  x[0] + x[1] + x[2] - 1},\n",
    "        {'type': 'ineq', 'fun': lambda x: pbar[0] * x[0] + pbar[1] * x[1] + pbar[2] * x[2] + scaling*((sigma[0]*(x[0]**2) + sigma[1]*(x[1]**2)+ sigma[2]*(x[2]**2))**(1/2)) - alpha})"
   ]
  },
  {
   "cell_type": "code",
   "execution_count": 14,
   "metadata": {},
   "outputs": [
    {
     "name": "stdout",
     "output_type": "stream",
     "text": [
      "global minimum: x[0] = 0.3060, x[1] = 0.3315, x[2] = 0.3625\n"
     ]
    }
   ],
   "source": [
    "minimizer_kwargs = {\"constraints\": cons}\n",
    "ret = basinhopping(func, x0, minimizer_kwargs=minimizer_kwargs, niter=200)\n",
    "print(\"global minimum: x[0] = %.4f, x[1] = %.4f, x[2] = %.4f\" % (ret.x[0], ret.x[1], ret.x[2]))"
   ]
  }
 ],
 "metadata": {
  "kernelspec": {
   "display_name": "Python 3",
   "language": "python",
   "name": "python3"
  },
  "language_info": {
   "codemirror_mode": {
    "name": "ipython",
    "version": 3
   },
   "file_extension": ".py",
   "mimetype": "text/x-python",
   "name": "python",
   "nbconvert_exporter": "python",
   "pygments_lexer": "ipython3",
   "version": "3.6.6"
  }
 },
 "nbformat": 4,
 "nbformat_minor": 2
}
