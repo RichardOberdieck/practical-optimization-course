{
 "cells": [
  {
   "cell_type": "markdown",
   "metadata": {},
   "source": [
    "# Nurse scheduling\n",
    "Companies that operate 24 hours a day, seven days a week, such as factories or hospitals, need to solve a common problem: how to schedule workers in multiple daily shifts so that each shift is staffed by enough workers to maintain operations. In this next example, a hospital supervisor needs to create a weekly schedule for four nurses, subject to the following conditions:\n",
    "- Each day is divided into three 8-hour shifts.\n",
    "- On each day, all nurses are assigned to different shifts and one nurse has the day off.\n",
    "- Each nurse works five or six days a week.\n",
    "- No shift is staffed by more than two different nurses in a week.\n",
    "- If a nurse works shifts 2 or 3 on a given day, he must also work the same shift either the previous day or the following day.\n",
    "\n",
    "## Variable definition, initialization and data\n",
    "We start off by defining an appropriate binary variable $x_{d,s,n}$ which equals to $1$ if a nurse $n$ is taking shift $s$ on day $d$."
   ]
  },
  {
   "cell_type": "code",
   "execution_count": 1,
   "metadata": {},
   "outputs": [],
   "source": [
    "from docplex.mp.model import Model\n",
    "import numpy as np\n",
    "import math\n",
    "from sys import stdout\n",
    "\n",
    "mdl = Model(\"Nurse scheduling\")\n",
    "nDays = 7\n",
    "nShifts = 4 # We set the first shift (=0) as the off day\n",
    "nNurses = 4\n",
    "\n",
    "DRange = range(nDays)\n",
    "SRange = range(nShifts)\n",
    "NRange = range(nNurses)\n",
    "\n",
    "x = mdl.binary_var_cube(nDays,nShifts,nNurses,name='x')"
   ]
  },
  {
   "cell_type": "markdown",
   "metadata": {},
   "source": [
    "## Constraint definition\n",
    "Let's start with the \"On each day, all nurses are assigned to different shifts and one nurse has the day off\". This are in fact two constraints:\n",
    "- Each shift has to have exactly one nurse: $\\sum \\limits_{s} x_{d,s,n} = 1, \\hspace{0.3cm} \\forall d,n$\n",
    "- Each nurse has to have exactly one shift.$\\sum \\limits_{n} x_{d,s,n} = 1, \\hspace{0.3cm} \\forall d,s$"
   ]
  },
  {
   "cell_type": "code",
   "execution_count": 2,
   "metadata": {},
   "outputs": [],
   "source": [
    "mdl.add_constraints([mdl.sum(x[d,s,n] for s in SRange) == 1,\n",
    "                     'Assign all nurses (day %s, nurse %s)' % (d,n)] for d in DRange for n in NRange);\n",
    "mdl.add_constraints([mdl.sum(x[d,s,n] for n in NRange) == 1,\n",
    "                    'Assign all nurses (day %s, shift %s)' % (d,s)] for d in DRange for s in SRange);"
   ]
  },
  {
   "cell_type": "markdown",
   "metadata": {},
   "source": [
    "Next, we look at \"Each nurse works five or six days a week.\". This means conversely that she has to have one or two days off if we sum over all week days:\n",
    "\\begin{align}\n",
    "1 \\leq \\sum \\limits_{d} x_{d,0,n} \\leq 2, \\hspace{0.3cm} \\forall n\n",
    "\\end{align}"
   ]
  },
  {
   "cell_type": "code",
   "execution_count": 3,
   "metadata": {},
   "outputs": [],
   "source": [
    "mdl.add_constraints([mdl.sum(x[d,0,n] for d in DRange) >= 1,'LB for day-off for nurse %s' % n] for n in NRange)\n",
    "mdl.add_constraints([mdl.sum(x[d,0,n] for d in DRange) <= 2,'UB for day-off for nurse %s' % n] for n in NRange);"
   ]
  },
  {
   "cell_type": "markdown",
   "metadata": {},
   "source": [
    "Next, we have \"No shift is staffed by more than two different nurses in a week.\". We could do this with normal linear constraints, but it is much more elegant to simply use CPLEX's build-in routines:\n",
    "\\begin{align}\n",
    "\\sum \\limits_{n} (\\sum \\limits_{d} x_{d,s,n} \\geq 1) \\leq 2\n",
    "\\end{align}\n",
    "where the round brackets denote a logical expression in CPLEX."
   ]
  },
  {
   "cell_type": "code",
   "execution_count": 4,
   "metadata": {},
   "outputs": [],
   "source": [
    "mdl.add_constraints([mdl.sum((mdl.sum(x[d,s,n] for d in DRange) >=1) for n in NRange) <= 2, \n",
    "                     'Limit number of nurses for shift %s' % s] for s in SRange if s > 0);"
   ]
  },
  {
   "cell_type": "markdown",
   "metadata": {},
   "source": [
    "Lastly, we have that \"If a nurse works shifts 2 or 3 on a given day, he must also work the same shift either the previous day or the following day.\". This is an `if-then` constraint and therefore we model it as such in CPLEX. Note that we have to differentiate between the first and last day due to the `+1` and `-1`"
   ]
  },
  {
   "cell_type": "code",
   "execution_count": 5,
   "metadata": {},
   "outputs": [],
   "source": [
    "for s in SRange:\n",
    "    if s <= 1:\n",
    "        continue\n",
    "    for n in NRange:\n",
    "        for d in DRange:\n",
    "            if d == 0:\n",
    "                mdl.add_if_then(x[d,s,n] == 1,x[d+1,s,n] == 1)\n",
    "            elif d < nDays - 1:\n",
    "                mdl.add_if_then(x[d,s,n]== 1, mdl.logical_or(x[d-1,s,n],x[d+1,s,n]) == 1)\n",
    "            else:\n",
    "                mdl.add_if_then(x[d,s,n] == 1, x[d-1,s,n] == 1)"
   ]
  },
  {
   "cell_type": "markdown",
   "metadata": {},
   "source": [
    "## Solving it and post-processing"
   ]
  },
  {
   "cell_type": "code",
   "execution_count": 6,
   "metadata": {},
   "outputs": [
    {
     "name": "stdout",
     "output_type": "stream",
     "text": [
      "off    :  3 3 1 1 4 2 2\n",
      "shift 1:  4 4 4 4 1 4 4\n",
      "shift 2:  2 2 2 2 2 3 3\n",
      "shift 3:  1 1 3 3 3 1 1\n"
     ]
    }
   ],
   "source": [
    "mdl.solve()\n",
    "\n",
    "xVal = mdl.solution.get_value_dict(x)\n",
    "_all_shifts = [\"off    \", \"shift 1\", \"shift 2\", \"shift 3\"]\n",
    "\"\"\" Printing schedule \"\"\"\n",
    "for s in SRange:\n",
    "    if (s > 0):\n",
    "        stdout.write('\\n')\n",
    "    stdout.write('%s: ' % _all_shifts[s])\n",
    "    for d in DRange:\n",
    "        stdout.write(' ')\n",
    "        for n in NRange:\n",
    "            if (xVal[d,s,n] >= 0.5):\n",
    "                stdout.write(str(n+1))\n",
    "stdout.write('\\n')"
   ]
  },
  {
   "cell_type": "markdown",
   "metadata": {},
   "source": [
    "## Introducing nurse data\n",
    "Now we use the data given in the handout to optimize our schedule (previously, it was a constraint satisfaction problem):"
   ]
  },
  {
   "cell_type": "code",
   "execution_count": 7,
   "metadata": {},
   "outputs": [],
   "source": [
    "mdl = Model(\"Nurse scheduling with data\")\n",
    "Nurses = [(\"Anne\", 4000, 4, 8000),\n",
    "          (\"Martin\", 3800, 6, 7000),\n",
    "          (\"Julie\", 5500, 5, 10000),\n",
    "          (\"David\", 6000, 5, 7000)]\n",
    "\n",
    "nDays = 7\n",
    "nShifts = 4 # We set the first shift (=0) as the off day\n",
    "nNurses = len(Nurses)\n",
    "\n",
    "DRange = range(nDays)\n",
    "SRange = range(nShifts)\n",
    "NRange = range(nNurses)\n",
    "\n",
    "x = mdl.binary_var_cube(nDays,nShifts,nNurses,name='x')\n",
    "\n",
    "mdl.add_constraints([mdl.sum(x[d,s,n] for s in SRange) == 1,\n",
    "                     'Assign all nurses (day %s, nurse %s)' % (d,n)] for d in DRange for n in NRange);\n",
    "mdl.add_constraints([mdl.sum(x[d,s,n] for n in NRange) == 1,\n",
    "                    'Assign all nurses (day %s, shift %s)' % (d,s)] for d in DRange for s in SRange);\n",
    "mdl.add_constraints([mdl.sum(x[d,0,n] for d in DRange) >= 1,'LB for day-off for nurse %s' % n] for n in NRange)\n",
    "mdl.add_constraints([mdl.sum(x[d,0,n] for d in DRange) <= 2,'UB for day-off for nurse %s' % n] for n in NRange);\n",
    "mdl.add_constraints([mdl.sum((mdl.sum(x[d,s,n] for d in DRange) >=1) for n in NRange) <= 2, \n",
    "                     'Limit number of nurses for shift %s' % s] for s in SRange if s > 0);\n",
    "for s in SRange:\n",
    "    if s <= 1:\n",
    "        continue\n",
    "    for n in NRange:\n",
    "        for d in DRange:\n",
    "            if d == 0:\n",
    "                mdl.add_constraint(mdl.if_then(x[d,s,n] == 1,x[d+1,s,n] == 1))\n",
    "            elif d < nDays - 1:\n",
    "                mdl.add_constraint(mdl.if_then(x[d,s,n]== 1, mdl.logical_or(x[d-1,s,n],x[d+1,s,n]) == 1))\n",
    "            else:\n",
    "                mdl.add_constraint(mdl.if_then(x[d,s,n] == 1, x[d-1,s,n] == 1))"
   ]
  },
  {
   "cell_type": "markdown",
   "metadata": {},
   "source": [
    "### The objective function and overtime rate\n",
    "The objective function in this case is simply to minimze the overall costs. However, we have the distinction of working overtime or not. To model this, we first introduce an integer variable $y$ which denotes how many overtime shifts have been worked. To enforce this, we also introduce the following constraint:\n",
    "\\begin{align}\n",
    "\\text{if} \\left(\\sum \\limits_{d,s} x_{d,s,n} \\geq \\text{Limit}_n\\right) \\text{ then } \\left(y = \\sum \\limits_{d,s} x_{d,s,n} - \\text{Limit}_n\\right)\n",
    "\\end{align}\n",
    "where $\\text{Limit}_n$ is the maximum number of shifts per week for nurse $n$. Technically, we would have to introduce a constraint that $y = 0$ if $\\sum \\limits_{d,s} x_{d,s,n} \\leq \\text{Limit}_n$. However, due to the fact that overtime hours are always more expensive then regular hours, this is not needed.\n",
    "\n",
    "However, such omissions often cause problems later down the line, in case something unexpected changes. Therefore you should always keep track of what assumptions you make in your model."
   ]
  },
  {
   "cell_type": "code",
   "execution_count": 8,
   "metadata": {},
   "outputs": [],
   "source": [
    "y = mdl.integer_var_list(nNurses, name='OvertimeHours',lb=0,ub=(nShifts-1)*(nDays-1))\n",
    "\n",
    "for n in NRange:\n",
    "    mdl.add_constraint(mdl.if_then(mdl.sum(x[d,s,n] for d in DRange for s in SRange if s > 0) >= Nurses[n][2], \n",
    "                                  y[n] == mdl.sum(x[d,s,n] for d in DRange for s in SRange if s > 0) - Nurses[n][2]),\n",
    "                       'OvertimeDefinition nurse %s' % Nurses[n][0])\n"
   ]
  },
  {
   "cell_type": "markdown",
   "metadata": {},
   "source": [
    "Now, we can define the objective function as follows:\n",
    "\\begin{align}\n",
    "\\sum \\limits_{n} c_n^{regular}\\left(\\sum \\limits_{d,s} x_{d,s,n} - y_n\\right) + c_n^{overtime}y_n\n",
    "\\end{align}"
   ]
  },
  {
   "cell_type": "code",
   "execution_count": 9,
   "metadata": {},
   "outputs": [],
   "source": [
    "mdl.minimize(mdl.sum(Nurses[n][1]*mdl.sum(x[d,s,n] for d in DRange for S in SRange if s > 0) + \n",
    "                     (Nurses[n][3] - Nurses[n][1])*y[n] for n in NRange))"
   ]
  },
  {
   "cell_type": "markdown",
   "metadata": {},
   "source": [
    "### Solution and post-processing"
   ]
  },
  {
   "cell_type": "code",
   "execution_count": 10,
   "metadata": {},
   "outputs": [
    {
     "name": "stdout",
     "output_type": "stream",
     "text": [
      "off    :  Julie Julie Anne Anne Martin David David\n",
      "shift 1:  David David David David David Martin Martin\n",
      "shift 2:  Anne Anne Julie Julie Julie Julie Julie\n",
      "shift 3:  Martin Martin Martin Martin Anne Anne Anne\n"
     ]
    }
   ],
   "source": [
    "mdl.solve()\n",
    "\n",
    "xVal = mdl.solution.get_value_dict(x)\n",
    "_all_shifts = [\"off    \", \"shift 1\", \"shift 2\", \"shift 3\"]\n",
    "\"\"\" Printing schedule \"\"\"\n",
    "for s in SRange:\n",
    "    if (s > 0):\n",
    "        stdout.write('\\n')\n",
    "    stdout.write('%s: ' % _all_shifts[s])\n",
    "    for d in DRange:\n",
    "        stdout.write(' ')\n",
    "        for n in NRange:\n",
    "            if (xVal[d,s,n] >= 0.5):\n",
    "                stdout.write(Nurses[n][0])\n",
    "stdout.write('\\n')"
   ]
  },
  {
   "cell_type": "markdown",
   "metadata": {},
   "source": [
    "Now however, let's also look at the overtimes:"
   ]
  },
  {
   "cell_type": "code",
   "execution_count": 47,
   "metadata": {},
   "outputs": [
    {
     "name": "stdout",
     "output_type": "stream",
     "text": [
      "Number of overtime hours:\n",
      "Anne: 1.0 \n",
      "Martin: 0 \n",
      "Julie: 0 \n",
      "David: 0 \n"
     ]
    }
   ],
   "source": [
    "yVal = mdl.solution.get_values(y)\n",
    "\n",
    "stdout.write('Number of overtime hours:\\n')\n",
    "for n in NRange:\n",
    "    stdout.write('%s: %s \\n' % (Nurses[n][0],yVal[n]))"
   ]
  },
  {
   "cell_type": "markdown",
   "metadata": {},
   "source": [
    "## New data and incompatibility\n",
    "Finally, we take the new data and model the incompatibility. While we could do this using an `if-then` statement like before, the constraints lends itself more towards a standard exclusion constraint, i.e. $x_i + x_j \\leq 1$.\n",
    "\n",
    "But first, let's setup the model again. Let's remember though that we have to:\n",
    "1. Ensure that we have 2 nurses per shift\n",
    "2. For the constraint \"No shift is staffed by more than two different nurses in a week.\", we have 4 different nurses now."
   ]
  },
  {
   "cell_type": "code",
   "execution_count": 127,
   "metadata": {},
   "outputs": [],
   "source": [
    "mdl = Model(\"Nurse scheduling with additional data\")\n",
    "Nurses = [(\"Anne\", 4000, 4, 8000),\n",
    "          (\"Martin\", 3800, 6, 7000),\n",
    "          (\"Julie\", 5500, 5, 10000),\n",
    "          (\"David\", 6000, 5, 7000),\n",
    "          (\"Jenny\", 5000, 3, math.inf, (\"Anne,Julie\")),\n",
    "          (\"Patrik\", 6500, 6, 9000, (\"Mie,David\")),\n",
    "          (\"Mie\", 4500, 7, 8000, (\"Patrik\")),\n",
    "          (\"Rasmus\", 6000, 6, 9000, (\"Jenny,Anne\"))]\n",
    "\n",
    "nDays = 7\n",
    "nShifts = 4 # We set the first shift (=0) as the off day\n",
    "nNurses = len(Nurses)\n",
    "\n",
    "DRange = range(nDays)\n",
    "SRange = range(nShifts)\n",
    "NRange = range(nNurses)\n",
    "\n",
    "x = mdl.binary_var_cube(nDays,nShifts,nNurses,name='x')\n",
    "\n",
    "mdl.add_constraints([mdl.sum(x[d,s,n] for s in SRange) == 1,\n",
    "                     'Assign all nurses (day %s, nurse %s)' % (d,n)] for d in DRange for n in NRange);\n",
    "mdl.add_constraints([mdl.sum(x[d,s,n] for n in NRange) == 2,\n",
    "                    'Assign all nurses (day %s, shift %s)' % (d,s)] for d in DRange for s in SRange);\n",
    "mdl.add_constraints([mdl.sum(x[d,0,n] for d in DRange) >= 1,'LB for day-off for nurse %s' % n] for n in NRange)\n",
    "mdl.add_constraints([mdl.sum(x[d,0,n] for d in DRange) <= 2,'UB for day-off for nurse %s' % n] for n in NRange);\n",
    "mdl.add_constraints([mdl.sum((mdl.sum(x[d,s,n] for d in DRange) >=1) for n in NRange) <= 4, \n",
    "                     'Limit number of nurses for shift %s' % s] for s in SRange if s > 0);\n",
    "\n",
    "for s in SRange:\n",
    "    if s <= 1:\n",
    "        continue\n",
    "    for n in NRange:\n",
    "        for d in DRange:\n",
    "            if d == 0:\n",
    "                mdl.add_if_then(x[d,s,n] == 1,x[d+1,s,n] == 1)\n",
    "            elif d < nDays - 1:\n",
    "                mdl.add_if_then(x[d,s,n]== 1, mdl.logical_or(x[d-1,s,n],x[d+1,s,n]) == 1)\n",
    "            else:\n",
    "                mdl.add_if_then(x[d,s,n] == 1, x[d-1,s,n] == 1)\n",
    "                \n",
    "y = mdl.integer_var_list(nNurses, name='OvertimeHours',lb=0,ub=(nShifts-1)*(nDays-1))\n",
    "for n in NRange:\n",
    "    mdl.add_constraint(mdl.if_then(mdl.sum(x[d,s,n] for d in DRange for s in SRange if s > 0) >= Nurses[n][2], \n",
    "                                  y[n] == mdl.sum(x[d,s,n] for d in DRange for s in SRange if s > 0) - Nurses[n][2]),\n",
    "                       'OvertimeDefinition nurse %s' % Nurses[n][0])\n",
    "mdl.minimize(mdl.sum(Nurses[n][1]*mdl.sum(x[d,s,n] for d in DRange for S in SRange if s > 0) + \n",
    "                     (Nurses[n][3] - Nurses[n][1])*y[n] for n in NRange))"
   ]
  },
  {
   "cell_type": "markdown",
   "metadata": {},
   "source": [
    "Now, we add the incompatibility constraints. Since the incompatibility is not symmetrically recorded (i.e. Patrik does not wnat to work with David, but David has no problem with Patrik), we have to go through each one and add them. If this was a proper application, we would then weed out any duplicates using `HashSet` or something similar."
   ]
  },
  {
   "cell_type": "code",
   "execution_count": 128,
   "metadata": {},
   "outputs": [
    {
     "name": "stdout",
     "output_type": "stream",
     "text": [
      "Anne\n",
      "Julie\n",
      "Mie\n",
      "David\n",
      "Patrik\n",
      "Jenny\n",
      "Anne\n"
     ]
    }
   ],
   "source": [
    "for n in NRange:\n",
    "    if (len(Nurses[n]) < 5):\n",
    "        continue # Only if there are incompatibilities\n",
    "    \n",
    "    incomp = Nurses[n][4].split(',')\n",
    "    for k in incomp:\n",
    "        for n2 in NRange:\n",
    "            if k == Nurses[n2][0]:\n",
    "                print(k)\n",
    "                mdl.add_constraints([x[d,s,n] + x[d,s,n2] <= 1, 'Incompatibility %s and %s' % (Nurses[n][0],k)]\n",
    "                                 for d in DRange for s in SRange if s > 0)"
   ]
  },
  {
   "cell_type": "code",
   "execution_count": 129,
   "metadata": {},
   "outputs": [
    {
     "name": "stdout",
     "output_type": "stream",
     "text": [
      "off    :  MartinRasmus MartinRasmus AnneMie JuliePatrik JennyPatrik DavidJenny JulieDavid\n",
      "shift 1:  JulieMie JulieMie MartinJulie MartinJenny MartinJulie MartinJulie MartinJenny\n",
      "shift 2:  JennyPatrik JennyPatrik JennyPatrik AnneMie AnneMie AnneMie AnneMie\n",
      "shift 3:  AnneDavid AnneDavid DavidRasmus DavidRasmus DavidRasmus PatrikRasmus PatrikRasmus\n"
     ]
    }
   ],
   "source": [
    "mdl.solve()\n",
    "\n",
    "xVal = mdl.solution.get_value_dict(x)\n",
    "_all_shifts = [\"off    \", \"shift 1\", \"shift 2\", \"shift 3\"]\n",
    "\"\"\" Printing schedule \"\"\"\n",
    "for s in SRange:\n",
    "    if (s > 0):\n",
    "        stdout.write('\\n')\n",
    "    stdout.write('%s: ' % _all_shifts[s])\n",
    "    for d in DRange:\n",
    "        stdout.write(' ')\n",
    "        for n in NRange:\n",
    "            if (xVal[d,s,n] >= 0.5):\n",
    "                stdout.write(Nurses[n][0])\n",
    "stdout.write('\\n')"
   ]
  },
  {
   "cell_type": "code",
   "execution_count": null,
   "metadata": {},
   "outputs": [],
   "source": []
  },
  {
   "cell_type": "code",
   "execution_count": null,
   "metadata": {},
   "outputs": [],
   "source": []
  }
 ],
 "metadata": {
  "kernelspec": {
   "display_name": "Python 3",
   "language": "python",
   "name": "python3"
  },
  "language_info": {
   "codemirror_mode": {
    "name": "ipython",
    "version": 3
   },
   "file_extension": ".py",
   "mimetype": "text/x-python",
   "name": "python",
   "nbconvert_exporter": "python",
   "pygments_lexer": "ipython3",
   "version": "3.6.6"
  }
 },
 "nbformat": 4,
 "nbformat_minor": 2
}
