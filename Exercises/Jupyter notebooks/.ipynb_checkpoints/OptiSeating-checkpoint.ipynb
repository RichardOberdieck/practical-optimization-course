{
 "cells": [
  {
   "cell_type": "markdown",
   "metadata": {},
   "source": [
    "# OptiSeating - or \"Is a better model really always better\"?"
   ]
  },
  {
   "cell_type": "markdown",
   "metadata": {},
   "source": [
    "In general, I follow the philosophy that \"Good model beats good algorithm\", i.e. one of the most impactful thing you can do to improve your optimization is to improve your model. However, is this always the case? Is a better model really always a better choice?\n",
    "\n",
    "## What is a better model?\n",
    "In my book, a model is better if it fulfills the following two criteria:\n",
    "- Same problem complexity (LP stays LP, MIP stays MIP)\n",
    "- Reduce either number of variables or number of constraints (or both) without increasing the other\n",
    "\n",
    "Now, I think a few people may argue that this is a narrow-minded and incomplete definition of a \"better\" model. However, I think from an Ockham's razor perspective, these two criteria give an easy way to judge that what you are doing is going in the right direction. For example, if you reduce the number of variables in your LP from 1000 to 10 while keeping it a LP and not increasing the number of constraints, your gut feeling will most likely tell you that this is a better model.\n",
    "\n",
    "So, is a better model really always better? Of course, in the way the question is written you may anticipate the answer to be \"no\".\n",
    "\n",
    "## An assignment problem with a twist\n",
    "In an office, we have to seat teams $t$ in different parts of the building (let's call them units $u$). Each unit $u$ has a capacity $n_u$ of how many people you can fit there. Also, each team has a number of people associated with it, $n_t$. The problem is to assign the teams to the units such that everybody fits.\n",
    "\n",
    "However, what is your objective function here? We were told that the thing teams care most about is who they sit next to, since a single unit can house multiple teams. So each team $t$ gets to assign a positive weight $\\alpha_{t,t'}$ for three other teams $t'$ they would like to sit with, and the overall objective function is to maximize this utility.\n",
    "\n",
    "Great, so let's cook up a first take on this problem. First, we introduce a binary variable $x_{t,u} \\in \\{0,1\\}$ that signals whether team $t$ is assigned to unit $u$. Then, the first model you'd probably write down is this:\n",
    "\\begin{equation}\n",
    "\\begin{array}{lll}\n",
    "\\text{minimize} & \\sum \\limits_u \\left(\\sum \\limits_{t,t'} \\alpha_{t,t'}x_{t,u}x_{t',u}\\right) & \\\\\n",
    "\\text{subject to} & \\sum \\limits_u x_{t,u} = 1, \\hspace{0.15cm} \\forall t & \\text{All teams need to sit somewhere} \\\\\n",
    "& \\sum \\limits_t n_tx_{t,u} \\leq n_u, \\hspace{0.15cm} \\forall u & \\text{Space contraints need to be met} \\\\\n",
    "\\end{array}\n",
    "\\end{equation}\n",
    "\n",
    "The obvious problem with this formulation is the objective function, as it has a quadratic term. However, we can simply create an auxiliary variable $z_{t,t'}^u \\in \\{0,1\\}$, which denotes that teams $t$ and $t'$ are sitting together in unit $u$, with the following side constraints:\n",
    "\n",
    "\\begin{align}\n",
    "z_{t,t'}^u &\\leq x_{t,u} \\\\\n",
    "z_{t,t'}^u &\\leq x_{t',u} \\\\\n",
    "z_{t,t'}^u &\\geq x_{t,u} + x_{t',u} - 1\n",
    "\\end{align}\n",
    "The idea is that if $x_{t,u}$ or $x_{t',u}$ are 0, then $z_{t,t'}^u$ has to be zero as well (1st and 2nd constraint), while if both are 1, then $z_{t,t'}^u$ has to be 1 as well (3rd constraint).\n",
    "\n",
    "So the final model looks like this:\n",
    "\\begin{equation}\n",
    "\\begin{array}{ll}\n",
    "\\text{minimize} & \\sum \\limits_{u,t,t'} \\alpha_{t,t'}z_{t,t'}^u \\\\\n",
    "\\text{subject to} & \\sum \\limits_u x_{t,u} = 1, \\hspace{0.15cm} \\forall t \\\\\n",
    "& \\sum \\limits_t n_tx_{t,u} \\leq n_u, \\hspace{0.15cm} \\forall u \\\\\n",
    "& z_{t,t'}^u \\leq x_{t,u}, \\hspace{0.15cm} \\forall t,t',u \\\\\n",
    "& z_{t,t'}^u \\leq x_{t',u}, \\hspace{0.15cm} \\forall t,t',u \\\\\n",
    "& z_{t,t'}^u \\geq x_{t,u} + x_{t',u} - 1, \\hspace{0.15cm} \\forall t,t',u \\\\\n",
    "\\end{array}\n",
    "\\end{equation}\n",
    "\n",
    "In total, this model has $TU + TTU$ variables and $T + U + 3TTU$ constraints (let $T$ and $U$ denote the number of teams and units respectively).\n",
    "\n",
    "## Let's make the model better\n",
    "We were pretty happy with this, however something in me told me that we could probably improve on the formulation of $z$, as it has redundant information: if $z_{t,t'}^u = 1$ for a given unit $u$, it will definitely be $0$ for all the other ones (as a team can only sit in one place). And in fact, you can get rid of the $u$ index in $z_{t,t'}^u$ by introducing the following constraints instead:\n",
    "\\begin{align}\n",
    "\\sum \\limits_{u} p_u(x_{t,u} - x_{t',u}) \\geq -M(1-z_{t,t'}), \\hspace{0.15cm} \\forall t,t' \\\\\n",
    "\\sum \\limits_{u} p_u(x_{t',u} - x_{t,u}) \\geq -M(1-z_{t,t'}), \\hspace{0.15cm} \\forall t,t'\n",
    "\\end{align}\n",
    "where $p_u$ is a unique scalar assigned to a unit $u$ such that $p_u = p_{u'}$ if and only if $u = u'$, while $M = \\max_u p_u - \\min_u p_u$ makes the constraint redundant for $z_{t,t'} \\neq 0$.\n",
    "\n",
    "> The reason why these constraints yield the same results as the ones before is a bit non-obvious. Consider it an extra exercise to figure out why it works.\n",
    "\n",
    "This new model has $TU + TT$ variables and $T + U + 2TT$ constraints. Given that we have a tight bound on $M$, this really seemed like a better model to me. But let's look at some code now, shall we?\n",
    "\n",
    "## Let's test our better model\n",
    "First, we will generate some test data:"
   ]
  },
  {
   "cell_type": "code",
   "execution_count": 4,
   "metadata": {},
   "outputs": [],
   "source": [
    "# Some initializations and definitions\n",
    "import xpress as xp\n",
    "%env XPRESS=..\n",
    "import numpy as np\n",
    "import time\n",
    "import matplotlib.pyplot as plt\n",
    "\n",
    "class Team:\n",
    "    def __init__(self, name, n_people):\n",
    "        self.name = name\n",
    "        self.n_people = n_people\n",
    "\n",
    "class Unit:\n",
    "    def __init__(self, name, capacity, scalar):\n",
    "        self.name = name\n",
    "        self.capacity = capacity\n",
    "        self.scalar = scalar\n",
    "        \n",
    "# This may lead to infeasible inputs\n",
    "def Random_data(n_teams, n_units):\n",
    "    teams = []\n",
    "    for k in range(n_teams):\n",
    "        teams.append(Team(f'Team {k}', Get_random_integer(20,1)))\n",
    "    \n",
    "    preferences = {}\n",
    "    for k in range(n_teams):\n",
    "        preferences[teams[k]] = {teams[Get_random_team_index(n_teams-1, k)] : Get_random_integer(5,1), \n",
    "                                teams[Get_random_team_index(n_teams-1, k)] : Get_random_integer(5,1),\n",
    "                                teams[Get_random_team_index(n_teams-1, k)] : Get_random_integer(5,1)}\n",
    "            \n",
    "    units = []\n",
    "    for k in range(n_units):\n",
    "        units.append(Unit(f'Unit {k}', Get_random_integer(40,5), k))\n",
    "        \n",
    "    return teams, units, preferences\n",
    "\n",
    "def Get_random_team_index(n_teams, current):\n",
    "    while True:\n",
    "        idx = Get_random_integer(n_teams,0)\n",
    "        if (idx != current):\n",
    "            return idx\n",
    "        \n",
    "def Get_random_integer(scale, offset):\n",
    "    return int(np.round(scale*np.random.rand(1) + offset))"
   ]
  },
  {
   "cell_type": "markdown",
   "metadata": {},
   "source": [
    "Ok, so now that we can randomly generate some test data, let's implement the two models and see which one wins. To reduce code duplication, we have a `Base_model`, which is the model that both, the good and the better, implement:"
   ]
  },
  {
   "cell_type": "code",
   "execution_count": 5,
   "metadata": {},
   "outputs": [],
   "source": [
    "def Base_model(teams, units):\n",
    "    mdl = xp.problem(\"Seating model\")\n",
    "    x = {(t,u): xp.var(vartype = xp.binary) for t in teams for u in units}\n",
    "    mdl.addVariable(x)\n",
    "    \n",
    "    AtMostnSeats = [xp.Sum(x[t,u]*t.n_people for t in teams) <= (u.capacity) for u in units]\n",
    "    EverybodySeated = [xp.Sum(x[t,u] for u in units) == 1 for t in teams]\n",
    "    mdl.addConstraint(AtMostnSeats, EverybodySeated)\n",
    "    \n",
    "    # Make sure that it does not exceed an hour\n",
    "    mdl.controls.maxtime = 3600\n",
    "    \n",
    "    return mdl, x\n",
    "\n",
    "def Good_model_return(teams, units, preferences):\n",
    "    mdl, x = Base_model(teams, units)\n",
    "    \n",
    "    z = {(t1, t2, u): xp.var (vartype = xp.binary) for t1 in teams for t2 in teams for u in units}\n",
    "    mdl.addVariable(z)\n",
    "\n",
    "    mdl.addConstraint([z[t1, t2, u] <= x[t1, u] for t1 in teams for t2 in teams for u in units])\n",
    "    mdl.addConstraint([z[t1, t2, u] <= x[t2, u] for t1 in teams for t2 in teams for u in units])\n",
    "    mdl.addConstraint([2*z[t1, t2, u] >= x[t1, u] + x[t2, u] - 1 for t1 in teams for t2 in teams for u in units])\n",
    "\n",
    "    mdl.setObjective(xp.Sum(xp.Sum(z[t1, t2, u]*preferences[t1][t2] for t2 in preferences[t1]) for t1 in teams for u in units), sense = xp.maximize)\n",
    "\n",
    "    return mdl\n",
    "    \n",
    "def Good_model(teams, units, preferences):\n",
    "    mdl = Good_model_return(teams, units, preferences)\n",
    "    \n",
    "    mdl.setlogfile(\"Good.txt\")\n",
    "    mdl.solve()    \n",
    "    return mdl.getObjVal()\n",
    "\n",
    "def Better_model_return(teams, units, preferences):\n",
    "    mdl, x = Base_model(teams, units)\n",
    "    \n",
    "    z = {(t1, t2): xp.var (vartype = xp.binary) for t1 in teams for t2 in teams}\n",
    "    mdl.addVariable(z)\n",
    "\n",
    "    scalars = [u.scalar for u in units]\n",
    "    M = max(scalars) - min(scalars)\n",
    "    mdl.addConstraint([xp.Sum(u.scalar*(x[t1,u]-x[t2,u]) for u in units) >= -M*(1-z[t1,t2]) for t1 in teams for t2 in teams])\n",
    "    mdl.addConstraint([xp.Sum(u.scalar*(x[t2,u]-x[t1,u]) for u in units) >= -M*(1-z[t1,t2]) for t1 in teams for t2 in teams])\n",
    "    \n",
    "    mdl.setObjective(xp.Sum(xp.Sum(z[t1,t2]*preferences[t1][t2] for t2 in preferences[t1]) for t1 in teams),sense = xp.maximize)\n",
    "    return mdl\n",
    "    \n",
    "def Better_model(teams, units, preferences):\n",
    "    mdl = Better_model_return(teams, units, preferences)\n",
    "    \n",
    "    mdl.setlogfile(\"Better.txt\")\n",
    "    mdl.solve()    \n",
    "    return mdl.getObjVal()"
   ]
  },
  {
   "cell_type": "markdown",
   "metadata": {},
   "source": [
    "## Verifying that the answers are the same:\n",
    "First to make sure that our models behave the same, let's make sure they return the same result:"
   ]
  },
  {
   "cell_type": "code",
   "execution_count": 6,
   "metadata": {},
   "outputs": [
    {
     "name": "stdout",
     "output_type": "stream",
     "text": [
      "0.0\n",
      "0.0\n",
      "0.0\n"
     ]
    }
   ],
   "source": [
    "for k in range(2,5):\n",
    "    teams, units, preferences = Random_data(k,2*k)\n",
    "    obj1 = Good_model(teams, units, preferences)\n",
    "    obj2 = Better_model(teams, units, preferences)\n",
    "    \n",
    "    print(obj1 - obj2)"
   ]
  },
  {
   "cell_type": "markdown",
   "metadata": {},
   "source": [
    "Ok, now that we are sure that the answers are the same, let's do some timing:"
   ]
  },
  {
   "cell_type": "code",
   "execution_count": 38,
   "metadata": {},
   "outputs": [
    {
     "data": {
      "image/png": "[encoded data removed]",
      "text/plain": [
       "<Figure size 432x288 with 1 Axes>"
      ]
     },
     "metadata": {
      "needs_background": "light"
     },
     "output_type": "display_data"
    }
   ],
   "source": [
    "time_good = []\n",
    "time_better = []\n",
    "data_range = range(2,7)\n",
    "\n",
    "for k in data_range:\n",
    "    teams, units, preferences = Random_data(2*k,4*k)\n",
    "    temp = time.time()\n",
    "    obj1 = Good_model(teams, units, preferences)\n",
    "    time_good.append(time.time()- temp)\n",
    "    \n",
    "    temp = time.time()\n",
    "    obj2 = Better_model(teams, units, preferences)\n",
    "    time_better.append(time.time()- temp)\n",
    "    \n",
    "    \n",
    "    \n",
    "plt.semilogy(data_range, time_good, label=\"Good\")\n",
    "plt.semilogy(data_range, time_better, label=\"Better\")\n",
    "plt.ylabel(\"Time [s]\")\n",
    "plt.xlabel(\"Scaling value\")\n",
    "plt.xticks(data_range)\n",
    "plt.legend();"
   ]
  },
  {
   "cell_type": "markdown",
   "metadata": {},
   "source": [
    "Ok, so why is this? I checked the log files, and basically Xpress recognizes that the \"good\" model is symmetrical, while the \"better\" model is not. So even though for the last case the better model has only 12% of the number of variables the good one has, the structural properties of the model make it possible to close the gap much faster: for the good model, 5604 nodes were explored and solved in 84 seconds. For the better model, this number was 4886278, and it did not even solve to optimality as it hit time limit of 3600 seconds. \n",
    "\n",
    "## Improving performance with tuning?\n",
    "Now let's try our hands at tuning an instance of this model and see by how much we can improve performance:"
   ]
  },
  {
   "cell_type": "code",
   "execution_count": 8,
   "metadata": {},
   "outputs": [
    {
     "name": "stdout",
     "output_type": "stream",
     "text": [
      "Time without tuning [s]: 8.33692455291748\n",
      "Time with tuning [s]: 6.226850748062134\n"
     ]
    }
   ],
   "source": [
    "teams, units, preferences = Random_data(2*4,4*4)\n",
    "\n",
    "# No tuning\n",
    "temp = time.time()\n",
    "Better_model(teams, units, preferences)\n",
    "print(f'Time without tuning [s]: {time.time() - temp}')\n",
    "\n",
    "# Do the tuning\n",
    "mdl = Better_model_return(teams, units, preferences)\n",
    "mdl.tune()\n",
    "temp = time.time()\n",
    "mdl.solve()\n",
    "print(f'Time with tuning [s]: {time.time() - temp}')"
   ]
  },
  {
   "cell_type": "markdown",
   "metadata": {},
   "source": [
    "## Conclusions\n",
    "There are a bunch of learnings from this one:\n",
    "\n",
    "a) Symmetric models are good\n",
    "\n",
    "b) Start with the simplest model (that requires least brain-juice) and try it out. As [Donald Knuth](https://en.wikipedia.org/wiki/Donald_Knuth) said \"[Premature optimization is the root of all evil](http://wiki.c2.com/?PrematureOptimization)\", i.e. first get it to run, and then see whether it is fast enough already.\n",
    "\n",
    "c) Better is not always better: I still stand with the opinion that the `Better_model` is better (mathematically speaking) than the `Good_model`. However, it is much harder to solve.\n",
    "\n",
    "d) While in [some cases](https://community.fico.com/s/blog-post/a5Q2E000000byodUAA/fico1683), a tuner can have an >1x improvement in performance, this is in my experience rarely the case. In this case, we were able to reduce computational time by about 25%, which is common.\n",
    "\n",
    "## Appendix: What's the idea behind the reformulation\n",
    "If teams $t$ and $t'$ are in the same building, then every term in the expression $\\sum \\limits_{u} x_{t,u} - x_{t',u}$ is equal to $0$, while this is not the case if they are not in the same building. However, the overall expression evaluates to 0 in both cases as we do not discriminate between the different units $u$, they introduce a symmetry element (which incidentally helps the solver). To break this symmetry, we make each of the terms have a different value if non-zero, and thus the sum is non-zero too. Consider the following case with two units, $u$ and $u'$:\n",
    "\\begin{align}\n",
    "\\text{In same unit $u$: }& \\underbrace{x_{t,u} - x_{t',u}}_{0} + \\underbrace{2(x_{t,u} - x_{t',u})}_{0} = 0 \\\\\n",
    "\\text{In different units: }& \\underbrace{x_{t,u} - x_{t',u}}_{1} + \\underbrace{2(x_{t,u} - x_{t',u})}_{-2} = -1 \n",
    "\\end{align}\n",
    "By having broken the symmetry, we can simply do a big-M constraint, and have the same result."
   ]
  }
 ],
 "metadata": {
  "kernelspec": {
   "display_name": "Python 3",
   "language": "python",
   "name": "python3"
  },
  "language_info": {
   "codemirror_mode": {
    "name": "ipython",
    "version": 3
   },
   "file_extension": ".py",
   "mimetype": "text/x-python",
   "name": "python",
   "nbconvert_exporter": "python",
   "pygments_lexer": "ipython3",
   "version": "3.7.2"
  }
 },
 "nbformat": 4,
 "nbformat_minor": 2
}
