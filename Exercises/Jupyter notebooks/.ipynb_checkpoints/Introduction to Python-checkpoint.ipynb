{
 "cells": [
  {
   "cell_type": "markdown",
   "metadata": {},
   "source": [
    "# Introduction to Python\n",
    "Python is an interpreted light-weight object-oriented programming language (see Wikipedia article [here](https://en.wikipedia.org/wiki/Python_(programming_language))). Let's go over what those words mean:\n",
    "1. Interpreted: An interpreted language loosely speaking means the code can be executed directly, without needing to be compiled, i.e. translated into a machine language. This means, you can write `2+2` without having to define a program, compiler etc. This makes it akin to MATLAB.\n",
    "2. Light-weight: However, very much unlike MATLAB, Python does not actually need a lot of comping power to run. Of course, more computing power makes things typically run faster. But you can still develop sensible code with your standard machine without needing to beef it up just because you are running Python.\n",
    "3. Object-oriented: This is the most difficult one to explain for anybody coming from e.g. a MATLAB environment. The easiest way to explain it is probably with an example. Say you want to calculate the area of a rectangle ($A = wl$, where $w$ is the width and $l$ is the length). In MATLAB, you would probably do something like this:\n",
    "\n",
    "## Object orientation"
   ]
  },
  {
   "cell_type": "code",
   "execution_count": 1,
   "metadata": {},
   "outputs": [],
   "source": [
    "def rectangle_area(width, length):\n",
    "    return width * length"
   ]
  },
  {
   "cell_type": "markdown",
   "metadata": {},
   "source": [
    "This means, you would simply write a function that takes two numbers and returns the result. While this is a great way to do things for some tasks, more complex programming often becomes cumbersome this way. But it does not have to be this way. Some very smart people (see [here](http://web.eecs.utk.edu/~huangj/CS302S04/notes/oo-intro.html)) came up with the idea of classes and objects. Let's see what that means:"
   ]
  },
  {
   "cell_type": "code",
   "execution_count": 2,
   "metadata": {},
   "outputs": [],
   "source": [
    "class Rectangle:\n",
    "    def __init__(self, width, length):\n",
    "        self.width = width\n",
    "        self.length = length\n",
    "    \n",
    "    def area(self):\n",
    "        return self.width * self.length"
   ]
  },
  {
   "cell_type": "markdown",
   "metadata": {},
   "source": [
    "Before explaining in detail what is happening here, let's see that these two things do exactly the same:"
   ]
  },
  {
   "cell_type": "code",
   "execution_count": 3,
   "metadata": {},
   "outputs": [
    {
     "name": "stdout",
     "output_type": "stream",
     "text": [
      "Function version: 15\n",
      "Object-based version: 15\n"
     ]
    }
   ],
   "source": [
    "width = 3\n",
    "length = 5\n",
    "\n",
    "# Function evaluation\n",
    "print(f'Function version: {rectangle_area(width, length)}')\n",
    "\n",
    "# Object-based version:\n",
    "the_rectangle = Rectangle(width, length)\n",
    "print(f'Object-based version: {the_rectangle.area()}')\n"
   ]
  },
  {
   "cell_type": "markdown",
   "metadata": {},
   "source": [
    "So what are we doing here? Instead of simply writing down an equation, like in `rectangle_area`, we create an **instance** or a specific rectangle, which has a given width and length. And then we use these **properties** to evaluate the area.\n",
    "+ This means if you want to \"do\" a lot of things to this rectangle, you can have all of this information contained in one class. This makes it safe and easily readable.\n",
    "+ You can use classes in other classes. So for example you could make a `Point` class, which is then used in a `Line` class, which is then used in a `Triangle` class etc. This makes for intuitively readable code\n",
    "- Side-effects: you basically say `do something` with this object, but you don't know precisely what is happening. In the function version above, you put numbers in and get numbers out. There are no other actions going on except that.\n",
    "\n",
    "In this course, we will limit the use of objects, just so that it does not become to cumbersome to follow. However, as we will see in the very end of the course, object orientation and mathematical programming natively go hand in hand!"
   ]
  },
  {
   "cell_type": "markdown",
   "metadata": {},
   "source": [
    "## Now let's look at Python\n",
    "So basically Python is a lot like MATLAB. But there are some key differences that I quickly want to touch upon:\n",
    "- Some basic syntax\n",
    "- Packages\n",
    "- Indenting\n",
    "- Zero-indexing\n",
    "- Mutability\n",
    "- Data representations\n",
    "\n",
    "To do this, let's look at a simple example of calculating the area of a triangle given three points (see math [here](https://www.mathopenref.com/coordtrianglearea.html)):"
   ]
  },
  {
   "cell_type": "code",
   "execution_count": null,
   "metadata": {},
   "outputs": [],
   "source": [
    "import math\n",
    "\n",
    "def triangle_area(p1, p2, p3):\n",
    "    term1 = p1[0]*(p2[1] - p3[1])\n",
    "    term2 = p2[0]*(p3[1] - p1[1])\n",
    "    term3 = p3[0]*(p1[1] - p2[1])\n",
    "    \n",
    "    return math.abs((term1 + term2 + term3)/2)"
   ]
  },
  {
   "cell_type": "markdown",
   "metadata": {},
   "source": [
    "### Some basic syntax\n",
    "Most of the syntax in Python is fairly straight-forward to understand, however here is a list that you can use as a cheatsheet to get you started:\n",
    "\n",
    "| Operator | MATLAB | Python | Comments |\n",
    "|----------|--------|--------|----------|\n",
    "|Addition  | +      | +      |          |\n",
    "|Subtraction | -      | -      |          |\n",
    "|Multiplication | *      | *      |          |\n",
    "|Division | /      | /      |          |\n",
    "|Exponential | ^      | **     |          |\n",
    "|Square root | `sqrt`  | `math.sqrt` | For arrays, use `numpy` |\n",
    "|Absolute value | `abs` | `math.abs` | For arrays, use `numpy` |\n",
    "|Range (e.g. 1 to 10) | `1:10` | `range(1,11)` | Zero is the default value, so `0:10` would be `range(11)`. |\n",
    "|Length of array | `len(p)` | `len(p)` | |\n",
    "\n",
    "For the rest of it, check out [this awesome cheatsheet](http://mathesaurus.sourceforge.net/matlab-python-xref.pdf)! In general, Python syntax is very similar to MATLAB."
   ]
  },
  {
   "cell_type": "markdown",
   "metadata": {},
   "source": [
    "### Packages\n",
    "Let's go line by line: the first line tells Python to use the `math` package. This is fundamentally different from MATLAB, where all the packages are automatically in place. Instead, the user has to set what to use. Why? Well, you should only include those packages that are needed to keep the program as light-weight as possible. If you include hundreds of packages, this will make your code slow and require all those packages to be stored somewhere.\n",
    "\n",
    "You can, in principle, get rid of the `math.` by importing *everything* from the `math` package directly into your namespace. Syntax would then resemble MATLAB's a little more..."
   ]
  },
  {
   "cell_type": "code",
   "execution_count": null,
   "metadata": {},
   "outputs": [],
   "source": [
    "from math import *\n",
    "\n",
    "# Can now use math functions without explicitly writing the package name\n",
    "x = sqrt(4)\n",
    "y = abs(-3)\n",
    "# etc."
   ]
  },
  {
   "cell_type": "markdown",
   "metadata": {},
   "source": [
    "... but in general, this is considered bad practice, because this pollutes your namespace and may lead to namespace collisions causing headaches: "
   ]
  },
  {
   "cell_type": "code",
   "execution_count": null,
   "metadata": {},
   "outputs": [],
   "source": [
    "from math import *\n",
    "from brakingsystems import *\n",
    "x = abs(-4)  \n",
    "# Uh-oh, what is x? Is it 4, or an anti-lock braking system for 4 wheels?\n",
    "# Let me read the documentation..."
   ]
  },
  {
   "cell_type": "markdown",
   "metadata": {},
   "source": [
    "Since developers are lazy, some of the most popular packages' names are commonly abbreviated upon import. The most common idioms are:"
   ]
  },
  {
   "cell_type": "code",
   "execution_count": null,
   "metadata": {},
   "outputs": [],
   "source": [
    "import numpy as np\n",
    "import scipy as sp\n",
    "import pandas as pd\n",
    "import matplotlib.pyplot as plt"
   ]
  },
  {
   "cell_type": "markdown",
   "metadata": {},
   "source": [
    "The immediate follow-up question to this is: but how do I know which packages to use? Well, there are some standard packages which you will almost always need (`numpy`, `scipy`, `math`, `matplotlib` etc.), but beyond that it will always be stated that you need library `xlib` to run function `yfunc`. \n",
    "\n",
    "\n",
    "#### Installing packages\n",
    "\n",
    "If `xlib` isn't alread installed in your environment, you can install it by typing at the command line:\n",
    "\n",
    "```\n",
    "conda install xlib\n",
    "```\n",
    "\n",
    "and Conda will do all the magic for you. But how does the magic work? In short, there are repositories online with thousands of libraries (e.g. the Anaconda one [here](https://anaconda.org/anaconda/repo)) that Conda (a tool in your Anaconda Python distribution) goes and checks out and fetches the package from. If you have something more exotic, you may have to tell Conda to look in a specific repository or channel. But this is beyond the scope of this introduction.\n",
    "\n",
    "Once the `xlib` package is installed, you simply type `import xlib` in your Python code and voilà, you can use all of its contents. "
   ]
  },
  {
   "cell_type": "markdown",
   "metadata": {},
   "source": [
    "### Indenting\n",
    "The next line is pretty self-explanatory: we define a function that takes three things as input. But what then? Well, you could try to remove those indentations from the code, but then it would throw you an error. Because Python understands whether something is part of a function or not by **indentation**. Let's try it out:"
   ]
  },
  {
   "cell_type": "code",
   "execution_count": 18,
   "metadata": {},
   "outputs": [
    {
     "ename": "IndentationError",
     "evalue": "unexpected indent (<ipython-input-18-85ecaaca66ef>, line 2)",
     "output_type": "error",
     "traceback": [
      "\u001b[1;36m  File \u001b[1;32m\"<ipython-input-18-85ecaaca66ef>\"\u001b[1;36m, line \u001b[1;32m2\u001b[0m\n\u001b[1;33m    u = 5\u001b[0m\n\u001b[1;37m    ^\u001b[0m\n\u001b[1;31mIndentationError\u001b[0m\u001b[1;31m:\u001b[0m unexpected indent\n"
     ]
    }
   ],
   "source": [
    "t = 5\n",
    "  u = 5"
   ]
  },
  {
   "cell_type": "markdown",
   "metadata": {},
   "source": [
    "So when do you indent? Whenever you open a new function, class, `if` statement of `for/while` loop. Just like in MATLAB. Only that in Python it's a must.\n",
    "\n",
    "As a colleague once said, this forces us to write beautiful code, but it can also be pretty painful to work with, especially in the beginning. Fortunately, most editors have auto-indent functionally built in and will help you indent your code properly. "
   ]
  },
  {
   "cell_type": "markdown",
   "metadata": {},
   "source": [
    "### Zero-indexing\n",
    "This is probably the biggest conceptual change when you come from MATLAB: in Python (like in ANY other self-respecting programming language) we have zero indexing, i.e. for the array `p = [4, 2, 1, 4]` we have `p[0] = 4` and `p[1] = 2`. Especially when you implement models with running indices like $1,...,10$, this is something to be really aware of. Fortunately enough, any mistakes you make will most likely be caught by the fact that if you try e.g. `p[4]` it will tell you \"list index out of range\":"
   ]
  },
  {
   "cell_type": "code",
   "execution_count": 23,
   "metadata": {},
   "outputs": [
    {
     "ename": "IndexError",
     "evalue": "list index out of range",
     "output_type": "error",
     "traceback": [
      "\u001b[1;31m---------------------------------------------------------------------------\u001b[0m",
      "\u001b[1;31mIndexError\u001b[0m                                Traceback (most recent call last)",
      "\u001b[1;32m<ipython-input-23-3a72a9ae4b06>\u001b[0m in \u001b[0;36m<module>\u001b[1;34m()\u001b[0m\n\u001b[0;32m      1\u001b[0m \u001b[0mp\u001b[0m \u001b[1;33m=\u001b[0m \u001b[1;33m[\u001b[0m\u001b[1;36m4\u001b[0m\u001b[1;33m,\u001b[0m \u001b[1;36m2\u001b[0m\u001b[1;33m,\u001b[0m \u001b[1;36m1\u001b[0m\u001b[1;33m,\u001b[0m \u001b[1;36m4\u001b[0m\u001b[1;33m]\u001b[0m\u001b[1;33m\u001b[0m\u001b[0m\n\u001b[1;32m----> 2\u001b[1;33m \u001b[0mp\u001b[0m\u001b[1;33m[\u001b[0m\u001b[1;36m4\u001b[0m\u001b[1;33m]\u001b[0m\u001b[1;33m\u001b[0m\u001b[0m\n\u001b[0m",
      "\u001b[1;31mIndexError\u001b[0m: list index out of range"
     ]
    }
   ],
   "source": [
    "p = [4, 2, 1, 4]\n",
    "p[4]"
   ]
  },
  {
   "cell_type": "markdown",
   "metadata": {},
   "source": [
    "### Mutability\n",
    "What does `=` mean? So for example:"
   ]
  },
  {
   "cell_type": "code",
   "execution_count": 11,
   "metadata": {},
   "outputs": [
    {
     "name": "stdout",
     "output_type": "stream",
     "text": [
      "5\n"
     ]
    }
   ],
   "source": [
    "a = 5\n",
    "b = a\n",
    "a = 3\n",
    "print(b)"
   ]
  },
  {
   "cell_type": "markdown",
   "metadata": {},
   "source": [
    "This is what we would also be expecting from MATLAB: when we set `a` to something, `b` is not affected. However, let's look at the following line:"
   ]
  },
  {
   "cell_type": "code",
   "execution_count": 12,
   "metadata": {},
   "outputs": [
    {
     "name": "stdout",
     "output_type": "stream",
     "text": [
      "[5, 3]\n"
     ]
    }
   ],
   "source": [
    "a = [5]\n",
    "b = a\n",
    "a.append(3)\n",
    "print(b)"
   ]
  },
  {
   "cell_type": "markdown",
   "metadata": {},
   "source": [
    "Here, `a` and `b` point to the same location in memory, so when we append something to `a`, it appears in `b` as well. The reason for this is that the `list` object that is created with the `[]` brackets is *[mutable](https://en.wikipedia.org/wiki/Immutable_object)*, i.e. once it is created, you can still add things to it (in fact, that's the point). This is however not the case for numerics (`float`, `int` and `bool`) as well as `string`s,`tuple`s and `frozenset`, because they are *immutable*, i.e. once they have been created, you cannot *do* anything to them (see [here](https://stackoverflow.com/questions/6158907/what-does-python-treat-as-reference-types)).\n",
    "\n",
    "So what if you want to have the same behaviour in e.g. `list`s? Then you use the `copy` keyword:"
   ]
  },
  {
   "cell_type": "code",
   "execution_count": 13,
   "metadata": {},
   "outputs": [
    {
     "name": "stdout",
     "output_type": "stream",
     "text": [
      "[5]\n"
     ]
    }
   ],
   "source": [
    "a = [5]\n",
    "b = a.copy()\n",
    "a.append(3)\n",
    "print(b)"
   ]
  },
  {
   "cell_type": "markdown",
   "metadata": {},
   "source": [
    "### Data representations\n",
    "Although not explicitly part of the example above, it is worth spending a minute on what data types are and which data is represented in Python.\n",
    "\n",
    "A data type is basically a way to classify what type your data is in (duh!). So for example, `p = true` makes `p` a boolean, while `p = 5.5` makes `p` a float (also called a `double` because it is double the \"precision\" of a float). And of course `u = \"Test\"` makes `u` a string. There is a bunch of other types, but that is not important (see [here](https://realpython.com/python-data-types/) if you are interested).\n",
    "\n",
    "But then there is the question on how data is represented in Python. At this point, I want to mention three ways (there are tons more):\n",
    "- Lists\n",
    "- Dictionaries\n",
    "- Data frames\n",
    "\n",
    "#### Lists\n",
    "A list is just what it says: `p = [4, 2, 1, 4]`. You can access the individual items of a list by a running index, i.e. `p[2]` gets you the 3rd element of the list. Nothing more than that.\n",
    "\n",
    "#### Dictionaries\n",
    "A dictionary is a effectively an extension to a list. But instead of having a simple running index, you can define yourself what the index should be. Let's look at an example: say you want to assign a height to a name for a bunch of people:"
   ]
  },
  {
   "cell_type": "code",
   "execution_count": 7,
   "metadata": {},
   "outputs": [
    {
     "data": {
      "text/plain": [
       "170"
      ]
     },
     "execution_count": 7,
     "metadata": {},
     "output_type": "execute_result"
    }
   ],
   "source": [
    "# Define the data\n",
    "people = [\"Martin\", \"Anne\", \"Jesper\", \"Maria\"]\n",
    "height = [170, 165, 164, 171]\n",
    "\n",
    "# Define the dictionary using a \"dictionary comprehension\"\n",
    "heights = {people[i] : height[i] for i in range(len(people))}\n",
    "\n",
    "# Index into the dictionary\n",
    "heights[\"Martin\"]"
   ]
  },
  {
   "cell_type": "markdown",
   "metadata": {},
   "source": [
    "Or, defining the dictionary directly:"
   ]
  },
  {
   "cell_type": "code",
   "execution_count": 6,
   "metadata": {},
   "outputs": [
    {
     "data": {
      "text/plain": [
       "171"
      ]
     },
     "execution_count": 6,
     "metadata": {},
     "output_type": "execute_result"
    }
   ],
   "source": [
    "heights = {}  # or = dict()   Both give an empty dictionary\n",
    "heights['Martin'] = 170\n",
    "heights['Anne'] = 165\n",
    "heights['Jesper'] = 164\n",
    "heights['Maria'] = 171\n",
    "\n",
    "heights[\"Maria\"]"
   ]
  },
  {
   "cell_type": "markdown",
   "metadata": {},
   "source": [
    "A couple of comments on dictionaries:\n",
    "- The `key` (in our case `people`) has to be unique. You cannot have \"Martin\" appear twice in `people`.\n",
    "- Dictionaries are typically a bit slower than lists, but make up for it by making code much, much easier to read.\n",
    "- You can have tuples as keys, so for example:"
   ]
  },
  {
   "cell_type": "code",
   "execution_count": 33,
   "metadata": {},
   "outputs": [
    {
     "data": {
      "text/plain": [
       "170"
      ]
     },
     "execution_count": 33,
     "metadata": {},
     "output_type": "execute_result"
    }
   ],
   "source": [
    "# Define new index\n",
    "city = [\"London\", \"London\", \"New York\", \"Copenhagen\"]\n",
    "\n",
    "# Define new dictionary\n",
    "heights_by_city = {(people[i], city[i]) : height[i] for i in range(len(people))}\n",
    "\n",
    "# Index into it\n",
    "heights_by_city[\"Martin\", \"London\"]"
   ]
  },
  {
   "cell_type": "markdown",
   "metadata": {},
   "source": [
    "#### Data frames\n",
    "Data frames are part of the `pandas` package and are an extremely versatile way of representing your data. According to the description:\n",
    "> Two-dimensional size-mutable, potentially heterogeneous tabular data structure with labeled axes (rows and columns). Arithmetic operations align on both row and column labels. Can be thought of as a dict-like container for Series objects.\n",
    "\n",
    "What this means is that you can have tables, with whatever you want as cells, and the rows and columns also as individual indices chosen by you! Let's look at a simple example"
   ]
  },
  {
   "cell_type": "code",
   "execution_count": 43,
   "metadata": {},
   "outputs": [],
   "source": [
    "import pandas as pd\n",
    "\n",
    "# Let's define a dictionary with two values:\n",
    "weight = [56, 65, 71, 68]\n",
    "heights_and_weights = {people[i] : [height[i], weight[i]] for i in range(len(people))}\n",
    "\n",
    "# Define our data frame\n",
    "df = pd.DataFrame(data = heights_and_weights, index = ['Height','Weight'])"
   ]
  },
  {
   "cell_type": "code",
   "execution_count": 44,
   "metadata": {},
   "outputs": [
    {
     "data": {
      "text/html": [
       "<div>\n",
       "<style scoped>\n",
       "    .dataframe tbody tr th:only-of-type {\n",
       "        vertical-align: middle;\n",
       "    }\n",
       "\n",
       "    .dataframe tbody tr th {\n",
       "        vertical-align: top;\n",
       "    }\n",
       "\n",
       "    .dataframe thead th {\n",
       "        text-align: right;\n",
       "    }\n",
       "</style>\n",
       "<table border=\"1\" class=\"dataframe\">\n",
       "  <thead>\n",
       "    <tr style=\"text-align: right;\">\n",
       "      <th></th>\n",
       "      <th>Martin</th>\n",
       "      <th>Anne</th>\n",
       "      <th>Jesper</th>\n",
       "      <th>Maria</th>\n",
       "    </tr>\n",
       "  </thead>\n",
       "  <tbody>\n",
       "    <tr>\n",
       "      <th>Height</th>\n",
       "      <td>170</td>\n",
       "      <td>165</td>\n",
       "      <td>164</td>\n",
       "      <td>171</td>\n",
       "    </tr>\n",
       "    <tr>\n",
       "      <th>Weight</th>\n",
       "      <td>56</td>\n",
       "      <td>65</td>\n",
       "      <td>71</td>\n",
       "      <td>68</td>\n",
       "    </tr>\n",
       "  </tbody>\n",
       "</table>\n",
       "</div>"
      ],
      "text/plain": [
       "        Martin  Anne  Jesper  Maria\n",
       "Height     170   165     164    171\n",
       "Weight      56    65      71     68"
      ]
     },
     "execution_count": 44,
     "metadata": {},
     "output_type": "execute_result"
    }
   ],
   "source": [
    "df"
   ]
  },
  {
   "cell_type": "code",
   "execution_count": 45,
   "metadata": {},
   "outputs": [
    {
     "data": {
      "text/plain": [
       "Height    170\n",
       "Weight     56\n",
       "Name: Martin, dtype: int64"
      ]
     },
     "execution_count": 45,
     "metadata": {},
     "output_type": "execute_result"
    }
   ],
   "source": [
    "df[\"Martin\"]"
   ]
  },
  {
   "cell_type": "code",
   "execution_count": 46,
   "metadata": {},
   "outputs": [
    {
     "data": {
      "text/plain": [
       "56"
      ]
     },
     "execution_count": 46,
     "metadata": {},
     "output_type": "execute_result"
    }
   ],
   "source": [
    "df[\"Martin\"][\"Weight\"]"
   ]
  },
  {
   "cell_type": "markdown",
   "metadata": {},
   "source": [
    "#### Dataclasses\n",
    "In the beginning of this tutorial, I showed you classes. Now, we will look at a specific type of class called `dataclass` that was released in [Python 3.7](https://docs.python.org/3/library/dataclasses.html). In essence, it is a very convenient way to represent data in classes (hence the name). To show you how it works, let's look at the `Rectangle` class from earlier:"
   ]
  },
  {
   "cell_type": "code",
   "execution_count": 3,
   "metadata": {},
   "outputs": [],
   "source": [
    "from dataclasses import dataclass\n",
    "\n",
    "@dataclass\n",
    "class Rectangle:\n",
    "    width: float\n",
    "    length: float\n",
    "    \n",
    "    def area(self):\n",
    "        return self.width * self.length"
   ]
  },
  {
   "cell_type": "markdown",
   "metadata": {},
   "source": [
    "This `Rectangle` class and the one on top are very similar, except for the fact that the new `Rectangle` class has a lot of boilerplate code taken away, which is why I find them very useful for optimization problems. However, due to this boilerplate code you cannot simple iterate over them, as they have stopped being *[hashable](https://stackoverflow.com/questions/14535730/what-does-hashable-mean-in-python)*. To enable them again to be hashable (and being used in `for` loops and the like), we need to add `frozen=True` to the definition:"
   ]
  },
  {
   "cell_type": "code",
   "execution_count": 6,
   "metadata": {},
   "outputs": [],
   "source": [
    "@dataclass(frozen=True)\n",
    "class Rectangle:\n",
    "    width: float\n",
    "    length: float\n",
    "    \n",
    "    def area(self):\n",
    "        return self.width * self.length"
   ]
  }
 ],
 "metadata": {
  "kernelspec": {
   "display_name": "Python 3",
   "language": "python",
   "name": "python3"
  },
  "language_info": {
   "codemirror_mode": {
    "name": "ipython",
    "version": 3
   },
   "file_extension": ".py",
   "mimetype": "text/x-python",
   "name": "python",
   "nbconvert_exporter": "python",
   "pygments_lexer": "ipython3",
   "version": "3.7.2"
  }
 },
 "nbformat": 4,
 "nbformat_minor": 2
}
