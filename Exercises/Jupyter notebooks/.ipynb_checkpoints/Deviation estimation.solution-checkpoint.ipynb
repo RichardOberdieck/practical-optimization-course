{
 "cells": [
  {
   "cell_type": "markdown",
   "metadata": {},
   "source": [
    "# Deviation estimation\n",
    "First, let us specifically state what we want to do: given a set of 2-D data points $(x,y)$, find the coefficients $a$ and $b$ such that a certain error metric is minimized. The question behind this exercise is to formulate the underlying linear programming problem for linear error metrics.\n",
    "\n",
    "The regression curve we are going to formulate has the following form: $y = ax + b$. Therefore, given a point $(x_j,y_j)$, the error $z_j$ is given by:\n",
    "\\begin{equation}\n",
    "z_j = ax_j + b - y_j\n",
    "\\end{equation}\n",
    "\n",
    "## Initialization and data generation\n",
    "To do regression, we need some data. Therefore, we generate the following random data set."
   ]
  },
  {
   "cell_type": "code",
   "execution_count": 4,
   "metadata": {},
   "outputs": [
    {
     "data": {
      "image/png": "[encoded data removed]",
      "text/plain": [
       "<Figure size 432x288 with 1 Axes>"
      ]
     },
     "metadata": {
      "needs_background": "light"
     },
     "output_type": "display_data"
    }
   ],
   "source": [
    "import numpy as np\n",
    "import matplotlib.pyplot as plt\n",
    "import xpress as xp\n",
    "%env XPRESS=..\n",
    "import math\n",
    "\n",
    "n = 100\n",
    "nRange = range(n)\n",
    "coord = np.random.rand(n,2);\n",
    "\n",
    "# Define the plotting function so that it can be reused for post-processing as well\n",
    "def plotting(coord, a, b): \n",
    "    plt.plot(coord[:,0], coord[:,1],'r.')\n",
    "    \n",
    "    if a is not None:\n",
    "        x = np.linspace(0,1,100)    \n",
    "        plt.plot(x,a*x + b)\n",
    "    plt.xlabel('x coordinate')\n",
    "    plt.ylabel('y coordinate');\n",
    "    plt.show()\n",
    "    \n",
    "plotting(coord, None, None);"
   ]
  },
  {
   "cell_type": "markdown",
   "metadata": {},
   "source": [
    "## Least absolute deviations estimation\n",
    "### Modelling\n",
    "In the least absolute deviations estimation, we use the following objective function $\\sum \\limits_{j\\in J} \\left|z_j\\right|$. The idea is that we minimize the linear deviation from the main regression line without penalizing outliers more (as done in higher-norm variations). This means that we want to solve has the following form:\n",
    "\\begin{equation}\n",
    "\\begin{array}{ll}\n",
    "\\underset{a,b,\\{z_j, \\forall j\\}}{\\text{minimize}} & \\sum \\limits_{j} \\left|z_j\\right| \\\\\n",
    "\\text{subject to} & z_j = ax_j + b - y_j\n",
    "\\end{array}\n",
    "\\end{equation}\n",
    "\n",
    "However, we cannot have the absolute value $\\left|\\cdot\\right|$ just like this. Therefore, we have to introduce two auxiliary variables per absolute value formulation:\n",
    "\\begin{align}\n",
    "z_j &= z_j^+ - z_j^- \\\\\n",
    "\\left|z_j\\right| &= z_j^+ + z_j^-\n",
    "\\end{align}\n",
    "with $z_j^+,z_j^-\\geq 0$. This means, we are actually going to solve the following:\n",
    "\\begin{equation}\n",
    "\\begin{array}{ll}\n",
    "\\underset{a,b,\\{z_j, \\forall j\\}}{\\text{minimize}} & \\sum \\limits_{j} z_j^+ + z_j^- \\\\\n",
    "\\text{subject to} & z_j^+ - z_j^- = ax_j + b - y_j \\\\\n",
    "& z_j^+,z_j^- \\geq 0, \\hspace{0.3cm} \\forall j\n",
    "\\end{array}\n",
    "\\end{equation}\n",
    "\n",
    "**How do you write this in code?**\n",
    "\n",
    "### Model creation\n",
    "Let's start by creating a `xp.problem` object."
   ]
  },
  {
   "cell_type": "code",
   "execution_count": 5,
   "metadata": {},
   "outputs": [],
   "source": [
    "# Model definition\n",
    "model = xp.problem(\"Least absolute deviations estimation\")"
   ]
  },
  {
   "cell_type": "markdown",
   "metadata": {},
   "source": [
    "### Variable definition\n",
    "Next, we start by definiting the variables. Specifically, we have to define $a$, $b$, $z_j^+$ and $z_j^-$. Note that Python indexes with 0, i.e. we will have $z_0$ to $z_{99}$:"
   ]
  },
  {
   "cell_type": "code",
   "execution_count": 6,
   "metadata": {},
   "outputs": [],
   "source": [
    "z_plus = {j : xp.var(vartype = xp.continuous, lb = 0, name = f'z+_{j}') for j in nRange};\n",
    "z_minus = {j : xp.var(vartype = xp.continuous, lb = 0, name = f'z-_{j}') for j in nRange};\n",
    "a = xp.var(vartype = xp.continuous, name='a')\n",
    "b = xp.var(vartype = xp.continuous, name='b')\n",
    "\n",
    "# Add the variables to the model\n",
    "model.addVariable(z_plus, z_minus, a, b)"
   ]
  },
  {
   "cell_type": "markdown",
   "metadata": {},
   "source": [
    "A few comments here:\n",
    "- This is one of the few cases where I think it is not needed to have a special class for the indices, as they are just the range of numbers. However, note that this will really rarely be the case. Whenever anything slightly more complicated than this comes along, just create a custom class.\n",
    "- It is not necessary to specify `xp.continuous` as the `vartype`, because it is the default. However, I like to do it because it makes it explicit what I am dealing with. Another person (or your future self) may not know that `xp.continuous` is the default.\n",
    "\n",
    "### Objective function definition\n",
    "The objective function is pretty straightforward with $\\sum \\limits_j z_j^+ + z_j^-$:"
   ]
  },
  {
   "cell_type": "code",
   "execution_count": 7,
   "metadata": {},
   "outputs": [],
   "source": [
    "model.setObjective(xp.Sum(z_plus[j] + z_minus[j] for j in nRange))"
   ]
  },
  {
   "cell_type": "markdown",
   "metadata": {},
   "source": [
    "### Constraint definition\n",
    "Since we took care of the bounds in the variable definition, we are only left with the main constraint $z_j^+ - z_j^- = ax_j + b - y_j$"
   ]
  },
  {
   "cell_type": "code",
   "execution_count": 8,
   "metadata": {},
   "outputs": [],
   "source": [
    "difference_description = [xp.constraint(z_plus[j] - z_minus[j] == a*coord[j,0] + b - coord[j,1]) for j in nRange]\n",
    "model.addConstraint(difference_description)"
   ]
  },
  {
   "cell_type": "markdown",
   "metadata": {},
   "source": [
    "### Solving the model and post-processing\n",
    "Now that we are done with the model, let's solve and have a look!"
   ]
  },
  {
   "cell_type": "code",
   "execution_count": 9,
   "metadata": {},
   "outputs": [
    {
     "data": {
      "image/png": "[encoded data removed]",
      "text/plain": [
       "<Figure size 432x288 with 1 Axes>"
      ]
     },
     "metadata": {
      "needs_background": "light"
     },
     "output_type": "display_data"
    }
   ],
   "source": [
    "model.solve()\n",
    "\n",
    "a_val = model.getSolution(a)\n",
    "b_val = model.getSolution(b)\n",
    "plotting(coord, a_val, b_val)"
   ]
  },
  {
   "cell_type": "markdown",
   "metadata": {},
   "source": [
    "We did a bit of a modellingtrick with the split into $z_j^+$ and $z_j^-$. Such type of tricks are fairly common, but it is also very common to make mistakes when writing them in code. Therefore we should always check that the solver in fact \"understood\" what we wanted to do. So let's also analyze the values of `z_plus` and `z_minus`:"
   ]
  },
  {
   "cell_type": "code",
   "execution_count": 10,
   "metadata": {},
   "outputs": [
    {
     "name": "stdout",
     "output_type": "stream",
     "text": [
      "Maximum deviation from exact equation: 0\n"
     ]
    }
   ],
   "source": [
    "max_error = 0\n",
    "for j in nRange:\n",
    "    z = a_val*coord[j,0] + b_val - coord[j,1]\n",
    "    \n",
    "    if z > 0:\n",
    "        max_error = max(max_error, np.abs(z - model.getSolution(z_plus[j])))\n",
    "        \n",
    "    # Note that we have z_j + z_j^-, because z_j^- is the absolute value of z\n",
    "    if z < 0:\n",
    "        max_error = max(max_error, np.abs(z + model.getSolution(z_minus[j])))\n",
    "        \n",
    "print(f'Maximum deviation from exact equation: {max_error}')"
   ]
  },
  {
   "cell_type": "markdown",
   "metadata": {},
   "source": [
    "So all seems to be good: $z_j^+$ is taking the positive values, while $z_j^-$ is taking the negative ones, and the difference with $z_j$ is $0$.\n",
    "\n",
    "Note: We can also leave the equation explicitly in, instead of substituting it:\n",
    "\\begin{equation}\n",
    "\\begin{array}{ll}\n",
    "\\underset{a,b,\\{z_j, \\forall j\\}}{\\text{minimize}} & \\sum \\limits_{j} z_j^+ + z_j^- \\\\\n",
    "\\text{subject to} & z_j = ax_j + b - y_j \\\\\n",
    "& z_j = z^+ - z_j^- \\\\\n",
    "& z_j^+,z_j^- \\geq 0, \\hspace{0.3cm} \\forall j\n",
    "\\end{array}\n",
    "\\end{equation}\n",
    "\n",
    "## Least maximum deviation estimation\n",
    "Let's do the other case now. In this variant, we only penalize the largest outlier, i.e. we push the system to give us the linear regression that has the lowest extreme values. This can often be helpful in situations where you want to \"robustify\" a solution: say the different data points are historic values of delivery times, then it makes sense that you would want to minimize the maximum deviation rather than, say, the least square error.\n",
    "\n",
    "Ok, but how do the equations look?\n",
    "\\begin{equation}\n",
    "\\begin{array}{ll}\n",
    "\\underset{a,b,\\{z_j, \\forall j\\}}{\\text{minimize}} & \\max \\limits_{j} z_j^+ + z_j^- \\\\\n",
    "\\text{subject to} & z_j^+ - z_j^- = ax_j + b - y_j \\\\\n",
    "& z_j^+,z_j^- \\geq 0, \\hspace{0.3cm} \\forall j\n",
    "\\end{array}\n",
    "\\end{equation}\n",
    "Using the clever epigraph trick (see e.g. [here](http://eceweb.ucsd.edu/~gert/ECE273/CvxOptTutPaper.pdf)), we can therefore get:\n",
    "\\begin{equation}\n",
    "\\begin{array}{ll}\n",
    "\\underset{t,a,b,\\{z_j, \\forall j\\}}{\\text{minimize}} & t \\\\\n",
    "\\text{subject to} & z_j^+ - z_j^- = ax_j + b - y_j \\\\\n",
    "& z_j^+ + z_j^- \\leq t \\\\\n",
    "& z_j^+,z_j^- \\geq 0, \\hspace{0.3cm} \\forall j\n",
    "\\end{array}\n",
    "\\end{equation}\n",
    "\n",
    "**How does this look like in code?**"
   ]
  },
  {
   "cell_type": "markdown",
   "metadata": {},
   "source": [
    "### Model formualtion and variable addition\n",
    "Since much of this is identical to the previous exercise, we are lumping things together here:"
   ]
  },
  {
   "cell_type": "code",
   "execution_count": 25,
   "metadata": {},
   "outputs": [],
   "source": [
    "model_max = xp.problem(\"Least maximum deviation estimation\")\n",
    "z_plus_max = {j : xp.var(vartype = xp.continuous, lb = 0, name = f'z+_{j}') for j in nRange};\n",
    "z_minus_max = {j : xp.var(vartype = xp.continuous, lb = 0, name = f'z-_{j}') for j in nRange};\n",
    "a_max = xp.var(vartype = xp.continuous, name = 'a')\n",
    "b_max = xp.var(vartype = xp.continuous, name = 'b')\n",
    "\n",
    "# This is the only difference to the previous case\n",
    "t = xp.var(vartype = xp.continuous, name = 't')\n",
    "\n",
    "model_max.addVariable(z_plus_max, z_minus_max, a_max, b_max, t)"
   ]
  },
  {
   "cell_type": "markdown",
   "metadata": {},
   "source": [
    "Note that I changed the names so that they are unique in this Jupyter notebook: you don't want to run into a situation where you are not sure what `a` refers to!\n",
    "\n",
    "### Constraint and objective function definition and solution"
   ]
  },
  {
   "cell_type": "code",
   "execution_count": 26,
   "metadata": {},
   "outputs": [
    {
     "data": {
      "image/png": "[encoded data removed]",
      "text/plain": [
       "<Figure size 432x288 with 1 Axes>"
      ]
     },
     "metadata": {
      "needs_background": "light"
     },
     "output_type": "display_data"
    }
   ],
   "source": [
    "# The objective is even simpler in this case\n",
    "model_max.setObjective(t)\n",
    "\n",
    "# The constraints\n",
    "for j in nRange:\n",
    "    max_difference = xp.constraint(z_plus_max[j] - z_minus_max[j] == a_max * coord[j, 0] + b_max - coord[j, 1], \n",
    "                                   name=f'Max difference for point {j}')\n",
    "    t_definition = xp.constraint(z_plus_max[j] + z_minus_max[j] <= t, name = f'Max value for t at point {j}')\n",
    "    model_max.addConstraint(max_difference, t_definition)\n",
    "\n",
    "# Solve the problem and plot the result\n",
    "model_max.solve()\n",
    "a_max_val = model_max.getSolution(a_max)\n",
    "b_max_val = model_max.getSolution(b_max)\n",
    "plotting(coord, a_max_val, b_max_val)"
   ]
  },
  {
   "cell_type": "markdown",
   "metadata": {},
   "source": [
    "Again we did a modelling trick with the epigraph variable $t$, so let's test that it has been modelled correctly. If it is, then $t = \\max \\limits_j |z_j| = \\max \\{\\max \\limits_j z_j^+, \\max \\limits_j z_j^-\\}$:"
   ]
  },
  {
   "cell_type": "code",
   "execution_count": 27,
   "metadata": {},
   "outputs": [
    {
     "name": "stdout",
     "output_type": "stream",
     "text": [
      "Epigraph difference: 0.0\n"
     ]
    }
   ],
   "source": [
    "t_val = model_max.getSolution(t)\n",
    "z_plus_max = max([model_max.getSolution(z_plus_max[j]) for j in nRange])\n",
    "z_minus_max = max([model_max.getSolution(z_minus_max[j]) for j in nRange])\n",
    "\n",
    "print(f'Epigraph difference: {t_val - max(z_plus_max,z_minus_max)}')"
   ]
  }
 ],
 "metadata": {
  "kernelspec": {
   "display_name": "Python 3",
   "language": "python",
   "name": "python3"
  },
  "language_info": {
   "codemirror_mode": {
    "name": "ipython",
    "version": 3
   },
   "file_extension": ".py",
   "mimetype": "text/x-python",
   "name": "python",
   "nbconvert_exporter": "python",
   "pygments_lexer": "ipython3",
   "version": "3.7.2"
  }
 },
 "nbformat": 4,
 "nbformat_minor": 2
}
