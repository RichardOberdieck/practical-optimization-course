{
 "cells": [
  {
   "cell_type": "markdown",
   "metadata": {},
   "source": [
    "# Facility location problem\n",
    "Suppose you have 9 different places where you could build a factory, but want to build only 3. How could you make this decision? Well, you could try all different combinations (i.e. $9\\cdot 8\\cdot 7 = 504$), or you could formulate it as a mixed-integer programming problem.\n",
    "\n",
    "The considerations made are:\n",
    "- Collectively, these factories should satisfy the demand from different sites.\n",
    "- The distinguishing factor between different locations is how much it costs to build the factory and ship items.\n",
    "- We want to make the decision that costs the least amount of money.\n",
    "\n",
    "## Initialization\n",
    "First, let's get some bookkeeping out of the way first:"
   ]
  },
  {
   "cell_type": "code",
   "execution_count": 124,
   "metadata": {},
   "outputs": [],
   "source": [
    "# Initialization\n",
    "import xpress as xp\n",
    "import matplotlib.pyplot as plt\n",
    "import networkx as nx\n",
    "import numpy as np\n",
    "import pandas as pd\n",
    "import math\n",
    "from sys import stdout\n",
    "from dataclasses import dataclass\n",
    "\n",
    "model = xp.problem(\"Facility location problem\")\n",
    "\n",
    "# Define the classes for this problem\n",
    "@dataclass(frozen=True)\n",
    "class Unit:\n",
    "    name: str\n",
    "    coordinate: tuple\n",
    "        \n",
    "    def get_distance(self, other_unit: Unit):\n",
    "        return np.sqrt(np.sum(np.square(np.subtract(self.coordinate, other_unit.coordinate))))\n",
    "\n",
    "@dataclass(frozen=True)\n",
    "class Facility(Unit):\n",
    "    construction_cost: float\n",
    "        \n",
    "@dataclass(frozen=True)\n",
    "class Client(Unit):\n",
    "    demand: float\n",
    "        \n",
    "class Connection:    \n",
    "    def __init__(self, origin: Facility, destination: Client):\n",
    "        self.origin = origin\n",
    "        self.destination = destination\n",
    "        self.distance = origin.get_distance(destination)"
   ]
  },
  {
   "cell_type": "markdown",
   "metadata": {},
   "source": [
    "> When we write `Facility(Unit)`, we *inherit* all the things from this **base class**. This means, everything that `Unit` can do, `Facility` can also do. We could even go one step further and make `Unit` *abstract* (then it would be an **abstract base class** (ABC)), so that we cannot create an object of type `Unit`.\n",
    "\n",
    "Now we define the data for the problem:"
   ]
  },
  {
   "cell_type": "code",
   "execution_count": 125,
   "metadata": {},
   "outputs": [],
   "source": [
    "# Data import\n",
    "clients = [Client(\"Client A\", (0, 1.5), 3),\n",
    "          Client(\"Client B\", (2.5, 1.2), 4)]\n",
    "\n",
    "construction_cost = np.array([[3,2,3],[1,3,3],[4,3,2]])\n",
    "facilities = [Facility(f'Facility ({i},{j})', (i,j), construction_cost[i,j]) for i in range(3) for j in range(3)]\n",
    "connections = [Connection(origin,destination) for origin in facilities for destination in clients]\n",
    "\n",
    "mileage_cost = 1\n",
    "max_transport_from_facility = 3\n",
    "n_factories = 3"
   ]
  },
  {
   "cell_type": "markdown",
   "metadata": {},
   "source": [
    "## Variable definition\n",
    "Similarly to our example on day 1, we have to satisfy the demand from the different sites. This means we again need flow variables representing the flows between all *possible* factories and the clients, i.e. $f_{a,c} \\in [0,M]$, where $M = $`max_transport_from_facility`:"
   ]
  },
  {
   "cell_type": "code",
   "execution_count": 126,
   "metadata": {},
   "outputs": [],
   "source": [
    "f = {c : xp.var(vartype = xp.continuous, lb = 0, ub = max_transport_from_facility, name=f'f_{c.origin.name},{c.destination.name}')\n",
    "     for c in connections}"
   ]
  },
  {
   "cell_type": "markdown",
   "metadata": {},
   "source": [
    "However, we also have to make decisions as to whether or not to build the factory. These are yes/no decisions, and we introduce binary variables to model them, $x_f$. A binary variable is a variable that can only have the values $0$ or $1$."
   ]
  },
  {
   "cell_type": "code",
   "execution_count": 127,
   "metadata": {},
   "outputs": [],
   "source": [
    "x = {f : xp.var(vartype = xp.binary, name=f'delta_{f.name}') for f in facilities}\n",
    "model.addVariable(f,x)"
   ]
  },
  {
   "cell_type": "markdown",
   "metadata": {},
   "source": [
    "## Constraints\n",
    "However, we have some constraints on our choice of facility:\n",
    "### Maximum capacity\n",
    "There is a maximum capacity of each factory, i.e. $\\sum \\limits_{j} f_{i,j} \\leq f_i^{\\max}$, $\\forall i$. In our case we have the same limit for all, i.e. $f_i^{\\max} = 3$, $\\forall i$."
   ]
  },
  {
   "cell_type": "code",
   "execution_count": 128,
   "metadata": {},
   "outputs": [],
   "source": [
    "maximum_capacity = (xp.constraint(xp.Sum(f[c] for c in connections if c.origin == fac) <= max_transport_from_facility,\n",
    "                                 name = f'Maximum capacity for facility {fac.name}') for fac in facilities)"
   ]
  },
  {
   "cell_type": "markdown",
   "metadata": {},
   "source": [
    "### Flows zero if not selected\n",
    "The flows $f_{i,j}$ have to be 0 if $x_i$ is equal to 0. This translates into a big-M constraint, i.e. $f_{i,j} \\leq M_ix_i$, where $M_i$ is sufficiently large. In our case, we know that the maximum flow is $f_i^{\\max}$, and therefore we can set $M_i = f_i^{\\max}$ to get a tight formulation and avoid numerical problems."
   ]
  },
  {
   "cell_type": "code",
   "execution_count": 129,
   "metadata": {},
   "outputs": [],
   "source": [
    "flows_zero_if_not_selected = (xp.constraint(f[c] <= max_transport_from_facility*x[c.origin], \n",
    "                                            name=f'Flow from {c.origin.name} to {c.destination.name} zero if not selected') \n",
    "                              for c in connections)"
   ]
  },
  {
   "cell_type": "markdown",
   "metadata": {},
   "source": [
    "### Fix number of factories to be built\n",
    "We should have 3 factories: $\\sum \\limits_{i} x_i = 3$."
   ]
  },
  {
   "cell_type": "code",
   "execution_count": 130,
   "metadata": {},
   "outputs": [],
   "source": [
    "fix_number_of_factories = xp.constraint(xp.Sum(x[fac] for fac in facilities) == 3, name=f'Fix number of factories to {n_factories}')"
   ]
  },
  {
   "cell_type": "markdown",
   "metadata": {},
   "source": [
    "### Demand satisfaction\n",
    "Lastly, we have to satify our demand: $\\sum \\limits_{i} f_{ij} \\geq demand_j$, $\\forall j$."
   ]
  },
  {
   "cell_type": "code",
   "execution_count": 131,
   "metadata": {},
   "outputs": [],
   "source": [
    "demand_satisfaction = (xp.constraint(xp.Sum(f[c] for c in connections if c.destination == client) >= client.demand, \n",
    "                                     name = f'Demand satisfaction for {client.name}') for client in clients)\n",
    "\n",
    "model.addConstraint(maximum_capacity, flows_zero_if_not_selected, fix_number_of_factories, demand_satisfaction)"
   ]
  },
  {
   "cell_type": "markdown",
   "metadata": {},
   "source": [
    "## Objective function\n",
    "Finally, let's look at the objective function. We have two components for this: first, there is a construction cost associated with the decision of buying, and then there is a shipping cost. Let's assume that the shipping is a one-time thing (otherwise you could simply multiply by the number of times and then discount it to the net present value).\n",
    "\n",
    "Therefore, we get the following equation:\n",
    "\\begin{equation}\n",
    "\\sum \\limits_{i} \\left(c_i^{\\text{construction}}x_i + \\sum \\limits_{j} c_{ij}^{mileage}f_{ij}\\right)\n",
    "\\end{equation}"
   ]
  },
  {
   "cell_type": "code",
   "execution_count": 1,
   "metadata": {},
   "outputs": [
    {
     "ename": "NameError",
     "evalue": "name 'model' is not defined",
     "output_type": "error",
     "traceback": [
      "\u001b[1;31m---------------------------------------------------------------------------\u001b[0m",
      "\u001b[1;31mNameError\u001b[0m                                 Traceback (most recent call last)",
      "\u001b[1;32m<ipython-input-1-a0263590e34a>\u001b[0m in \u001b[0;36m<module>\u001b[1;34m\u001b[0m\n\u001b[1;32m----> 1\u001b[1;33m model.setObjective(xp.Sum(fac.construction_cost*x[fac] + \n\u001b[0m\u001b[0;32m      2\u001b[0m                           xp.Sum(mileage_cost*c.distance*f[c] for c in connections if c.origin == fac) for fac in facilities))\n",
      "\u001b[1;31mNameError\u001b[0m: name 'model' is not defined"
     ]
    }
   ],
   "source": [
    "model.setObjective(xp.Sum(fac.construction_cost*x[fac] + \n",
    "                          xp.Sum(mileage_cost*c.distance*f[c] for c in connections if c.origin == fac) for fac in facilities))"
   ]
  },
  {
   "cell_type": "markdown",
   "metadata": {},
   "source": [
    "## Solution and post-processing\n",
    "Now let's solve this thing and then look at the solution afterwards. The relevant questions at this point are:\n",
    "- How much do we ship along each route?\n",
    "- What are the limiting factors?\n",
    "\n",
    "Also, it may be interesting to check whether we actually need 3 facilities or whether we could make due with less."
   ]
  },
  {
   "cell_type": "code",
   "execution_count": 133,
   "metadata": {},
   "outputs": [],
   "source": [
    "model.solve()\n",
    "\n",
    "fVal = {c : model.getSolution(f[c]) for c in connections}\n",
    "xVal = {fac : model.getSolution(x[fac]) for fac in facilities}"
   ]
  },
  {
   "cell_type": "markdown",
   "metadata": {},
   "source": [
    "### A little graphical representation"
   ]
  },
  {
   "cell_type": "code",
   "execution_count": 142,
   "metadata": {},
   "outputs": [
    {
     "data": {
      "image/png": "[encoded data removed]",
      "text/plain": [
       "<Figure size 432x288 with 1 Axes>"
      ]
     },
     "metadata": {
      "needs_background": "light"
     },
     "output_type": "display_data"
    }
   ],
   "source": [
    "# Define the positions\n",
    "pos = {fac.name : fac.coordinate for fac in facilities + clients}\n",
    "\n",
    "# Draw the edges that actually exist\n",
    "G = nx.Graph()\n",
    "G.add_edges_from([(c.origin.name, c.destination.name) for c in connections if fVal[c] > 0.1])\n",
    "color_map = []\n",
    "for node in G:\n",
    "    if 'Client' in node:\n",
    "        color_map.append('blue')\n",
    "    else: color_map.append('green')      \n",
    "nx.draw_networkx(G, pos, node_size = 500, node_color = color_map)\n",
    "\n",
    "# Draw the other ones\n",
    "H = nx.Graph()\n",
    "H.add_nodes_from([fac.name for fac in facilities if xVal[fac] < 0.5])\n",
    "nx.draw_networkx_nodes(H, pos, node_size = 500, node_color='y')\n",
    "nx.draw_networkx_labels(H, pos)\n",
    "plt.show()"
   ]
  }
 ],
 "metadata": {
  "kernelspec": {
   "display_name": "Python 3",
   "language": "python",
   "name": "python3"
  },
  "language_info": {
   "codemirror_mode": {
    "name": "ipython",
    "version": 3
   },
   "file_extension": ".py",
   "mimetype": "text/x-python",
   "name": "python",
   "nbconvert_exporter": "python",
   "pygments_lexer": "ipython3",
   "version": "3.7.2"
  }
 },
 "nbformat": 4,
 "nbformat_minor": 2
}
