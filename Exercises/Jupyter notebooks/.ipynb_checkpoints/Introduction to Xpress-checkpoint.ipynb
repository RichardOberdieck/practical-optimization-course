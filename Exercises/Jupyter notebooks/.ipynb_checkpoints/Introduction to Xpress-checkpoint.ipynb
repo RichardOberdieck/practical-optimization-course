{
 "cells": [
  {
   "cell_type": "markdown",
   "metadata": {},
   "source": [
    "# Introduction to FICO Xpress\n",
    "Xpress is one of the state-of-the-art mathematical programming solvers out there. In essence, it enables us to formulate and solve mathematical programming problems  linear or convex quadratic objective function and constraints. While the solver itself is written in C, there are interfaces to C++, Java, Python and Matlab. Here, we are going to look at the Python interface.\n",
    "\n",
    "# How to model a problem with Xpress\n",
    "In this part, we will look at five different elements, which I think are the most important parts when building your model:\n",
    "1. Variables\n",
    "2. Constraints, including indicator constraints\n",
    "3. Callbacks\n",
    "4. More complex modeling elements (piecewise linear functions, multi-objective etc.)\n",
    "5. How Xpress let's you know something is wrong\n",
    "\n",
    "> Note: Xpress has two parts you can work with: the `xpress` object, which is a static object that allows you to access things such as custom `Sum` operators, variable and constraint definition etc. Then, you have your actual model object, called `problem` in the documentation, which represents the specific model instance you are working with. Note that throughout this notebook I will abbreviate `xpress` as `xp` and my model object will be called `mdl`.\n",
    "\n",
    "## Variables\n",
    "### Creating variables\n",
    "All variables are created using the `xp.var()` method, the type of variable created is defined as a parameter of this method called `vartype`. The variable types at your disposal are:\n",
    "- `xp.continuous` for continuous variables\n",
    "- `xp.binary` for binary variables (lower and upper bound are further restricted to 0 and 1)\n",
    "- `xp.integer` for integer variables\n",
    "- `xp.semicontinuous` for semi-continuous variables, i.e. $x \\in \\{0\\} \\cup [l,u]$ with $0\\leq l \\leq u$ (see [here](http://yetanothermathprogrammingconsultant.blogspot.com/2016/08/semi-continuous-variables.html) for a nice description).\n",
    "- `xp.semiinteger` for semi-integer variables\n",
    "- `xp.partiallyinteger` for partially integer variables, i.e. $x \\in \\{l,...,t\\} \\cup [t,u]$ with $t \\leq t \\leq u$. This means, from $l$ to $t$ the variable is integer and from $t$ to $u$ the variable is continuous.\n",
    "\n",
    "The rest about variable creation is pretty standard. You have `name`, `lb`, `ub` and `threshold` as parameters in `xp.var` (`threshold` only when needed). **Also, note that the default value for `lb` is 0.**\n",
    "\n",
    "So let's look at some examples:"
   ]
  },
  {
   "cell_type": "code",
   "execution_count": 1,
   "metadata": {},
   "outputs": [],
   "source": [
    "import xpress as xp\n",
    "\n",
    "# Creating a single variable\n",
    "x = xp.var(vartype = xp.continuous, lb = -5, ub = 5, name = 'x')\n",
    "\n",
    "# Creating a dictionary of variables\n",
    "y = {k : xp.var(vartype = xp.binary, lb = 0, ub = 1, name = f'y_{k}') for k in range(10)}"
   ]
  },
  {
   "cell_type": "markdown",
   "metadata": {},
   "source": [
    "### Adding variables to a model\n",
    "Note that we have simply created some variables, without associating them to an actual model. So let's do that:"
   ]
  },
  {
   "cell_type": "code",
   "execution_count": 2,
   "metadata": {},
   "outputs": [],
   "source": [
    "mdl = xp.problem(\"Variable testing\")\n",
    "mdl.addVariable(x,y)\n",
    "mdl.solve()"
   ]
  },
  {
   "cell_type": "markdown",
   "metadata": {},
   "source": [
    "### Getting the solution values out\n",
    "So to add variables, you need to use the command `addVariable`. Now let's see how we can inspect the solution to our problem:"
   ]
  },
  {
   "cell_type": "code",
   "execution_count": 15,
   "metadata": {},
   "outputs": [
    {
     "data": {
      "text/plain": [
       "-5.0"
      ]
     },
     "execution_count": 15,
     "metadata": {},
     "output_type": "execute_result"
    }
   ],
   "source": [
    "mdl.getSolution(x)"
   ]
  },
  {
   "cell_type": "markdown",
   "metadata": {},
   "source": [
    "However, if you want to get the solution of multiple values, it gets a bit trickier, because `mdl.getSolution(y)` will simply throw you an error:"
   ]
  },
  {
   "cell_type": "code",
   "execution_count": 16,
   "metadata": {},
   "outputs": [
    {
     "ename": "SystemError",
     "evalue": "<built-in method getSolution of xpress.problem object at 0x00000030C43F0D30> returned a result with an error set",
     "output_type": "error",
     "traceback": [
      "\u001b[1;31m---------------------------------------------------------------------------\u001b[0m",
      "\u001b[1;31mRuntimeError\u001b[0m                              Traceback (most recent call last)",
      "\u001b[1;31mRuntimeError\u001b[0m: Incorrect object(s) passed: need index, variable, constraint, or SOS",
      "\nThe above exception was the direct cause of the following exception:\n",
      "\u001b[1;31mSystemError\u001b[0m                               Traceback (most recent call last)",
      "\u001b[1;32m<ipython-input-16-020d404d2629>\u001b[0m in \u001b[0;36m<module>\u001b[1;34m\u001b[0m\n\u001b[1;32m----> 1\u001b[1;33m \u001b[0mmdl\u001b[0m\u001b[1;33m.\u001b[0m\u001b[0mgetSolution\u001b[0m\u001b[1;33m(\u001b[0m\u001b[0my\u001b[0m\u001b[1;33m)\u001b[0m\u001b[1;33m\u001b[0m\u001b[1;33m\u001b[0m\u001b[0m\n\u001b[0m",
      "\u001b[1;31mSystemError\u001b[0m: <built-in method getSolution of xpress.problem object at 0x00000030C43F0D30> returned a result with an error set"
     ]
    }
   ],
   "source": [
    "mdl.getSolution(y)"
   ]
  },
  {
   "cell_type": "markdown",
   "metadata": {},
   "source": [
    "So you need to loop through all values of individually to extract the information:"
   ]
  },
  {
   "cell_type": "code",
   "execution_count": 19,
   "metadata": {},
   "outputs": [
    {
     "data": {
      "text/plain": [
       "[0.0, 0.0, 0.0, 0.0, 0.0, 0.0, 0.0, 0.0, 0.0, 0.0]"
      ]
     },
     "execution_count": 19,
     "metadata": {},
     "output_type": "execute_result"
    }
   ],
   "source": [
    "[mdl.getSolution(y[k]) for k in range(10)]"
   ]
  },
  {
   "cell_type": "markdown",
   "metadata": {},
   "source": [
    "Personally, I find this a bit clunky, because I need to iterate over the model object (which contains everything) a lot of times. However, there is sadly no other way I am aware of."
   ]
  },
  {
   "cell_type": "markdown",
   "metadata": {},
   "source": [
    "## Constraints\n",
    "### Defining constraints\n",
    "In principle, adding constraints is super-simple in Xpress: simply type `addConstraint`, write down your constraint and you are good to go. For example, in the Python documentation for Xpress (e.g. page 5), you will see the following: `mdl.addConstraint (xp.Sum ([y[i] for i in range (10)]) <= 1)`. \n",
    "\n",
    "However, while this works, this directly goes against one of my modelling rules, which is to **always** name your constraints. And this, sadly, is not directly possible from using `addConstraint`. To name your constraint, you have to make a constraint object using `xp.constraint`, and then run `mdl.addConstraint` in a second step:"
   ]
  },
  {
   "cell_type": "code",
   "execution_count": 3,
   "metadata": {},
   "outputs": [],
   "source": [
    "cstr1 = xp.constraint(x <= 5, name = 'x bounding')\n",
    "mdl.addConstraint(cstr1)"
   ]
  },
  {
   "cell_type": "markdown",
   "metadata": {},
   "source": [
    "### Inspecting constraints\n",
    "A common thing, especially when debugging your model, is to what to inspect your constraint to make sure you really have included all terms in that mass balance, or you have not forgotten a factory in your assignment problem. So how can you do this in Xpress? Well, not that easily unfortunately: if you simply type e.g. `cstr1` and hit enter, you will simply get a print out of the name itself."
   ]
  },
  {
   "cell_type": "code",
   "execution_count": 4,
   "metadata": {},
   "outputs": [
    {
     "data": {
      "text/plain": [
       "x bounding"
      ]
     },
     "execution_count": 4,
     "metadata": {},
     "output_type": "execute_result"
    }
   ],
   "source": [
    "cstr1"
   ]
  },
  {
   "cell_type": "markdown",
   "metadata": {},
   "source": [
    "So what properties are exposed of this constraint? You have `body`, `lb`, `ub`, `name` and `copy` (which is a method that simply copies the constraint). `lb` and `ub` are floats, and `body` is an `xp.expression`, that contains the \"meat\" of the constraint. However, while you get a printout of the body if you type `cstr1.body` and hit enter, you cannot actually do anything with it."
   ]
  },
  {
   "cell_type": "code",
   "execution_count": 5,
   "metadata": {},
   "outputs": [
    {
     "data": {
      "text/plain": [
       "  x"
      ]
     },
     "execution_count": 5,
     "metadata": {},
     "output_type": "execute_result"
    }
   ],
   "source": [
    "cstr1.body"
   ]
  },
  {
   "cell_type": "markdown",
   "metadata": {},
   "source": [
    "I cannot know for sure, but I suspect this is because the constraint object, much like the variable object, is created statically by `xp.constraint`, rather than directly as part of the model. This is unlike other solvers such as CPLEX, where the constraint is directly added to the model. The result? You have to look at the string output of the body, or get a `.lp` file printout and look at that."
   ]
  },
  {
   "cell_type": "markdown",
   "metadata": {},
   "source": [
    "### Indicator constraints\n",
    "Indicator constraints (sometimes also called \"if-then\" or \"conditional\" constraints) denote the following type of constraint: *if $\\sum \\limits_j a_{ij}x_j \\leq b_i$ holds, then $\\sum \\limits_j a_{kj}x_j \\leq b_k$ has to hold*. Mathematically, it is often represented using an \"imply\" arrow ($\\Rightarrow$):\n",
    "\\begin{equation}\n",
    "\\sum \\limits_j a_{ij}x_j \\leq b_i \\Rightarrow \\sum \\limits_j a_{kj}x_j \\leq b_k\n",
    "\\end{equation}\n",
    "There are ways to reformulate this constraints (see e.g. [here](https://download.aimms.com/aimms/download/manuals/AIMMS3OM_IntegerProgrammingTricks.pdf)) using binary variables, although there is an $\\epsilon$ to be tweaked.\n",
    "\n",
    "So how does Xpress handle this? There are indicator constraints in `Xpress`, but with a couple of caveats:\n",
    "1. You have to use `addIndicator`, and as such (a) cannot add a name to the indicator constraint and (b) cannot add more than one at the same time.\n",
    "2. You can only use $y=0$ and $y=1$ on the left side of the indicator. This means, if you wanted to write a general indicator constriant like the one above, you would need to manually write an indicator constraint that sets an auxiliary variable to $0$ or $1$, and then use that in the `addIndicator` method.\n",
    "\n",
    "Let's see an example of this:"
   ]
  },
  {
   "cell_type": "code",
   "execution_count": 50,
   "metadata": {},
   "outputs": [],
   "source": [
    "# A valid indicator constraint in Xpress\n",
    "mdl.addIndicator(x == 1, xp.Sum(y[k] for k in range(10)) >= 5)"
   ]
  },
  {
   "cell_type": "code",
   "execution_count": 49,
   "metadata": {},
   "outputs": [
    {
     "ename": "RuntimeError",
     "evalue": "Invalid condition for indicator constraints: must be <variable_name> == 0 or <variable_name> == 1",
     "output_type": "error",
     "traceback": [
      "\u001b[1;31m---------------------------------------------------------------------------\u001b[0m",
      "\u001b[1;31mRuntimeError\u001b[0m                              Traceback (most recent call last)",
      "\u001b[1;32m<ipython-input-49-9652e6e09215>\u001b[0m in \u001b[0;36m<module>\u001b[1;34m\u001b[0m\n\u001b[0;32m      1\u001b[0m \u001b[1;31m# Anything else but ==1 or ==0 will give an error though:\u001b[0m\u001b[1;33m\u001b[0m\u001b[1;33m\u001b[0m\u001b[1;33m\u001b[0m\u001b[0m\n\u001b[1;32m----> 2\u001b[1;33m \u001b[0mmdl\u001b[0m\u001b[1;33m.\u001b[0m\u001b[0maddIndicator\u001b[0m\u001b[1;33m(\u001b[0m\u001b[0mx\u001b[0m \u001b[1;33m>=\u001b[0m \u001b[1;36m1\u001b[0m\u001b[1;33m,\u001b[0m \u001b[0mxp\u001b[0m\u001b[1;33m.\u001b[0m\u001b[0mSum\u001b[0m\u001b[1;33m(\u001b[0m\u001b[0my\u001b[0m\u001b[1;33m[\u001b[0m\u001b[0mk\u001b[0m\u001b[1;33m]\u001b[0m \u001b[1;32mfor\u001b[0m \u001b[0mk\u001b[0m \u001b[1;32min\u001b[0m \u001b[0mrange\u001b[0m\u001b[1;33m(\u001b[0m\u001b[1;36m10\u001b[0m\u001b[1;33m)\u001b[0m\u001b[1;33m)\u001b[0m \u001b[1;33m>=\u001b[0m \u001b[1;36m5\u001b[0m\u001b[1;33m)\u001b[0m\u001b[1;33m\u001b[0m\u001b[1;33m\u001b[0m\u001b[0m\n\u001b[0m",
      "\u001b[1;31mRuntimeError\u001b[0m: Invalid condition for indicator constraints: must be <variable_name> == 0 or <variable_name> == 1"
     ]
    }
   ],
   "source": [
    "# Anything else but ==1 or ==0 will give an error though:\n",
    "mdl.addIndicator(x >= 1, xp.Sum(y[k] for k in range(10)) >= 5)"
   ]
  },
  {
   "cell_type": "code",
   "execution_count": 48,
   "metadata": {},
   "outputs": [
    {
     "ename": "RuntimeError",
     "evalue": "Invalid condition for indicator constraints: there must be exactly one variable",
     "output_type": "error",
     "traceback": [
      "\u001b[1;31m---------------------------------------------------------------------------\u001b[0m",
      "\u001b[1;31mRuntimeError\u001b[0m                              Traceback (most recent call last)",
      "\u001b[1;32m<ipython-input-48-79691cf56d25>\u001b[0m in \u001b[0;36m<module>\u001b[1;34m\u001b[0m\n\u001b[0;32m      1\u001b[0m \u001b[1;31m# Lastly, let's try a sum of variables:\u001b[0m\u001b[1;33m\u001b[0m\u001b[1;33m\u001b[0m\u001b[1;33m\u001b[0m\u001b[0m\n\u001b[1;32m----> 2\u001b[1;33m \u001b[0mmdl\u001b[0m\u001b[1;33m.\u001b[0m\u001b[0maddIndicator\u001b[0m\u001b[1;33m(\u001b[0m\u001b[0mxp\u001b[0m\u001b[1;33m.\u001b[0m\u001b[0mSum\u001b[0m\u001b[1;33m(\u001b[0m\u001b[0my\u001b[0m\u001b[1;33m[\u001b[0m\u001b[0mk\u001b[0m\u001b[1;33m]\u001b[0m \u001b[1;32mfor\u001b[0m \u001b[0mk\u001b[0m \u001b[1;32min\u001b[0m \u001b[0mrange\u001b[0m\u001b[1;33m(\u001b[0m\u001b[1;36m10\u001b[0m\u001b[1;33m)\u001b[0m\u001b[1;33m)\u001b[0m \u001b[1;33m==\u001b[0m \u001b[1;36m1\u001b[0m\u001b[1;33m,\u001b[0m \u001b[0mx\u001b[0m \u001b[1;33m>=\u001b[0m \u001b[1;36m5\u001b[0m\u001b[1;33m)\u001b[0m\u001b[1;33m\u001b[0m\u001b[1;33m\u001b[0m\u001b[0m\n\u001b[0m",
      "\u001b[1;31mRuntimeError\u001b[0m: Invalid condition for indicator constraints: there must be exactly one variable"
     ]
    }
   ],
   "source": [
    "# Lastly, let's try a sum of variables:\n",
    "mdl.addIndicator(xp.Sum(y[k] for k in range(10)) == 1, x >= 5)"
   ]
  },
  {
   "cell_type": "markdown",
   "metadata": {},
   "source": [
    "## Callbacks\n",
    "A callback is way to interact with a solver during its execution. For Xpress, this section is going to be pretty short, as I have found callbacks to be pretty easy to use: simply write a separate function that contains what you want to be called during the execution at a given point, and add it with the corresponding `mdl.addcb[...]` command. But at what points in the execution can I inject a callback from Xpress? Pretty much anywhere, so just check in the [manual](https://www.fico.com/fico-xpress-optimization/docs/latest/solver/optimizer/python/HTML/GUID-616C323F-05D8-3460-B0D7-80F77DA7D046.html).\n",
    "\n",
    "One note there is to be made on callbacks: the function you add always has to follow the structure that is laid out in the manual. So if you want to make your `optsol` callback a `globallog` callback, you may need to change the input/output structure of the callback to make it work.\n",
    "\n",
    "Let's look at a simple example:"
   ]
  },
  {
   "cell_type": "code",
   "execution_count": 60,
   "metadata": {},
   "outputs": [],
   "source": [
    "mdl = xp.problem(\"Testing callbacks\")\n",
    "n = 10000\n",
    "range_n = range(n)\n",
    "x = {i : xp.var(vartype = xp.binary, name = f'x_{i}') for i in range_n}\n",
    "mdl.addVariable(x)\n",
    "mdl.setObjective(xp.Sum(-i*x[i]*x[i] for i in range_n))\n",
    "cstr1 = xp.constraint(xp.Sum(i*x[i] for i in range_n) <= 5000, name='First constraint')\n",
    "cstr2 = xp.constraint(xp.Sum(x[i] for i in range_n) >= 10, name='Second constraint')\n",
    "mdl.addConstraint(cstr1,cstr2)\n",
    "mdl.solve()"
   ]
  },
  {
   "cell_type": "markdown",
   "metadata": {},
   "source": [
    "Now let's add a callback that fires every time we write a new line in the log file:"
   ]
  },
  {
   "cell_type": "code",
   "execution_count": 63,
   "metadata": {},
   "outputs": [
    {
     "name": "stdout",
     "output_type": "stream",
     "text": [
      "Node 1 with depth 1 has been processed\n",
      "Node 1 with depth 1 has been processed\n",
      "Node 1 with depth 3 has been processed\n",
      "Node 1 with depth 3 has been processed\n",
      "Node 1 with depth 3 has been processed\n",
      "Node 1 with depth 3 has been processed\n",
      "Node 1 with depth 4 has been processed\n",
      "Node 1 with depth 4 has been processed\n",
      "Node 1 with depth 4 has been processed\n",
      "Node 1 with depth 4 has been processed\n",
      "Node 1 with depth 5 has been processed\n",
      "Node 1 with depth 5 has been processed\n",
      "Node 1 with depth 6 has been processed\n",
      "Node 1 with depth 6 has been processed\n",
      "Node 1 with depth 7 has been processed\n",
      "Node 1 with depth 7 has been processed\n",
      "Node 1 with depth 12 has been processed\n",
      "Node 1 with depth 12 has been processed\n",
      "Node 1 with depth 12 has been processed\n",
      "Node 1 with depth 12 has been processed\n"
     ]
    }
   ],
   "source": [
    "def globalLog(prob, object):\n",
    "    nodedepth = prob.attributes.nodedepth\n",
    "    node = prob.attributes.currentnode\n",
    "    print (f'Node {node} with depth {nodedepth} has been processed')\n",
    "    return 0\n",
    "\n",
    "mdl.addcbgloballog (globalLog, None, 0)\n",
    "mdl.solve()"
   ]
  },
  {
   "cell_type": "markdown",
   "metadata": {},
   "source": [
    "## More complex modeling elements\n",
    "If you come from e.g. CPLEX, you may be used to having elements like piecewise linear functions available for you to use, or even multi-objective optimization possibilities in Gurobi. However, to make it short, there are currently (Xpress 8.5.11) no such things available in Xpress, at least from Python. You have your variables, your constraints and your callbacks, and that's pretty much it. Anything else you need to make by yourself.\n",
    "\n",
    "Also, note that as of Xpress 8.5.11 the variable objects are not picklable (i.e. not serializable with the `pickle` module), so that may have a hit on performance for model building for very large models.\n",
    "\n",
    "## Model error reporting in Xpress\n",
    "If you are like me, you make a ton of mistakes when coding up models: copy-pasting some code without changing variable names, adding the same constraint twice etc. What I really appreciate about a library is when it tells me when (and especially how) I messed up. So how does Xpress do this? Let's look at a couple of example and see:"
   ]
  },
  {
   "cell_type": "code",
   "execution_count": 69,
   "metadata": {},
   "outputs": [
    {
     "ename": "RuntimeError",
     "evalue": "Invalid variable name (must be a string)",
     "output_type": "error",
     "traceback": [
      "\u001b[1;31m---------------------------------------------------------------------------\u001b[0m",
      "\u001b[1;31mRuntimeError\u001b[0m                              Traceback (most recent call last)",
      "\u001b[1;32m<ipython-input-69-432508dc2bea>\u001b[0m in \u001b[0;36m<module>\u001b[1;34m\u001b[0m\n\u001b[0;32m      1\u001b[0m \u001b[0mmdl\u001b[0m \u001b[1;33m=\u001b[0m \u001b[0mxp\u001b[0m\u001b[1;33m.\u001b[0m\u001b[0mproblem\u001b[0m\u001b[1;33m(\u001b[0m\u001b[1;34m\"Testing error messages\"\u001b[0m\u001b[1;33m)\u001b[0m\u001b[1;33m\u001b[0m\u001b[1;33m\u001b[0m\u001b[0m\n\u001b[0;32m      2\u001b[0m \u001b[1;31m# Here I forget to write \"vartype\"\u001b[0m\u001b[1;33m\u001b[0m\u001b[1;33m\u001b[0m\u001b[1;33m\u001b[0m\u001b[0m\n\u001b[1;32m----> 3\u001b[1;33m \u001b[0mx\u001b[0m \u001b[1;33m=\u001b[0m \u001b[0mxp\u001b[0m\u001b[1;33m.\u001b[0m\u001b[0mvar\u001b[0m\u001b[1;33m(\u001b[0m\u001b[0mxp\u001b[0m\u001b[1;33m.\u001b[0m\u001b[0mbinary\u001b[0m\u001b[1;33m)\u001b[0m\u001b[1;33m\u001b[0m\u001b[1;33m\u001b[0m\u001b[0m\n\u001b[0m",
      "\u001b[1;31mRuntimeError\u001b[0m: Invalid variable name (must be a string)"
     ]
    }
   ],
   "source": [
    "mdl = xp.problem(\"Testing error messages\")\n",
    "# Here I forget to write \"vartype\"\n",
    "x = xp.var(xp.binary)"
   ]
  },
  {
   "cell_type": "code",
   "execution_count": 68,
   "metadata": {},
   "outputs": [
    {
     "ename": "SystemError",
     "evalue": "<built-in method addVariable of xpress.problem object at 0x00000030C43F0D30> returned NULL without setting an error",
     "output_type": "error",
     "traceback": [
      "\u001b[1;31m---------------------------------------------------------------------------\u001b[0m",
      "\u001b[1;31mSystemError\u001b[0m                               Traceback (most recent call last)",
      "\u001b[1;32m<ipython-input-68-05bae19dc4de>\u001b[0m in \u001b[0;36m<module>\u001b[1;34m\u001b[0m\n\u001b[0;32m      2\u001b[0m \u001b[0mx\u001b[0m \u001b[1;33m=\u001b[0m \u001b[0mxp\u001b[0m\u001b[1;33m.\u001b[0m\u001b[0mvar\u001b[0m\u001b[1;33m(\u001b[0m\u001b[0mname\u001b[0m\u001b[1;33m=\u001b[0m\u001b[1;34m'x'\u001b[0m\u001b[1;33m)\u001b[0m\u001b[1;33m\u001b[0m\u001b[1;33m\u001b[0m\u001b[0m\n\u001b[0;32m      3\u001b[0m \u001b[0my\u001b[0m \u001b[1;33m=\u001b[0m \u001b[0mxp\u001b[0m\u001b[1;33m.\u001b[0m\u001b[0mvar\u001b[0m\u001b[1;33m(\u001b[0m\u001b[0mname\u001b[0m\u001b[1;33m=\u001b[0m\u001b[1;34m'x'\u001b[0m\u001b[1;33m)\u001b[0m\u001b[1;33m\u001b[0m\u001b[1;33m\u001b[0m\u001b[0m\n\u001b[1;32m----> 4\u001b[1;33m \u001b[0mmdl\u001b[0m\u001b[1;33m.\u001b[0m\u001b[0maddVariable\u001b[0m\u001b[1;33m(\u001b[0m\u001b[0mx\u001b[0m\u001b[1;33m,\u001b[0m\u001b[0my\u001b[0m\u001b[1;33m)\u001b[0m\u001b[1;33m\u001b[0m\u001b[1;33m\u001b[0m\u001b[0m\n\u001b[0m",
      "\u001b[1;31mSystemError\u001b[0m: <built-in method addVariable of xpress.problem object at 0x00000030C43F0D30> returned NULL without setting an error"
     ]
    }
   ],
   "source": [
    "# Now I add a variable with the same name twice\n",
    "x = xp.var(name='x')\n",
    "y = xp.var(name='x')\n",
    "mdl.addVariable(x,y)"
   ]
  },
  {
   "cell_type": "markdown",
   "metadata": {},
   "source": [
    "This error message: `<built-in method [...] of xpress.problem object at [...]> returned NULL without setting an error` is very common in Xpress, and does not say anything. However, if we look over to the Jupyer notebook console, we read `1030 Error: Duplicate column names are not allowed - column 0 would have same name as column 1`.\n",
    "\n",
    "This is a very common theme, especially when you work with Jupyer notebooks. The exceptions that are thrown on screen are non-sensical, but the errors reported in the console are on spot. Lastly, let's introduce an error in the callback example from above:"
   ]
  },
  {
   "cell_type": "code",
   "execution_count": 70,
   "metadata": {},
   "outputs": [
    {
     "ename": "TypeError",
     "evalue": "globalLog() takes 1 positional argument but 2 were given",
     "output_type": "error",
     "traceback": [
      "\u001b[1;31m---------------------------------------------------------------------------\u001b[0m",
      "\u001b[1;31mTypeError\u001b[0m                                 Traceback (most recent call last)",
      "\u001b[1;32m<ipython-input-70-cb3ab10f953f>\u001b[0m in \u001b[0;36m<module>\u001b[1;34m\u001b[0m\n\u001b[0;32m     17\u001b[0m \u001b[1;33m\u001b[0m\u001b[0m\n\u001b[0;32m     18\u001b[0m \u001b[0mmdl\u001b[0m\u001b[1;33m.\u001b[0m\u001b[0maddcbgloballog\u001b[0m \u001b[1;33m(\u001b[0m\u001b[0mglobalLog\u001b[0m\u001b[1;33m,\u001b[0m \u001b[1;32mNone\u001b[0m\u001b[1;33m,\u001b[0m \u001b[1;36m0\u001b[0m\u001b[1;33m)\u001b[0m\u001b[1;33m\u001b[0m\u001b[1;33m\u001b[0m\u001b[0m\n\u001b[1;32m---> 19\u001b[1;33m \u001b[0mmdl\u001b[0m\u001b[1;33m.\u001b[0m\u001b[0msolve\u001b[0m\u001b[1;33m(\u001b[0m\u001b[1;33m)\u001b[0m\u001b[1;33m\u001b[0m\u001b[1;33m\u001b[0m\u001b[0m\n\u001b[0m",
      "\u001b[1;31mTypeError\u001b[0m: globalLog() takes 1 positional argument but 2 were given"
     ]
    }
   ],
   "source": [
    "mdl = xp.problem(\"Testing callback error\")\n",
    "n = 10000\n",
    "range_n = range(n)\n",
    "x = {i : xp.var(vartype = xp.binary, name = f'x_{i}') for i in range_n}\n",
    "mdl.addVariable(x)\n",
    "mdl.setObjective(xp.Sum(-i*x[i]*x[i] for i in range_n))\n",
    "cstr1 = xp.constraint(xp.Sum(i*x[i] for i in range_n) <= 5000, name='First constraint')\n",
    "cstr2 = xp.constraint(xp.Sum(x[i] for i in range_n) >= 10, name='Second constraint')\n",
    "mdl.addConstraint(cstr1,cstr2)\n",
    "\n",
    "# I simply removed the 'object' in the function name\n",
    "def globalLog(prob):\n",
    "    nodedepth = prob.attributes.nodedepth\n",
    "    node = prob.attributes.currentnode\n",
    "    print (f'Node {node} with depth {nodedepth} has been processed')\n",
    "    return 0\n",
    "\n",
    "mdl.addcbgloballog (globalLog, None, 0)\n",
    "mdl.solve()"
   ]
  },
  {
   "cell_type": "markdown",
   "metadata": {},
   "source": [
    "# How fast can I build a model\n",
    "To give you a feel on how long it takes to build something in Xpress, I am simply going to evaluate: (a) how much time does adding $10^7$ variables take, (b) how much time does it take to add $10^5$ sparse (i.e. 10 non-zero elements) or $10^3 dense constraints ($10^3$ non-zero elements), and (c) what is the performance hit of a simple callback?"
   ]
  },
  {
   "cell_type": "markdown",
   "metadata": {},
   "source": [
    "## (a) Adding variables"
   ]
  },
  {
   "cell_type": "code",
   "execution_count": 12,
   "metadata": {},
   "outputs": [
    {
     "name": "stdout",
     "output_type": "stream",
     "text": [
      "2.82 s ± 247 ms per loop (mean ± std. dev. of 7 runs, 1 loop each)\n",
      "1.47 s ± 128 ms per loop (mean ± std. dev. of 7 runs, 1 loop each)\n"
     ]
    }
   ],
   "source": [
    "n = 10000000\n",
    "\n",
    "def variable_addition(n):\n",
    "    mdl = xp.problem(\"Timing variables\")\n",
    "    x = {k : xp.var(vartype = xp.continuous, lb = -10, ub = 10, name = f'x_{k}') for k in range(n)}\n",
    "    mdl.addVariable(x)\n",
    "    \n",
    "# Time the whole thing\n",
    "%timeit variable_addition(n)\n",
    "\n",
    "# To verify, let's time the creation of the dictionary:\n",
    "%timeit x = {k : xp.var(vartype = xp.continuous, lb = -10, ub = 10, name = f'x_{k}') for k in range(n)}"
   ]
  },
  {
   "cell_type": "markdown",
   "metadata": {},
   "source": [
    "By the way, the reason we had to package the `variable creation` away was because otherwise Xpress would complain that we add a variable with the same name again. So, about 30% of the time is spent on creating the dictionary, and about 70% is spent on adding the variables to the model object. So just out of curiosity, how does this scale with $n$? Let's see:"
   ]
  },
  {
   "cell_type": "code",
   "execution_count": 17,
   "metadata": {},
   "outputs": [
    {
     "data": {
      "image/png": "[encoded data removed]",
      "text/plain": [
       "<Figure size 432x288 with 1 Axes>"
      ]
     },
     "metadata": {
      "needs_background": "light"
     },
     "output_type": "display_data"
    }
   ],
   "source": [
    "import time\n",
    "import matplotlib.pyplot as plt\n",
    "import numpy as np\n",
    "\n",
    "# The array of values of n to be considered\n",
    "range_n = np.logspace(3.0, 7.0, num=10)\n",
    "\n",
    "for n in range_n:\n",
    "    start_time = time.time()\n",
    "    variable_addition(int(n))\n",
    "    plt.semilogx(n, time.time() - start_time,'k*')\n",
    "    \n",
    "plt.xlabel('Number of variables [-]')\n",
    "plt.ylabel('Time [s]')\n",
    "plt.show();"
   ]
  },
  {
   "cell_type": "markdown",
   "metadata": {},
   "source": [
    "So everything up to $5\\cdot 10^6$ variables is ok, but then it drastically increases in time."
   ]
  },
  {
   "cell_type": "markdown",
   "metadata": {},
   "source": [
    "## (b) Adding constraints\n",
    "First, let's do the sparse constraints. We add $10^5$ constraints with $10$ entries (so $10^6$ non-zero values in total). Let's see how Xpress handles that. First, we define some data, and then we `%timeit`:"
   ]
  },
  {
   "cell_type": "code",
   "execution_count": 34,
   "metadata": {},
   "outputs": [],
   "source": [
    "m = 100000\n",
    "cstr_n = 10\n",
    "n = 100000\n",
    "\n",
    "def constraint_addition(ctr_matrix, m, n, cstr_n):\n",
    "    mdl = xp.problem(\"Timing variables\")\n",
    "    x = {k : xp.var(vartype = xp.continuous, lb = -10, ub = 10, name = f'x_{k}') for k in range(n)}\n",
    "    mdl.addVariable(x)\n",
    "    \n",
    "    mdl.addConstraint([xp.Sum(ctr_matrix[i,j]*x[j] for j in range(cstr_n)) <= 5 for i in range(m)])\n",
    "\n",
    "# Generate constraint matrix\n",
    "ctr_matrix = 10*(np.random.rand(m,cstr_n) - 0.5)"
   ]
  },
  {
   "cell_type": "code",
   "execution_count": 35,
   "metadata": {},
   "outputs": [
    {
     "name": "stdout",
     "output_type": "stream",
     "text": [
      "22.7 s ± 8.63 s per loop (mean ± std. dev. of 7 runs, 1 loop each)\n"
     ]
    }
   ],
   "source": [
    "# Run %timeit\n",
    "%timeit constraint_addition(ctr_matrix, m, n, cstr_n)"
   ]
  },
  {
   "cell_type": "markdown",
   "metadata": {},
   "source": [
    "Ok, now let's look at adding $10$ constraints with $10^5$ entries (so again $10^6$ non-zero values). This we can achieve by simply transposing the `ctr_matrix` we got above. Does this make a difference?"
   ]
  },
  {
   "cell_type": "code",
   "execution_count": 36,
   "metadata": {},
   "outputs": [
    {
     "name": "stdout",
     "output_type": "stream",
     "text": [
      "11.2 s ± 1.01 s per loop (mean ± std. dev. of 7 runs, 1 loop each)\n"
     ]
    }
   ],
   "source": [
    "# Run %timeit\n",
    "%timeit constraint_addition(ctr_matrix.T, cstr_n, n, n)"
   ]
  },
  {
   "cell_type": "markdown",
   "metadata": {},
   "source": [
    "So this is interesting: even though the number of non-zero entries is the same, the sparse version takes about twice as long. But it also means that adding 10 (!) constraints takes over 10 seconds, which is a lot. Is this a general trend? Let's find out:"
   ]
  },
  {
   "cell_type": "code",
   "execution_count": 38,
   "metadata": {},
   "outputs": [
    {
     "data": {
      "image/png": "[encoded data removed]",
      "text/plain": [
       "<Figure size 432x288 with 1 Axes>"
      ]
     },
     "metadata": {
      "needs_background": "light"
     },
     "output_type": "display_data"
    }
   ],
   "source": [
    "import time\n",
    "import matplotlib.pyplot as plt\n",
    "import numpy as np\n",
    "\n",
    "# The array of values of n to be considered\n",
    "range_m = np.linspace(1,30,10)\n",
    "n = int(1e5)\n",
    "\n",
    "for m_flt in range_m:\n",
    "    # Convert to integer and create matrix\n",
    "    m = int(m_flt)\n",
    "    ctr_matrix = 10*(np.random.rand(m,n) - 0.5)\n",
    "    \n",
    "    # Running the test\n",
    "    start_time = time.time()\n",
    "    constraint_addition(ctr_matrix.T, n, n, m)\n",
    "    end_time_sparse = time.time() - start_time\n",
    "    \n",
    "    start_time = time.time()\n",
    "    constraint_addition(ctr_matrix, m, n, n)\n",
    "    end_time_dense = time.time() - start_time\n",
    "    \n",
    "    # Plotting\n",
    "    plt.plot(m, end_time_sparse,'k*')\n",
    "    plt.plot(m, end_time_dense,'b*')\n",
    "    \n",
    "plt.xlabel('Number of rows/columns [-]')\n",
    "plt.ylabel('Time [s]')\n",
    "plt.show();"
   ]
  },
  {
   "cell_type": "markdown",
   "metadata": {},
   "source": [
    "It seems to be this way: while there is some discrepancy, the overall trend really seems to be that it scales with the number of non-zero elements."
   ]
  },
  {
   "cell_type": "markdown",
   "metadata": {},
   "source": [
    "## (c) Callbacks overhead\n",
    "Adding callbacks generally has an impact on the performance, because the solver needs to do something else other than solve. But how large is the hit? We'll try to figure out by using a scaled version of our example from before, with an increased log density:\n",
    "\n",
    "> Note: I changed the callback from a printout to a simple calculation, because printing itself also incurs an overhead that we make the results non-sensical."
   ]
  },
  {
   "cell_type": "code",
   "execution_count": 40,
   "metadata": {},
   "outputs": [
    {
     "name": "stdout",
     "output_type": "stream",
     "text": [
      "1.46 s ± 210 ms per loop (mean ± std. dev. of 7 runs, 1 loop each)\n",
      "1.29 s ± 27.9 ms per loop (mean ± std. dev. of 7 runs, 1 loop each)\n"
     ]
    }
   ],
   "source": [
    "def globalLog(prob, object):\n",
    "    nodedepth = prob.attributes.nodedepth\n",
    "    node = prob.attributes.currentnode\n",
    "    calc = nodedepth*node\n",
    "    return 0\n",
    "\n",
    "def callback_test(use_callback):\n",
    "    mdl = xp.problem(\"Testing callbacks\")\n",
    "    n = 10000\n",
    "    range_n = range(n)\n",
    "    x = {i : xp.var(vartype = xp.binary, name = f'x_{i}') for i in range_n}\n",
    "    mdl.addVariable(x)\n",
    "    mdl.setObjective(xp.Sum(-i*x[i]*x[i] for i in range_n))\n",
    "    cstr1 = xp.constraint(xp.Sum(i*x[i] for i in range_n) <= 5000, name='First constraint')\n",
    "    cstr2 = xp.constraint(xp.Sum(x[i] for i in range_n) >= 10, name='Second constraint')\n",
    "    mdl.addConstraint(cstr1,cstr2)\n",
    "    \n",
    "    mdl.controls.miplog = 3\n",
    "    if use_callback:\n",
    "        mdl.addcbgloballog (globalLog, None, 0)\n",
    "    mdl.solve()\n",
    "    \n",
    "# First, no callback used\n",
    "%timeit callback_test(False)\n",
    "\n",
    "# Now use the callback\n",
    "%timeit callback_test(True)"
   ]
  },
  {
   "cell_type": "markdown",
   "metadata": {},
   "source": [
    "Even though this callback is called quite a bit (around 100 times or so I think), it has a \"positive\" effect (i.e. no effect) on the performance. While this will of course not be true if you do more involved things in the callback, this is an indication that the callback itself does not really \"cost\" much."
   ]
  },
  {
   "cell_type": "markdown",
   "metadata": {},
   "source": [
    "# Conclusion\n",
    "How good is the Xpress Python API? Well, based on what I have just shown you, it depends: in some things it works very well and nicely, however there is still a lot of room for improvement, especially in the indicator constraints and modelling features department. Also a bit worringly, the addition of dense constraints seems to be very expensive, but I am not sure how other solvers would fare in this regard. But there is ways around this using `addrows`, where you manually add the row to the problem without going through the API, and thus removing this overhead.\n",
    "\n",
    "But if you have any comments/questions regarding my test, just come and find me on [Twitter](https://twitter.com/ROberdieck) or [LinkedIn](https://www.linkedin.com/in/oberdieck/)."
   ]
  },
  {
   "cell_type": "code",
   "execution_count": null,
   "metadata": {},
   "outputs": [],
   "source": []
  }
 ],
 "metadata": {
  "kernelspec": {
   "display_name": "Python 3",
   "language": "python",
   "name": "python3"
  },
  "language_info": {
   "codemirror_mode": {
    "name": "ipython",
    "version": 3
   },
   "file_extension": ".py",
   "mimetype": "text/x-python",
   "name": "python",
   "nbconvert_exporter": "python",
   "pygments_lexer": "ipython3",
   "version": "3.7.2"
  }
 },
 "nbformat": 4,
 "nbformat_minor": 2
}
