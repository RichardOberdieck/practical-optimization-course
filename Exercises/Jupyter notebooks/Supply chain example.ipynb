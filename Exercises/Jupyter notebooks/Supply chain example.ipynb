{
 "cells": [
  {
   "cell_type": "markdown",
   "metadata": {},
   "source": [
    "# Supply chain example\n",
    "One day, your boss Anne calls you over and asks you:\n",
    "> Our warehouses in Copenhagen and Hamburg are consistently running low on stock even though we are producing more than enough! Can’t we do better?\n",
    "\n",
    "She also tells you that the freight cost is $90 \\frac{\\text{€}}{\\text{L} \\cdot 100\\text{ km}}$, the freight loading cost is $25 \\frac{\\text{€}}{\\text{L}}$ and you are handed the following information:\n",
    "- Odense can supply 350 L\n",
    "- Aarhus can supply 600 L\n",
    "- Copenhagen requires 325 L\n",
    "- Hamburg requires 275 L\n",
    "\n",
    "## Extracting the actual problem\n",
    "What do you do at this point? Well, since this is an example problem, the outcome is kinda on the nose, but not very far off from what you would find in the real life. First, we have to define what \"better\" means. Since we are given pricing information, it is reasonable to assume that we want to minimize our cost (the most common objective in mathmetical programming). The second question is much trickier though: who is \"we\"? This boils down to what degrees of freedom do we have? Do we have full control over the shipping? Do we have to hire third-party vendors that require certain volumes to be met etc.? This heavily influences what model you are going to build. However, as this is a simple example case, we can narrow our scope down to the following formulation:\n",
    "> We want to find out how much we have to ship from Odense/Aarhus to Copenhagen/Hamburg such that we minimize cost and subject to the market demand, supply capacities and physical constraints.\n",
    "\n",
    "In a more mathematical way, we want to solve:\n",
    "\\begin{equation}\n",
    "\\begin{array}{ll}\n",
    "\\text{minimize} & \\text{Shipping costs} \\\\\n",
    "\\text{subject to} & \\text{Market demand} \\\\\n",
    "& \\text{Supply capacities}\n",
    "\\end{array}\n",
    "\\end{equation}\n",
    "\n",
    "## Getting started\n",
    "Ok, now that we have narrowed down what we want solve, let's setup the problem and get the data into Python:"
   ]
  },
  {
   "cell_type": "code",
   "execution_count": 1,
   "metadata": {},
   "outputs": [],
   "source": [
    "import numpy as np\n",
    "import xpress as xp\n",
    "from dataclasses import dataclass\n",
    "from geopy.distance import geodesic\n",
    "\n",
    "# Generate the model\n",
    "model = xp.problem(\"Supply chain example\")\n",
    "\n",
    "# The location data\n",
    "@dataclass()\n",
    "class Location:\n",
    "    name: str\n",
    "    max_quantity: float # Positive for supplier, negative for consumer\n",
    "    coordinate: tuple\n",
    "        \n",
    "    def get_distance(self, other_location) -> float:\n",
    "        \"\"\"Calculates the distance in units of 100km\"\"\"\n",
    "        return geodesic(self.coordinate, other_location.coordinate).kilometers / 100\n",
    "\n",
    "locations = [\n",
    "    Location(\"Odense\", 350, (55.396229, 10.390600)),\n",
    "    Location(\"Aarhus\", 600, (56.158150, 10.212030)),\n",
    "    Location(\"Copenhagen\", -325, (55.676098, 12.568337)),\n",
    "    Location(\"Hamburg\", -275, (53.553841, 9.991650))\n",
    "]\n",
    "\n",
    "# Extract origins and destinations\n",
    "origins = [loc for loc in locations if loc.max_quantity > 0]\n",
    "destinations = [loc for loc in locations if loc.max_quantity < 0]\n",
    "\n",
    "# The cost data\n",
    "distance_cost = 90; # € per L per 100km\n",
    "loading_cost = 25; # € per L"
   ]
  },
  {
   "cell_type": "markdown",
   "metadata": {},
   "source": [
    "A few notes before we continue:\n",
    "1. The use of a `dataclass` may seem a bit like overkill, but it actually makes this code very easily readable in my opinion. It also really highlights the power of Python, where we can define classes and do geodesic calculations in 15 lines of code. This is awesome!\n",
    "2. The distance are \"as the Nazgul flies\". This is of course unrealistic, but digging down deeper into this does not add more value to this example. However feel free to e.g. use the Google Maps API for that (see e.g. [here](https://matthewkudija.com/blog/2018/11/19/google-maps-api/)).\n",
    "\n",
    "## Solving the problem\n",
    "Now that we are all caught up, let's start solving the problem. To do that, we need to take our verbose formulation from above and fit it into mathematics. The first thing to do to that end is *defining the variables*:\n",
    "\n",
    "### Defining the variables\n",
    "We are interested in the shipping quantities, i.e. how much is transported from `origins` to `destinations`. Therefore, these are our variables. In fact, variables are always the things we *don't know* and want to find out, in other words our degrees of freedom. For our specific example, we define:\n",
    "\\begin{equation}\n",
    "q_{o,d} \\in [0,S_o]\n",
    "\\end{equation}\n",
    "where $q_{o,d}$ is the amount of product shipped from origin $o$ to destination $d$ and $S_o$ is the supply available at origin $o$. The bounds of the variable are given by the fact that we cannot ship negative amounts, and that we can only ship as much from a given origin as that one has to offer."
   ]
  },
  {
   "cell_type": "code",
   "execution_count": 56,
   "metadata": {},
   "outputs": [],
   "source": [
    "# First we define the connections that are featured in the variable\n",
    "class Connection:    \n",
    "    def __init__(self, origin: Location, destination: Location):\n",
    "        self.origin = origin\n",
    "        self.destination = destination\n",
    "        self.distance = origin.get_distance(destination)\n",
    "        \n",
    "# Generate all the connections\n",
    "connections = [Connection(origin, destination) for origin in origins \n",
    "               for destination in destinations]\n",
    "\n",
    "# Generate the variables and add to the problem\n",
    "quantities = {conn : xp.var(vartype = xp.continuous, lb = 0, \n",
    "                            ub = conn.origin.max_quantity, \n",
    "                            name = f'q_({conn.origin.name},{conn.destination.name})') \n",
    "              for conn in connections}\n",
    "model.addVariable(quantities)"
   ]
  },
  {
   "cell_type": "markdown",
   "metadata": {},
   "source": [
    "A few notes here before we continue:\n",
    "- You should *always* write your variables as dictionaries with the indices as keys and the variable objects as values.\n",
    "- While it is possible to have tuples as the indices directly, in my experience it is *always* a good idea to create a custom class for the index combination needed and then use that. It makes the code much more versatile.\n",
    "\n",
    "### Defining the constraints\n",
    "Now that we have the variables in place, we can tackle the different constraints:\n",
    "#### Market demand\n",
    "To fulfill the market demand, the amount shipped has to be at least as great as the demand at the consumer site. Mathematically, we can express this as:\n",
    "\\begin{equation}\n",
    "\\sum \\limits_o q_{o,d} \\geq D_d, \\hspace{0.15cm} \\forall d\n",
    "\\end{equation}\n",
    "where $D_d$ is the demand at destination $d$.\n",
    "\n",
    "#### Supply capacities\n",
    "However, we only have a given amount available from the suppliers, and we have to ensure that the amount shipped does not exceed that. Mathematically, we can express this as:\n",
    "\\begin{equation}\n",
    "\\sum \\limits_d q_{o,d} \\leq S_o, \\hspace{0.15cm} \\forall o\n",
    "\\end{equation}\n",
    "where $S_o$ is the supply available at origin $o$.\n",
    "> This in fact makes the bound we defined for each individual shipping quantity redundant, as this constraint is *tighter*. However, it is still good to have bounds on your variables, even if they are not used.\n"
   ]
  },
  {
   "cell_type": "code",
   "execution_count": 57,
   "metadata": {},
   "outputs": [],
   "source": [
    "MarketDemand = [xp.constraint(xp.Sum(quantities[conn] \n",
    "                                     for conn in connections \n",
    "                                     if conn.destination == dest) \n",
    "                              >= -dest.max_quantity, \n",
    "                              name = f'Market demand for {dest.name}') \n",
    "                for dest in destinations]\n",
    "SupplyCapacities = [xp.constraint(xp.Sum(quantities[conn] \n",
    "                                         for conn in connections \n",
    "                                         if conn.origin == origin) \n",
    "                                  <= origin.max_quantity, \n",
    "                              name = f'Supply capacity for {origin.name}') \n",
    "                    for origin in origins]\n",
    "\n",
    "model.addConstraint(MarketDemand, SupplyCapacities)"
   ]
  },
  {
   "cell_type": "markdown",
   "metadata": {},
   "source": [
    "A few notes before we continue:\n",
    "- Remeber that we defined the destination as negative quantities. If you forget about this, the constraint will be useless since it will say that the sum of positive variables has to be greater than a negative number.\n",
    "- We *always* name our constraints.\n",
    "- We separate variable creation from constraint creation as much as possible to keep the code clean and modular.\n",
    "\n",
    "### The objective function and solution\n",
    "Before solving the problem, we still have to define the objective function. In our case this is pretty easy: we simply want to minimize the cost:\n",
    "\\begin{equation}\n",
    "\\sum \\limits_{o,d} (c_l + c_d\\delta_{o,d})q_{o,d}\n",
    "\\end{equation}\n",
    "where $c_l$ is the loading cost, $c_d$ is the distance cost and $\\delta_{o,d}$ is the distance between $o$ and $d$."
   ]
  },
  {
   "cell_type": "code",
   "execution_count": 58,
   "metadata": {},
   "outputs": [],
   "source": [
    "model.setObjective(xp.Sum((loading_cost + distance_cost*conn.distance) * \n",
    "                          quantities[conn] for conn in connections))"
   ]
  },
  {
   "cell_type": "markdown",
   "metadata": {},
   "source": [
    "Finally, we are no ready to solve the problem. So let's hit `solve`!"
   ]
  },
  {
   "cell_type": "code",
   "execution_count": 62,
   "metadata": {},
   "outputs": [
    {
     "name": "stdout",
     "output_type": "stream",
     "text": [
      "Solver status: lp_optimal\n"
     ]
    }
   ],
   "source": [
    "model.solve()\n",
    "\n",
    "# Print how it ended\n",
    "print(f'Solver status: {model.getProbStatusString()}')"
   ]
  },
  {
   "cell_type": "markdown",
   "metadata": {},
   "source": [
    "## Analysing the result\n",
    "Great, we now have solved the problem. So what do we get out? Basically, we get values for our degrees of freedom, i.e. our variables $q_{o,d}$:"
   ]
  },
  {
   "cell_type": "code",
   "execution_count": 67,
   "metadata": {},
   "outputs": [
    {
     "name": "stdout",
     "output_type": "stream",
     "text": [
      "Shipping quantities:\n",
      "Odense -> Copenhagen: 75.0 L\n",
      "Odense -> Hamburg: 275.0 L\n",
      "Aarhus -> Copenhagen: 250.0 L\n",
      "Aarhus -> Hamburg: 0.0 L\n"
     ]
    }
   ],
   "source": [
    "print('Shipping quantities:')\n",
    "for conn in connections:\n",
    "    print(f'{conn.origin.name} -> {conn.destination.name}: {model.getSolution(quantities[conn])} L')"
   ]
  },
  {
   "cell_type": "markdown",
   "metadata": {},
   "source": [
    "This result makes intuitive sense: we're going to fill the cheapest demand first, and then fill up the rest. We also get the value of the objective function:"
   ]
  },
  {
   "cell_type": "code",
   "execution_count": 70,
   "metadata": {},
   "outputs": [
    {
     "name": "stdout",
     "output_type": "stream",
     "text": [
      "Shipping costs: 110954.27135156743 €\n"
     ]
    }
   ],
   "source": [
    "print(f'Shipping costs: {model.getObjVal()} €')"
   ]
  },
  {
   "cell_type": "markdown",
   "metadata": {},
   "source": [
    "A note of caution here: this type of floating point accuracy with 10 digits behind the decimal always comes up in continuous problems. Of course these are not [*significant* digits](https://en.wikipedia.org/wiki/Significant_figures), as the uncertainty of the data, let alone the simplifications of the model, do not warrant that precision. Although this may seem obvious to you, it is not obvious to everybody and so I suggest that you always only report a rounded version of the result. In this case for example, I would probably report (e.g. in an interface):"
   ]
  },
  {
   "cell_type": "code",
   "execution_count": 75,
   "metadata": {},
   "outputs": [
    {
     "name": "stdout",
     "output_type": "stream",
     "text": [
      "Shipping costs: 111.0 k€\n"
     ]
    }
   ],
   "source": [
    "print(f'Shipping costs: {round(model.getObjVal() / 1000, 1)} k€')"
   ]
  },
  {
   "cell_type": "markdown",
   "metadata": {},
   "source": [
    "Why did I chose this number and not another? No real reason, other that it seemed common sense that we probably can say something down to 100 € in accuracy. But for each problem you encouter, you should always think about this and treat your output accordingly.\n",
    "\n",
    "But is this all we can get from the solution? Actually, we can get two more pieces of information that are often relevant:\n",
    "- *The value of the dual variables:* We will touch upon this in the nonlinear part of this course a little bit, but dual variables effectively represent the derivate of the solution along the constraints, i.e. it represents how \"expensive\" it is to have a certain constraint and how much could be gained by relaxing it. It is an extremely important and very deep concept, and feel free to go crazy with [this note](https://sites.math.washington.edu/~rtr/papers/rtr054-ConjugateDuality.pdf) and Chapter 5 in [this excellent book](https://web.stanford.edu/~boyd/cvxbook/bv_cvxbook.pdf).\n",
    "- *The log information:* Sometimes it is very useful to know *how* we arrived at a certain solution. Was the problem symmetric? Were there numerical difficulties? Those and other things are typically only reported in the log file and give a lot of insight into whether the solution is what we were looking for and how to improve on it. Also, most users would like some form of update on how their optimization progresses (unless it solves in less than 10 seconds typically), so you most likely will have to deal with the log from that standpoint (we will touch upon how to do this with callbacks in a later excercise)."
   ]
  }
 ],
 "metadata": {
  "kernelspec": {
   "display_name": "Python 3",
   "language": "python",
   "name": "python3"
  },
  "language_info": {
   "codemirror_mode": {
    "name": "ipython",
    "version": 3
   },
   "file_extension": ".py",
   "mimetype": "text/x-python",
   "name": "python",
   "nbconvert_exporter": "python",
   "pygments_lexer": "ipython3",
   "version": "3.7.2"
  }
 },
 "nbformat": 4,
 "nbformat_minor": 2
}
