{
 "cells": [
  {
   "cell_type": "markdown",
   "metadata": {},
   "source": [
    "# Scheduling the doctors for the paediatric units of Hamburg\n",
    "> This is an actual (albeit simpified and anonymized) case.\n",
    "\n",
    "Employee scheduling (e.g. workers, nurses, doctors) is probably the oldest optimization problem ever. It was what George Dantzig was working on during World War II and what got him the interest of DuPont with his famous \"assign 70 workers to 70 jobs\" example. In this case, we are going to look at a more recent example, namely on scheduling the doctors for the paediatric units of five hospitals in Hamburg.\n",
    "\n",
    "In particular, we have 22 doctors, each with hard constraints (regulation from pregnancy, where they can work) as well as preferences (allocation) and we have to meet the demands of all the hospitals. Let's get to it!\n",
    "\n",
    "## Initialization and data import\n",
    "First, we have to load in the data and massage it into place:\n",
    "> This is a lot of parsing, but it shows what an actual program has to do before we can even start optimizing."
   ]
  },
  {
   "cell_type": "code",
   "execution_count": 2,
   "metadata": {},
   "outputs": [],
   "source": [
    "import xpress as xp\n",
    "%env XPRESS=..\n",
    "import pandas as pd\n",
    "import numpy as np\n",
    "from dataclasses import dataclass\n",
    "from datetime import datetime\n",
    "from datetime import timedelta\n",
    "from datetime import time\n",
    "\n",
    "# Import of the data using pandas\n",
    "df = pd.read_excel(\"DoctorData.xlsx\", sheet_name = [\"Doctors\", \"Hospitals\"])\n",
    "start_time = datetime(2019,7,1)\n",
    "end_time = datetime(2019,8,30)\n",
    "day_limit = 12 # Number of days a doctor can work in a row\n",
    "total_work_time = (end_time - start_time).days * (40/7) # How many hours a 100% allocated person would work\n",
    "\n",
    "# Define the classes\n",
    "class Doctor:\n",
    "    def __init__(self, name, is_pregnant, allocation, work_locations):\n",
    "        self.name = name\n",
    "        self.is_pregnant = is_pregnant\n",
    "        self.allocation = allocation\n",
    "        self.work_locations = work_locations\n",
    "                \n",
    "class Shift:\n",
    "    def __init__(self, start_time, end_time):\n",
    "        self.start_time = start_time\n",
    "        self.end_time = end_time\n",
    "        self.duration_in_hours = (end_time - start_time).total_seconds() / 3600\n",
    "        self.is_nightshift = start_time.time() >= time(18,0) or start_time.time() <= time(2,0)\n",
    "        self.can_work_pregnant = self.duration_in_hours < 12 and not self.is_nightshift\n",
    "\n",
    "# Create a list of hospitals\n",
    "hospitals = df[\"Hospitals\"][\"ID\"].tolist()\n",
    "\n",
    "# Get the list of doctors\n",
    "doctors = list()\n",
    "for index, row in df[\"Doctors\"].iterrows():\n",
    "    is_pregnant = row[\"Pregnant\"] == \"Yes\"\n",
    "    work_list = list()\n",
    "    for hospital in hospitals:\n",
    "        if row[f'Work in {hospital}?'] == \"Yes\":\n",
    "            work_list.append(hospital)\n",
    "    doctors.append(Doctor(row[\"Name\"], is_pregnant, row[\"Allocation [%]\"]/100, work_list))\n",
    "    \n",
    "# Create a list of shifts\n",
    "shifts = list()\n",
    "shift_days = list()\n",
    "current = start_time\n",
    "weekday_times = [(6, 14), (14, 22), (22, 30)]\n",
    "weekend_times = [(6, 18), (18, 30)]\n",
    "while current <= end_time:\n",
    "    shift_days.append(current)\n",
    "    if current.weekday() < 5:\n",
    "        shifts += [Shift(current + timedelta(hours=start), current + timedelta(hours=end))\n",
    "                  for start,end in weekday_times]\n",
    "    else:\n",
    "        shifts += [Shift(current + timedelta(hours=start), current + timedelta(hours=end))\n",
    "                  for start,end in weekend_times]\n",
    "    \n",
    "    current += timedelta(days=1)\n",
    "        \n",
    "# Finally, the index class\n",
    "@dataclass(frozen=True)\n",
    "class Placement:\n",
    "    doctor: Doctor\n",
    "    shift: Shift\n",
    "    hospital: str\n",
    "        \n",
    "placements = [Placement(doctor, shift, hospital) for doctor in doctors for shift in shifts for hospital in hospitals]\n",
    "\n",
    "# And another index class, related to nightshift work\n",
    "@dataclass(frozen=True)\n",
    "class Nightshift:\n",
    "    doctor: Doctor\n",
    "    day: datetime\n",
    "        \n",
    "nightshifts = [Nightshift(doctor, shift_day) for doctor in doctors for shift_day in shift_days]"
   ]
  },
  {
   "cell_type": "markdown",
   "metadata": {},
   "source": [
    "Ok, this was a lot of parsing, but now we have all the information at our fingertips. So let's get started!\n",
    "\n",
    "## Problem and variable definition\n",
    "The degrees of freedom in our system are whether a certain doctor $d$ works in hospital $h$ during shift $s$, which we called a `Placement` above:"
   ]
  },
  {
   "cell_type": "code",
   "execution_count": 3,
   "metadata": {},
   "outputs": [],
   "source": [
    "model = xp.problem(\"Doctor scheduling\")\n",
    "\n",
    "x = {p : xp.var(vartype = xp.binary, \n",
    "                name = f'x_{p.doctor.name}, {p.shift}, {p.hospital}') \n",
    "     for p in placements}\n",
    "y = {n : xp.var(vartype = xp.integer, \n",
    "                lb = -1, ub = 1, name = f'y_{n.doctor.name},{n.day}') \n",
    "     for n in nightshifts}\n",
    "t = {d : xp.var(vartype = xp.continuous, \n",
    "                lb = 0, name = f'Auxiliary for doctor {d.name}') for d in doctors}\n",
    "model.addVariable(x,y,t)"
   ]
  },
  {
   "cell_type": "markdown",
   "metadata": {},
   "source": [
    "## The general setup\n",
    "The first part of the general setup, i.e. the shift division, is already taken care of through the definition of `shifts`. Next, we enforce though that every shift has to be worked, i.e.:\n",
    "\\begin{equation}\n",
    "\\sum \\limits_{d} x_{d,s,h} = 1, \\hspace{0.15cm} \\forall s,h\n",
    "\\end{equation}"
   ]
  },
  {
   "cell_type": "code",
   "execution_count": 4,
   "metadata": {},
   "outputs": [],
   "source": [
    "force_shift_fulfillment = (xp.constraint(xp.Sum(x[p] for p in placements if \n",
    "                                                p.shift == s and p.hospital == h) \n",
    "                                         == 1,\n",
    "                                        name = f'Force shift fulfillment for shift {s} and hospital {h}')\n",
    "                          for s in shifts for h in hospitals)"
   ]
  },
  {
   "cell_type": "markdown",
   "metadata": {},
   "source": [
    "Also, due to our definition of the variable, the considereation that \"All doctors are either working or have a day off\" also follows naturally from the structure of the problem, and does not have to be considered further. Let's keep looking:\n",
    "\n",
    "\"A doctor can only have up to one shift a day\"\n",
    "\n",
    "This can be translated to the following equation:\n",
    "\\begin{equation}\n",
    "\\sum \\limits_{s(t),h} x_{d,s,h} \\leq 1, \\hspace{0.15cm} \\forall d,t\n",
    "\\end{equation}\n",
    "where $t$ is the list of days in the current period, and $s(t)$ denotes a shift with the start time at the same date as $t$."
   ]
  },
  {
   "cell_type": "code",
   "execution_count": 5,
   "metadata": {},
   "outputs": [],
   "source": [
    "one_shift_limit = (xp.constraint(xp.Sum(x[p] for p in placements \n",
    "                                        if p.doctor == d and \n",
    "                                        p.shift.start_time.date() == t.date()) <= 1, \n",
    "                                name = f'One shift limit for {d.name} and day {t}')\n",
    "                  for d in doctors for t in shift_days)"
   ]
  },
  {
   "cell_type": "markdown",
   "metadata": {},
   "source": [
    "Lastly, we consider that the setup that a doctor can work at most 12 days in a row. In other words, if we sum up 13 consecutive days of assignments, the sum cannot exceed 12:\n",
    "\\begin{equation}\n",
    "\\sum \\limits_{j=0}^{s_{\\max}} \\sum \\limits_{h} x_{d,s(t+j),h} \\leq s_{\\max}, \\hspace{0.15cm} \\forall d,t\n",
    "\\end{equation}"
   ]
  },
  {
   "cell_type": "code",
   "execution_count": 6,
   "metadata": {},
   "outputs": [],
   "source": [
    "max_time_working = (xp.constraint(xp.Sum(x[p] for p in placements \n",
    "                                         for j in range(day_limit + 1) \n",
    "                                         if p.doctor == d and \n",
    "                                         p.shift.start_time.date() == \n",
    "                                         (t + timedelta(days=j)).date()) <= day_limit, \n",
    "                                 name = f'Max working time for day {t} and doctor {d.name}')\n",
    "                   for d in doctors for t in shift_days)"
   ]
  },
  {
   "cell_type": "markdown",
   "metadata": {},
   "source": [
    "## Making it more realistic\n",
    "Now that we got the general stuff out of the way, let's go a little bit more into detail and add some realism. First off, not all doctors can work in all hospitals. In other words, we have to set the variables for those doctors and hospitals to 0 for all shifts:\n",
    "\\begin{equation}\n",
    "\\sum \\limits_{s,h(d)} x_{d,s,h} = 0, \\hspace{0.15cm} \\forall d\n",
    "\\end{equation}\n",
    "where $h(d)$ denotes the hospitals a doctor *cannot* work at.\n",
    "> Note: We could also write this out for each shift and each hospital. However, then we would add a whole lot of constraints, where this does the same job. We could though also not even generate those variables in the first place by being smarter in our `placements` definition. When putting this into production, I would probably do that."
   ]
  },
  {
   "cell_type": "code",
   "execution_count": 7,
   "metadata": {},
   "outputs": [],
   "source": [
    "hospital_limit = (xp.constraint(xp.Sum(x[p] for p in placements \n",
    "                                       if p.doctor == d and p.hospital not in d.work_locations) == 0,\n",
    "                               name = f'Enforce hospital limits for doctor {d.name}')\n",
    "                 for d in doctors)"
   ]
  },
  {
   "cell_type": "markdown",
   "metadata": {},
   "source": [
    "Ok, the next one is that pregnant woman cannot take shifts that are in the evening or are 12 hours long. Again, in production I would make this part of the `placements` definition, but for now let's keep it here:\n",
    "\\begin{equation}\n",
    "\\sum \\limits_{s(d),h} x_{d,s,h} = 0, \\hspace{0.15cm} \\forall d \\in P\n",
    "\\end{equation}\n",
    "where $s(d)$ are the shifts that a pregnant woman cannot work and $P$ is the set of doctors that are pregnant."
   ]
  },
  {
   "cell_type": "code",
   "execution_count": 8,
   "metadata": {},
   "outputs": [],
   "source": [
    "pregnancy_limit = (xp.constraint(xp.Sum(x[p] for p in placements if p.doctor == d \n",
    "                                        and not p.shift.can_work_pregnant) == 0,\n",
    "                                name = f'Enforce pregnancy limit for doctor {d.name}') for d in doctors if d.is_pregnant)"
   ]
  },
  {
   "cell_type": "markdown",
   "metadata": {},
   "source": [
    "Lastly, night shifts have to be grouped into blocks of 3 nights, with 3 nights off afterwards. This one is the trickiest constraint of the bunch, and has to be handled with a new variable $y_{d,t}$ which describes the difference between two adjacent night shifts, i.e.:\n",
    "\\begin{equation}\n",
    "y_{d,t} = x_{d,s(t),h} - x_{d,s(t-1),h}\n",
    "\\end{equation}\n",
    "where $s(t)$ is the shift at the night shift interval of day $t$.\n",
    "> While it is possible to formulate the below without $y_{d,t}$ (i.e. by simply substituting in what we have here), it is not advised as it makes the model much harder to read.\n",
    "\n",
    "Ok, so in fact the simple sentence in the beginning leads to two conditions:\n",
    "\n",
    "- (a) If a doctor goes on a nightshift, he/she has to be there for 3 nights.\n",
    "- (b) If a doctor goes on a nightshift, he/she cannot be assigned afterwards.\n",
    "\n",
    "In math, this looks as follows:\n",
    "\\begin{align}\n",
    "\\sum \\limits_{h,k=0}^{2} x_{d,s(t+k),h} &\\geq 3y_{d,t}, \\hspace{0.15cm} \\forall d, t \\\\\n",
    "\\sum \\limits_{h,k=3}^{5} x_{d,s(t+k),h} &\\leq 3(1- y_{d,t}), \\hspace{0.15cm} \\forall d,t\n",
    "\\end{align}"
   ]
  },
  {
   "cell_type": "code",
   "execution_count": 9,
   "metadata": {},
   "outputs": [],
   "source": [
    "force_nightshift_work = (xp.constraint(xp.Sum(x[p] for p in placements for k in range(3) \n",
    "                                              if p.doctor == n.doctor and p.shift.start_time.date() == (n.day.date() + timedelta(days = k))) >= 3*y[n],\n",
    "                                      name = f'Force nightshift for doctor {n.doctor} at day {n.day}')\n",
    "                        for n in nightshifts)\n",
    "force_rest = (xp.constraint(xp.Sum(x[p] for p in placements for k in range(3,6) \n",
    "                                              if p.doctor == n.doctor and p.shift.start_time.date() == (n.day.date() + timedelta(days = k))) <= 3*(1-y[n]),\n",
    "                                      name = f'Force rest for doctor {n.doctor} at day {n.day}')\n",
    "                        for n in nightshifts)\n",
    "\n",
    "model.addConstraint(force_shift_fulfillment, one_shift_limit, max_time_working, hospital_limit, \n",
    "                    pregnancy_limit, force_nightshift_work, force_rest)"
   ]
  },
  {
   "cell_type": "markdown",
   "metadata": {},
   "source": [
    "## Making a good schedule\n",
    "Now we get to the part of the objective function. The objective is to minimize the deviation of the actual allocation from the desired allocation, i.e.:\n",
    "\\begin{equation}\n",
    "\\left|\\sum \\limits_{s,h} \\delta_sx_{d,s,h} - \\alpha_dT\\right|\n",
    "\\end{equation}\n",
    "where $\\alpha_d$ is the desired allocation of doctor $d$ and $T$ i the working time available in the period. However, we also need to resolve the absolute value as well. This leads to the following objective function:\n",
    "\\begin{equation}\n",
    "\\begin{array}{ll}\n",
    "\\text{minimize} & \\sum \\limits_{d} t_d \\\\\n",
    "\\text{subject to} & \\sum \\limits_{s,h} x_{d,s,h} - \\alpha_dT \\leq t_d \\\\\n",
    "& \\alpha_dT - \\sum \\limits_{s,h} x_{d,s,h} \\leq t_d \\\\\n",
    "\\end{array}\n",
    "\\end{equation}\n",
    "where $m$ is our magic number."
   ]
  },
  {
   "cell_type": "code",
   "execution_count": 10,
   "metadata": {},
   "outputs": [],
   "source": [
    "aux_definition1 = (xp.constraint(xp.Sum(p.shift.duration_in_hours*x[p] for p in placements if p.doctor == d) - \n",
    "                                 d.allocation*total_work_time <= t[d], name=f'Auxiliary 1 for {d}')\n",
    "                  for d in doctors)\n",
    "aux_definition2 = (xp.constraint(d.allocation*total_work_time - \n",
    "                                 xp.Sum(p.shift.duration_in_hours*x[p] for p in placements if p.doctor == d) \n",
    "                                  <= t[d], name=f'Auxiliary 2 for {d}')\n",
    "                  for d in doctors)\n",
    "model.addConstraint(aux_definition1, aux_definition2)\n",
    "\n",
    "model.setObjective(xp.Sum(t[d] for d in doctors))"
   ]
  },
  {
   "cell_type": "markdown",
   "metadata": {},
   "source": [
    "## Solving and post-processing"
   ]
  },
  {
   "cell_type": "code",
   "execution_count": 11,
   "metadata": {},
   "outputs": [
    {
     "name": "stdout",
     "output_type": "stream",
     "text": [
      "Solution status: mip_optimal\n"
     ]
    }
   ],
   "source": [
    "model.solve()\n",
    "print(f'Solution status: {model.getProbStatusString()}')"
   ]
  },
  {
   "cell_type": "markdown",
   "metadata": {},
   "source": [
    "To get started, let's see how the allocation target is met:"
   ]
  },
  {
   "cell_type": "code",
   "execution_count": 12,
   "metadata": {},
   "outputs": [
    {
     "name": "stdout",
     "output_type": "stream",
     "text": [
      "Anne: 1.0 | 1.0\n",
      "Berta: 1.04 | 0.7\n",
      "Karen: 1.1 | 1.0\n",
      "Matthias: 1.01 | 1.0\n",
      "Thomas: 1.06 | 0.8\n",
      "Ute: 1.05 | 1.0\n",
      "Alexandra: 0.69 | 0.5\n",
      "Mareike: 1.0 | 1.0\n",
      "Paula: 1.05 | 0.7\n",
      "Rafael: 0.8 | 0.8\n",
      "Natalie: 0.94 | 0.5\n",
      "David: 1.0 | 1.0\n",
      "Rebecca: 1.01 | 1.0\n",
      "Julia: 1.19 | 1.0\n",
      "Maria: 1.01 | 1.0\n",
      "Josephine: 0.8 | 0.8\n",
      "Jana: 0.89 | 0.5\n",
      "Robert: 0.7 | 0.7\n",
      "Olga: 1.0 | 1.0\n",
      "Sybille: 0.84 | 0.8\n",
      "Martina: 1.01 | 1.0\n",
      "Laura: 1.12 | 1.0\n"
     ]
    }
   ],
   "source": [
    "for d in doctors:\n",
    "    work_time = sum(p.shift.duration_in_hours*model.getSolution(x[p]) for p in placements if p.doctor == d)\n",
    "    print(f'{d.name}: {np.round(work_time / total_work_time,2)} | {d.allocation}')"
   ]
  },
  {
   "cell_type": "markdown",
   "metadata": {},
   "source": [
    "So the first conclusion we can draw from this is that the hospital is woefully understaffed: Berta would like to work 70%, but has to put in more than 100%. This is problematic, especially given that Anne is matching her 100% completely. So probably we should change our error metric to penalize outliers more, and to try to keep values below 100% actually below 100%. **How would you do this?**"
   ]
  }
 ],
 "metadata": {
  "kernelspec": {
   "display_name": "Python 3",
   "language": "python",
   "name": "python3"
  },
  "language_info": {
   "codemirror_mode": {
    "name": "ipython",
    "version": 3
   },
   "file_extension": ".py",
   "mimetype": "text/x-python",
   "name": "python",
   "nbconvert_exporter": "python",
   "pygments_lexer": "ipython3",
   "version": "3.7.2"
  }
 },
 "nbformat": 4,
 "nbformat_minor": 2
}
