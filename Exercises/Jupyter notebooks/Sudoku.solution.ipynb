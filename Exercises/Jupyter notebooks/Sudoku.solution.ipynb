{
 "cells": [
  {
   "cell_type": "markdown",
   "metadata": {},
   "source": [
    "# Solving Sudokus using mathematical programming\n",
    "> \"Sudoku is a logic-based, combinatorial number-placement puzzle. The objective is to fill a 9×9 grid with digits so that each column, each row, and each of the nine 3×3 subgrids that compose the grid contains all of the digits from 1 to 9. The puzzle setter provides a partially completed grid, which for a well-posed puzzle has a single solution.\" [Wikipedia](https://en.wikipedia.org/wiki/Sudoku)\n",
    "\n",
    "So how can we solve this with math programming? Well, ultimately we have to make discrete *decisions* about what numbers to put which fields. So let's get started:\n",
    "## Initialization and data import"
   ]
  },
  {
   "cell_type": "code",
   "execution_count": 1,
   "metadata": {},
   "outputs": [],
   "source": [
    "import xpress as xp\n",
    "import numpy as np\n",
    "from dataclasses import dataclass\n",
    "from sys import stdout\n",
    "\n",
    "# The data\n",
    "sudoku = ( (0, 0, 0,  0, 9, 0,  1, 0, 0),\n",
    "           (2, 8, 0,  0, 0, 5,  0, 0, 0),\n",
    "           (7, 0, 0,  0, 0, 6,  4, 0, 0),\n",
    "\n",
    "           (8, 0, 5,  0, 0, 3,  0, 0, 6),\n",
    "           (0, 0, 1,  0, 0, 4,  0, 0, 0),\n",
    "           (0, 7, 0,  2, 0, 0,  0, 0, 0),\n",
    "\n",
    "           (3, 0, 0,  0, 0, 1,  0, 8, 0),\n",
    "           (0, 0, 0,  0, 0, 0,  0, 5, 0),\n",
    "           (0, 9, 0,  0, 0, 0,  0, 7, 0) )\n",
    "\n",
    "@dataclass(frozen=True)\n",
    "class Value:\n",
    "    row: int\n",
    "    column: int\n",
    "    value: int\n",
    "        \n",
    "model = xp.problem(\"Sudoku\")\n",
    "n = 9 # The grid size\n",
    "nRange = range(9)\n",
    "s = int(np.sqrt(n)) # The sub-cell size\n",
    "sRange = range(s)\n",
    "\n",
    "# Create the list of values\n",
    "values = [Value(row, column, value) for row in nRange for column in nRange for value in nRange]"
   ]
  },
  {
   "cell_type": "markdown",
   "metadata": {},
   "source": [
    "## Defining the variables\n",
    "The only thing we need here is the binary variables we discussed above:"
   ]
  },
  {
   "cell_type": "code",
   "execution_count": 140,
   "metadata": {},
   "outputs": [],
   "source": [
    "x = {v : xp.var(vartype = xp.binary, name = f'x_{v.row}, {v.column}, {v.value}') for v in values}\n",
    "model.addVariable(x)"
   ]
  },
  {
   "cell_type": "markdown",
   "metadata": {},
   "source": [
    "## The constraints\n",
    "To solve a Sudoku, we need to \"explain\" the rules to the model. \n",
    "\n",
    "1. Each cell must take exactly one value: ($\\sum \\limits_{v} x_{i,j,v} = 1$)"
   ]
  },
  {
   "cell_type": "code",
   "execution_count": 141,
   "metadata": {},
   "outputs": [],
   "source": [
    "each_cell_one_value = (xp.constraint(xp.Sum(x[v] for v in values \n",
    "                                            if v.row == row and \n",
    "                                            v.column == column) == 1, \n",
    "                                     name=f'Different value in {row},{column}') \n",
    "                       for row in nRange for column in nRange)"
   ]
  },
  {
   "cell_type": "markdown",
   "metadata": {},
   "source": [
    "2. Each value is used exactly once per row: $\\sum \\limits_{i} x_{i,j,v} = 1$"
   ]
  },
  {
   "cell_type": "code",
   "execution_count": 142,
   "metadata": {},
   "outputs": [],
   "source": [
    "each_value_once_per_row = (xp.constraint(xp.Sum(x[v] for v in values \n",
    "                                                if v.value == value and \n",
    "                                                v.column == column) == 1, \n",
    "                                     name=f'{value} once per row for column {column}') \n",
    "                           for value in nRange for column in nRange)"
   ]
  },
  {
   "cell_type": "markdown",
   "metadata": {},
   "source": [
    "3. Each value is used exactly once per column: $\\sum \\limits_{j} x_{i,j,v} = 1$"
   ]
  },
  {
   "cell_type": "code",
   "execution_count": 143,
   "metadata": {},
   "outputs": [],
   "source": [
    "each_value_once_per_column = (xp.constraint(xp.Sum(x[v] for v in values \n",
    "                                                   if v.row == row and \n",
    "                                                   v.value == value) == 1, \n",
    "                                     name=f'{value} once per column for row {row}') \n",
    "                              for row in nRange for value in nRange)"
   ]
  },
  {
   "cell_type": "markdown",
   "metadata": {},
   "source": [
    "4. Each value is used exactly once per 3x3 subgrid:\n",
    "\\begin{equation}\n",
    "\\sum \\limits_{i\\in r*[1,3]} \\sum \\limits_{j\\in c*[1,3]} x_{i,j,v} = 1, \\hspace{0.15cm} r \\in [1,3], c\\in [1,3]\n",
    "\\end{equation}"
   ]
  },
  {
   "cell_type": "code",
   "execution_count": 144,
   "metadata": {},
   "outputs": [],
   "source": [
    "def get_val(values: list, i: int, j: int, v: int):\n",
    "    return [val for val in values if val.row == i and val.column == j and val.value == v].pop()\n",
    "\n",
    "each_value_per_subgrid = (xp.constraint(xp.Sum(x[get_val(values, i,j,val)] for i in range(r*s,(r+1)*s) for j in range(c*s,(c+1)*s)) == 1, \n",
    "                                        name=f'{val} for subgrid {r},{c}') for r in sRange for c in sRange for val in nRange)"
   ]
  },
  {
   "cell_type": "markdown",
   "metadata": {},
   "source": [
    "## Give the 'start solution'\n",
    "If we were just to solve this, we would get any solution: we need to fix the initial solution to get the unique solution."
   ]
  },
  {
   "cell_type": "code",
   "execution_count": 145,
   "metadata": {},
   "outputs": [],
   "source": [
    "starting_solution = (xp.constraint(x[v] == 1, \n",
    "                                   name =f'Fix {v.value} for {v.row} and {v.column}')\n",
    "                     for v in values if sudoku[v.row][v.column] == v.value + 1)\n",
    "\n",
    "model.addConstraint(each_cell_one_value, each_value_once_per_row, each_value_once_per_column, each_value_per_subgrid, starting_solution)"
   ]
  },
  {
   "cell_type": "markdown",
   "metadata": {},
   "source": [
    "## Solve the problem and print solution"
   ]
  },
  {
   "cell_type": "code",
   "execution_count": 146,
   "metadata": {},
   "outputs": [],
   "source": [
    "model.solve()"
   ]
  },
  {
   "cell_type": "code",
   "execution_count": 147,
   "metadata": {},
   "outputs": [
    {
     "name": "stdout",
     "output_type": "stream",
     "text": [
      "\n",
      "   4 5 6   3 9 7   1 2 8\n",
      "   2 8 3   1 4 5   9 6 7\n",
      "   7 1 9   8 2 6   4 3 5\n",
      "\n",
      "   8 2 5   9 1 3   7 4 6\n",
      "   6 3 1   5 7 4   8 9 2\n",
      "   9 7 4   2 6 8   5 1 3\n",
      "\n",
      "   3 4 7   6 5 1   2 8 9\n",
      "   1 6 2   7 8 9   3 5 4\n",
      "   5 9 8   4 3 2   6 7 1\n"
     ]
    }
   ],
   "source": [
    "xVal = {v : model.getSolution(x[v]) for v in values}\n",
    "\n",
    "\"\"\" Print Sudoku grid \"\"\"\n",
    "for i in nRange:\n",
    "    if (i > 0):\n",
    "        stdout.write('\\n')\n",
    "    if (i % 3 == 0):\n",
    "        stdout.write('\\n')\n",
    "    for j in nRange:\n",
    "        stdout.write('   ' if (j % 3 == 0) else ' ')\n",
    "        for v in nRange:\n",
    "            if (xVal[get_val(values,i,j,v)] == 1):\n",
    "                stdout.write(str(v+1))\n",
    "stdout.write('\\n')"
   ]
  }
 ],
 "metadata": {
  "kernelspec": {
   "display_name": "Python 3",
   "language": "python",
   "name": "python3"
  },
  "language_info": {
   "codemirror_mode": {
    "name": "ipython",
    "version": 3
   },
   "file_extension": ".py",
   "mimetype": "text/x-python",
   "name": "python",
   "nbconvert_exporter": "python",
   "pygments_lexer": "ipython3",
   "version": "3.7.2"
  }
 },
 "nbformat": 4,
 "nbformat_minor": 2
}
