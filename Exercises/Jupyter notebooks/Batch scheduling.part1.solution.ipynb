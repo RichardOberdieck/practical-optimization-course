{
 "cells": [
  {
   "cell_type": "markdown",
   "metadata": {},
   "source": [
    "# Batch scheduling of a fermentation process\n",
    "\n",
    "Industrial fermentation processes are generally batch operations. The process consists of a\n",
    "number of phases or stages, each of which requires a considerable amount of time. Because\n",
    "of the time factor, the system cannot react quickly to variations in demand, so that the\n",
    "scheduling of production in each stage is of considerable importance.\n",
    "\n",
    "Consider a fermentation process which has five stages: (1) Mixing and cooking [$M$,$m$]; (2) Fermentation [$F$,$f$]; (3) Purification [$P$,$p$]; (4) Blending and packaging [$B$,$b$]; (5) Warehousing [$W$,$w$].\n",
    "\n",
    "$m_i$ ($f_i$, $p_i$, etc.) is the quantity that goes into stage $m$ (from the previous stage) in day $i$. $d_i$ is the demand (by customers) from the warehouse in period $i$. The demand $d_i$ is known (but not precisely). Given $d_i$, a set of values $m_i$, $f_i$, $p_i$, $b_i$, $w_i$ constitutes a production schedule. The capital letters indicate the total quantity in the stage, i.e. $M_j$ is the total amount of material in the mixing stage in period $j$.\n",
    "\n",
    "### A note on unit selection\n",
    "It is a good idea to select the unit you will be using from the start, especially considering factors of 10 (such as kg, tonnes etc.). In this example, we will always use $1000L$ as our unit.\n",
    "\n",
    "## Initialization and variable selection\n",
    "As you may expect, we have to introduce variables for each step of the process, both for the lower case value (ingoing) as well as the upper case value (amount contained).\n",
    "\n",
    "> Note that due to 0-indexing, we have $0\\leq i\\leq N-1$."
   ]
  },
  {
   "cell_type": "code",
   "execution_count": 44,
   "metadata": {},
   "outputs": [],
   "source": [
    "import xpress as xp\n",
    "%env XPRESS=..\n",
    "import numpy as np\n",
    "import matplotlib.pyplot as plt\n",
    "import math\n",
    "\n",
    "model = xp.problem(\"Batch scheduling\")\n",
    "\n",
    "# This is required due to 1 indexing instead of 0 indexing\n",
    "n = 105\n",
    "nRange = range(n)\n",
    "t_m = 3\n",
    "A_max = 8\n",
    "Z_b = 5\n",
    "t_min_fermentation = 10\n",
    "t_max_fermentation = 30\n",
    "t_min_purification = 2\n",
    "t_max_purification = 5\n",
    "C_m = 350; mu = 2;\n",
    "C_f = 410; phi = 5;\n",
    "C_p = 380; pi = 7;\n",
    "C_b = 250; beta = 2;\n",
    "C_w = 200; chi = 1;\n",
    "\n",
    "# This is the demand. We only need it later but it is good practice to define it beforehand.\n",
    "d = np.array([0 for i in range(20)])\n",
    "#d = np.append(d,np.array([3 for i in range(N-20)]))\n",
    "#d = np.append(d,np.array([4 for i in range(N-20)]))\n",
    "#d = np.append(d,np.array([4.5 for i in range(N-20)]))\n",
    "d = np.append(d, np.array([5+math.sin(i/10) for i in range(n-20)]))"
   ]
  },
  {
   "cell_type": "code",
   "execution_count": 45,
   "metadata": {},
   "outputs": [],
   "source": [
    "def get_variable_dictionary(name:str):\n",
    "    return {day : xp.var(vartype = xp.continuous, lb = 0, name = f'{name}_{day}') for day in nRange}\n",
    "\n",
    "m = get_variable_dictionary('Mixing inflow')\n",
    "M = get_variable_dictionary('Mixing volume')\n",
    "\n",
    "f = get_variable_dictionary('Fermentation inflow')\n",
    "F = get_variable_dictionary('Fermentation volume')\n",
    "\n",
    "p = get_variable_dictionary('Purification inflow')\n",
    "P = get_variable_dictionary('Purification volume')\n",
    "\n",
    "b = get_variable_dictionary('Blending inflow')\n",
    "B = get_variable_dictionary('Blending volume')\n",
    "\n",
    "w = get_variable_dictionary('Warehousing inflow')\n",
    "W = get_variable_dictionary('Warehousing')\n",
    "\n",
    "model.addVariable(m,M,f,F,p,P,b,B,w,W)"
   ]
  },
  {
   "cell_type": "markdown",
   "metadata": {},
   "source": [
    "> Note: We package away the dictionary creation because it is just 'noise' (and the same for all the variables). Also, since we only have a single numeric index, we stick with that and do not introduce a custom class.\n",
    "\n",
    "### Linking variables together\n",
    "It is often a good idea to get the \"logical\" constraints out of the way first, i.e. the constraints that link variable $A$ and $B$. In this case, we link the \"inflow\" variables with the overall quantities.\n",
    "\n",
    "For example, let's consider the fermentation process. Mathematically, this can be described as:\n",
    "\n",
    "$F_j = \\sum \\limits_{i=0}^{j} (f_{i} - p_{i})$,\n",
    "\n",
    "where $F_j$ is the total quanitity in the fermentation at period $j$. Similarly, we can define:\n",
    "\n",
    "$M_j = \\sum \\limits_{i=0}^{j} (m_{i} - f_{i})$\n",
    "\n",
    "$P_j = \\sum \\limits_{i=0}^{j} (p_{i} - b_{i})$\n",
    "\n",
    "$B_j = \\sum \\limits_{i=0}^{j} (b_{i} - w_{i})$\n",
    "\n",
    "$W_j = \\sum \\limits_{i=0}^{j} (w_{i} - d_{i})$\n",
    "\n",
    "Therefore, putting this into Xpress, we get:"
   ]
  },
  {
   "cell_type": "code",
   "execution_count": 46,
   "metadata": {},
   "outputs": [],
   "source": [
    "mixing_balance = (xp.constraint(M[j] == xp.Sum(m[i] - f[i] \n",
    "                                               for i in range(j+1)), \n",
    "                                name=f'Balance for mixing at day {j}') \n",
    "                  for j in nRange)\n",
    "fermentation_balance = (xp.constraint(F[j] == xp.Sum(f[i] - p[i] for i in range(j+1)), \n",
    "                                      name=f'Balance for fermentation at day {j}') for j in nRange)\n",
    "purification_balance = (xp.constraint(P[j] == xp.Sum(p[i] - b[i] for i in range(j+1)), \n",
    "                                        name=f'Balance for purification at day {j}') for j in nRange)\n",
    "blending_balance = (xp.constraint(B[j] == xp.Sum(b[i] - w[i] for i in range(j+1)), \n",
    "                                    name=f'Balance for blending at day {j}') for j in nRange)\n",
    "warehousing_balance = (xp.constraint(W[j] == xp.Sum(w[i] - d[i] for i in range(j+1)), \n",
    "                                       name=f'Balance for warehousing at day {j}') for j in nRange)\n",
    "\n",
    "model.addConstraint(mixing_balance, fermentation_balance, purification_balance, blending_balance, warehousing_balance)"
   ]
  },
  {
   "cell_type": "code",
   "execution_count": 2,
   "metadata": {},
   "outputs": [
    {
     "name": "stdout",
     "output_type": "stream",
     "text": [
      "env: XPRESS=..\n"
     ]
    }
   ],
   "source": [
    "%env XPRESS = .."
   ]
  },
  {
   "cell_type": "code",
   "execution_count": 5,
   "metadata": {},
   "outputs": [
    {
     "data": {
      "text/plain": [
       "'C:\\\\Users\\\\ricob'"
      ]
     },
     "execution_count": 5,
     "metadata": {},
     "output_type": "execute_result"
    }
   ],
   "source": [
    "pwd"
   ]
  },
  {
   "cell_type": "code",
   "execution_count": null,
   "metadata": {},
   "outputs": [],
   "source": []
  }
 ],
 "metadata": {
  "kernelspec": {
   "display_name": "Python 3",
   "language": "python",
   "name": "python3"
  },
  "language_info": {
   "codemirror_mode": {
    "name": "ipython",
    "version": 3
   },
   "file_extension": ".py",
   "mimetype": "text/x-python",
   "name": "python",
   "nbconvert_exporter": "python",
   "pygments_lexer": "ipython3",
   "version": "3.7.2"
  }
 },
 "nbformat": 4,
 "nbformat_minor": 2
}
