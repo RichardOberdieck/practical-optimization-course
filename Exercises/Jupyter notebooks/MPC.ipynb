{
 "cells": [
  {
   "cell_type": "markdown",
   "metadata": {},
   "source": [
    "# Model predictive control: the tank problem\n",
    "[Model predictive control](https://en.wikipedia.org/wiki/Model_predictive_control) uses a mathematical model to predict the future behaviour of a given system so as to calculate the best next course of action. For our concrete problem at hand, this is calculated by solving the following optimization problem:\n",
    "\\begin{equation}\n",
    "\\begin{array}{ll}\n",
    "\\underset{\\{x_k, u_k, \\forall k\\}}{\\text{minimize}} & \\sum \\limits_{k=1}^{N} (x_k - x_{ref})^2 \\\\\n",
    "\\text{subject to} & x_{k+1} = x_k + u_k, \\hspace{0.3cm} \\forall k=0,...,N-1 \\\\\n",
    "& x_k \\in [0,7], \\hspace{0.3cm} \\forall k=1,...,N+1 \\\\\n",
    "& u_k \\in [0,1], \\hspace{0.3cm} \\forall k=0,...,N\n",
    "\\end{array}\n",
    "\\end{equation}\n",
    "where $x_k$ is the predicted state of the system $x$ at time step $k$, while $u_k$ is the calculated input for time $k$ and with $x_{ref} = 5$, $N = 20$ and one time step per minute. \n",
    "\n",
    "> The states $x_k$ are all defined by the dynamics of the system. However, technically we have to include them as the optimization variables unless we want to substitute all the equality constraints.\n",
    "\n",
    "## Initialization and variable definition"
   ]
  },
  {
   "cell_type": "code",
   "execution_count": 1,
   "metadata": {},
   "outputs": [],
   "source": [
    "# Initialization\n",
    "import xpress as xp\n",
    "#%env XPRESS=..\n",
    "import matplotlib.pyplot as plt\n",
    "\n",
    "model = xp.problem(\"The tank problem\")\n",
    "\n",
    "# Parameter definition\n",
    "Nu = 20\n",
    "xref = 5\n",
    "x0 = 0\n",
    "Nx = 21\n",
    "\n",
    "# Variable definition\n",
    "u = {k : xp.var(vartype = xp.continuous, lb = 0, ub = 1, name =f'Inflow at {k}')\n",
    "    for k in range(Nu)}\n",
    "x = {k : xp.var(vartype = xp.continuous, lb = 0, ub = 7, name = f'Volume at {k}')\n",
    "    for k in range(Nx)}\n",
    "model.addVariable(u,x)"
   ]
  },
  {
   "cell_type": "markdown",
   "metadata": {},
   "source": [
    "## The dynamics\n",
    "At this point, we introduce the dynamics of the system. Note that we already included the lower and upper bounds in the variable definition, so the only thing left from the optimization problem is the dyanmics."
   ]
  },
  {
   "cell_type": "code",
   "execution_count": 2,
   "metadata": {},
   "outputs": [],
   "source": [
    "dynamics = (xp.constraint(x[k+1] == x[k] + u[k], \n",
    "                          name = f'Dynamics from {k} to {k+1}')\n",
    "           for k in range(Nu))"
   ]
  },
  {
   "cell_type": "markdown",
   "metadata": {},
   "source": [
    "## Cost function\n",
    "Now we add the nonlinear cost function."
   ]
  },
  {
   "cell_type": "code",
   "execution_count": 3,
   "metadata": {},
   "outputs": [],
   "source": [
    "model.setObjective(xp.Sum((x[k] - xref)**2 for k in range(Nx)))"
   ]
  },
  {
   "cell_type": "markdown",
   "metadata": {},
   "source": [
    "## The initial condition\n",
    "Finally, we set the initial condition for the problem. Interestingly enough, this is the only part of the problem that will change from one iteration to another."
   ]
  },
  {
   "cell_type": "code",
   "execution_count": 4,
   "metadata": {},
   "outputs": [],
   "source": [
    "initial_condition = xp.constraint(x[0] == x0, name = 'Initial condition')\n",
    "model.addConstraint(dynamics, initial_condition)"
   ]
  },
  {
   "cell_type": "markdown",
   "metadata": {},
   "source": [
    "## Solution and post-processing"
   ]
  },
  {
   "cell_type": "code",
   "execution_count": 5,
   "metadata": {},
   "outputs": [],
   "source": [
    "model.solve();"
   ]
  },
  {
   "cell_type": "code",
   "execution_count": 6,
   "metadata": {},
   "outputs": [
    {
     "data": {
      "image/png": "[encoded data removed]",
      "text/plain": [
       "<Figure size 432x288 with 1 Axes>"
      ]
     },
     "metadata": {
      "needs_background": "light"
     },
     "output_type": "display_data"
    }
   ],
   "source": [
    "uVal = [model.getSolution(u[k]) for k in range(Nu)]\n",
    "xVal = [model.getSolution(x[k]) for k in range(Nx)]\n",
    "plt.plot(range(Nu), uVal, label='Inflow')\n",
    "plt.plot(range(Nx), xVal, label='Volume')\n",
    "plt.legend(bbox_to_anchor=(1.5, 1));\n",
    "plt.xlabel(\"Time step\")\n",
    "plt.ylabel(\"Volume [L]\");"
   ]
  },
  {
   "cell_type": "code",
   "execution_count": null,
   "metadata": {},
   "outputs": [],
   "source": []
  }
 ],
 "metadata": {
  "kernelspec": {
   "display_name": "Python 3",
   "language": "python",
   "name": "python3"
  },
  "language_info": {
   "codemirror_mode": {
    "name": "ipython",
    "version": 3
   },
   "file_extension": ".py",
   "mimetype": "text/x-python",
   "name": "python",
   "nbconvert_exporter": "python",
   "pygments_lexer": "ipython3",
   "version": "3.7.2"
  }
 },
 "nbformat": 4,
 "nbformat_minor": 2
}
