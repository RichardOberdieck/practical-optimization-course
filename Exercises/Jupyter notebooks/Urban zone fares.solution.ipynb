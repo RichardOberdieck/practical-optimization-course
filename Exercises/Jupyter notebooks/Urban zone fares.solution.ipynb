{
 "cells": [
  {
   "cell_type": "markdown",
   "metadata": {},
   "source": [
    "# Urban zone fares\n",
    "In this problem, we have a look at how to price the public transport of Copenhagen for a selected number of stations. Specifically, we will be looking at Nørreport, Kastrup, Glostrup, Klampenborg, Herlev and Christianshavn.\n",
    "\n",
    "## Initialization and data import\n",
    "First, let's get the data in:"
   ]
  },
  {
   "cell_type": "code",
   "execution_count": 1,
   "metadata": {},
   "outputs": [],
   "source": [
    "# Initialization\n",
    "import xpress as xp\n",
    "import matplotlib.pyplot as plt\n",
    "import numpy as np\n",
    "import pandas as pd\n",
    "\n",
    "# Define the base ride parameter\n",
    "f0 = 15\n",
    "fmin = 10\n",
    "fmax = 40\n",
    "cdiffmin = 0\n",
    "cdiffmax = 30\n",
    "\n",
    "class Connection:\n",
    "    def __init__(self, origin, destination, distance, elasticity, base_rideship):\n",
    "        self.origin = origin\n",
    "        self.destination = destination\n",
    "        self.distance = distance\n",
    "        self.elasticity = elasticity\n",
    "        self.base_ridership = base_rideship\n",
    "        \n",
    "    def __str__(self):\n",
    "        return f'{self.origin}->{self.destination}'\n",
    "      \n",
    "        \n",
    "connections = [Connection(\"Norreport\", \"Kastrup\", 7.9, -0.6, 50),\n",
    "              Connection(\"Norreport\", \"Glostrup\", 12.1, -0.7, 3),\n",
    "              Connection(\"Norreport\", \"Klampenborg\", 11.5, -0.6, 9),\n",
    "              Connection(\"Norreport\", \"Herlev\", 9.6, -0.8, 15),\n",
    "              Connection(\"Norreport\", \"Christianshavn\", 1.8, -0.9, 80),\n",
    "              Connection(\"Kastrup\", \"Glostrup\", 18.3, -0.7, 8),\n",
    "              Connection(\"Kastrup\", \"Klampenborg\", 19.1, -0.5, 9),\n",
    "              Connection(\"Kastrup\", \"Herlev\", 17.5, -0.9, 5),\n",
    "              Connection(\"Kastrup\", \"Christianshavn\", 6.2, -0.9, 60),\n",
    "              Connection(\"Glostrup\", \"Klampenborg\", 20.2, -0.6, 16),\n",
    "              Connection(\"Glostrup\", \"Herlev\", 7.5, -0.8, 26),\n",
    "              Connection(\"Glostrup\", \"Christianshavn\", 13.1, -0.9, 34),\n",
    "              Connection(\"Klampenborg\", \"Herlev\", 13.7, -0.4, 35),\n",
    "              Connection(\"Klampenborg\", \"Christianshavn\", 13.2, -0.9, 12),\n",
    "              Connection(\"Herlev\", \"Christianshavn\", 11.6, -0.9, 19)]"
   ]
  },
  {
   "cell_type": "markdown",
   "metadata": {},
   "source": [
    "## Variable definition\n",
    "Let's have a look at the variables we are going to need: we need to identify the flows, the fixed cost per fare and the mileage cost."
   ]
  },
  {
   "cell_type": "code",
   "execution_count": 7,
   "metadata": {},
   "outputs": [],
   "source": [
    "model = xp.problem(\"Urban zone fares\")\n",
    "\n",
    "f = {c : xp.var(vartype = xp.continuous, lb = fmin, ub = fmax, name = f'f_{c}') for c in connections}\n",
    "cfix = xp.var(vartype = xp.continuous, lb = 0, name = 'cfix')\n",
    "cmile = xp.var(vartype = xp.continuous, lb = 0, name = 'cmile')\n",
    "P = {c : xp.var(vartype = xp.continuous, lb = 0, name = f'P_{c}') for c in connections}\n",
    "\n",
    "model.addVariable(f,cfix,cmile, P)"
   ]
  },
  {
   "cell_type": "markdown",
   "metadata": {},
   "source": [
    "These variables are related through a simple linear relation."
   ]
  },
  {
   "cell_type": "code",
   "execution_count": 8,
   "metadata": {},
   "outputs": [],
   "source": [
    "fare_relation = (xp.constraint(f[c] == cfix + cmile*c.distance, name = f'Fix fare price for {c}') \n",
    "                     for c in connections)\n",
    "rideship_relation = (xp.constraint(P[c] == c.base_ridership * (1 + c.elasticity * ((f[c] - f0)/f0)),\n",
    "                                   name = f'Fix ridership for {c}')\n",
    "                     for c in connections)"
   ]
  },
  {
   "cell_type": "markdown",
   "metadata": {},
   "source": [
    "## Constraint definition\n",
    "There is a minimum and maximum difference between the fixed and mileage cost:"
   ]
  },
  {
   "cell_type": "code",
   "execution_count": 9,
   "metadata": {},
   "outputs": [],
   "source": [
    "cdiffbound = xp.constraint(cdiffmin <= cfix - cmile <= cdiffmax, name = 'Difference in mileage and fixed price')\n",
    "model.addConstraint(fare_relation, rideship_relation, cdiffbound)"
   ]
  },
  {
   "cell_type": "markdown",
   "metadata": {},
   "source": [
    "## The objective function\n",
    "The difficult part of the example is the formulation of the objective function, a task that is often neglected. Clever objective function modelling can often result in a much nicer and easier problem to handle.\n",
    "\n",
    "First, we begin by stating that the overall revenue is given by ridership $P_{ij}$ times fare $f_{ij}$, i.e.\n",
    "\\begin{equation}\n",
    "R = \\sum \\limits_{i} \\sum \\limits_{j>i} P_{ij}f_{ij}\n",
    "\\end{equation}\n",
    "\n",
    "However, how is ridership established? Well, we take a look at the notes:\n",
    "\\begin{equation}\n",
    "P_{ij} = P_{ij}^0 \\left(1+ e_{ij}\\frac{f_{ij} - f_{ij}^0}{f_{ij}^0}\\right)\n",
    "\\end{equation}\n",
    "\n",
    "Although we probably could simply put this into CPLEX, it is worth the effort to do some linear algebra here:\n",
    "\\begin{equation}\n",
    "P_{ij} = P_{ij}^0 \\left(\\frac{f_{ij}^0 + e_{ij}f_{ij} - e_{ij}f_{ij}^0}{f_{ij}^0}\\right) \\\\\n",
    "P_{ij} = \\frac{P_{ij}^0}{f_{ij}^0}(e_{ij}f_{ij} + (1-e_{ij})f_{ij}^0) \\\\\n",
    "P_{ij} = \\frac{e_{ij}P_{ij}^0}{f_{ij}^0}\\left(f_{ij} + \\frac{1-e_{ij}}{e_{ij}} f_{ij}^0\\right)\n",
    "\\end{equation}\n",
    "\n",
    "### Why should you do this?\n",
    "This little bit of linear algebra proves concavity! If I give you $f_{ij}P_{ij}^0 \\left(1+ e_{ij}\\frac{f_{ij} - f_{ij}^0}{f_{ij}^0}\\right)$, do you immediately know that it is concave? Using this simple reformulation we have proven concavity and the fact that this is a simple convex quadratic programming problem. The reason it is a convex QP by the way is, because we look to maximize the revenue, which is equivalent to minimizing $-R$, which is convex.\n",
    "\n",
    "> However, from a pure math perspective we will stick with $P_{ij}$ and $f_{ij}$ and get:"
   ]
  },
  {
   "cell_type": "code",
   "execution_count": 10,
   "metadata": {},
   "outputs": [],
   "source": [
    "model.setObjective(xp.Sum(P[c]*f[c] for c in connections), sense = xp.maximize)"
   ]
  },
  {
   "cell_type": "markdown",
   "metadata": {},
   "source": [
    "## Solution and post-processing"
   ]
  },
  {
   "cell_type": "code",
   "execution_count": 11,
   "metadata": {},
   "outputs": [
    {
     "name": "stdout",
     "output_type": "stream",
     "text": [
      "Solution status: lp_optimal\n"
     ]
    }
   ],
   "source": [
    "model.solve()\n",
    "print(f'Solution status: {model.getProbStatusString()}')"
   ]
  },
  {
   "cell_type": "markdown",
   "metadata": {},
   "source": [
    "### Let's look at the money"
   ]
  },
  {
   "cell_type": "code",
   "execution_count": 22,
   "metadata": {},
   "outputs": [
    {
     "name": "stdout",
     "output_type": "stream",
     "text": [
      "Total revenue: 5.84 M DKK per day\n",
      "Current revenue: 5.72 M DKK per day\n"
     ]
    }
   ],
   "source": [
    "print(f'Total revenue: {np.round(model.getObjVal() / 1000,2)} M DKK per day')\n",
    "print (f'Current revenue: {np.round(sum(c.base_ridership * f0 for c in connections) / 1000,2)} M DKK per day')"
   ]
  },
  {
   "cell_type": "markdown",
   "metadata": {},
   "source": [
    "This means we are earning 120'000 DKK more per day with this new setup. Ok, great. So now let's dig into the data itself. It may be interesting to look at the revenue generation from each route:"
   ]
  },
  {
   "cell_type": "code",
   "execution_count": 24,
   "metadata": {},
   "outputs": [
    {
     "name": "stdout",
     "output_type": "stream",
     "text": [
      "Norreport->Kastrup: 783.71 DKK\n",
      "Norreport->Glostrup: 46.44 DKK\n",
      "Norreport->Klampenborg: 142.48 DKK\n",
      "Norreport->Herlev: 227.48 DKK\n",
      "Norreport->Christianshavn: 1203.33 DKK\n",
      "Kastrup->Glostrup: 123.28 DKK\n",
      "Kastrup->Klampenborg: 149.41 DKK\n",
      "Kastrup->Herlev: 71.65 DKK\n",
      "Kastrup->Christianshavn: 899.35 DKK\n",
      "Glostrup->Klampenborg: 255.99 DKK\n",
      "Glostrup->Herlev: 394.83 DKK\n",
      "Glostrup->Christianshavn: 499.0 DKK\n",
      "Klampenborg->Herlev: 586.11 DKK\n",
      "Klampenborg->Christianshavn: 176.04 DKK\n",
      "Herlev->Christianshavn: 280.6 DKK\n"
     ]
    }
   ],
   "source": [
    "for c in connections:\n",
    "    print(f'{c}: {np.round(model.getSolution(f[c])*model.getSolution(P[c]),2)} DKK')"
   ]
  },
  {
   "cell_type": "markdown",
   "metadata": {},
   "source": [
    "We see that the largest values are from Norreport to Kastrup and Christianshavn, and from Kastrup to Christianshavn. Norreport to Glostrup on the other hand is not really that important.\n",
    "\n",
    "Lastly, we want to look at the change in rideship along the routes. Do some get more busy?"
   ]
  },
  {
   "cell_type": "code",
   "execution_count": 27,
   "metadata": {},
   "outputs": [
    {
     "name": "stdout",
     "output_type": "stream",
     "text": [
      "Norreport->Kastrup: -8.59%\n",
      "Norreport->Glostrup: -14.37%\n",
      "Norreport->Klampenborg: -11.78%\n",
      "Norreport->Herlev: -13.46%\n",
      "Norreport->Christianshavn: -4.75%\n",
      "Kastrup->Glostrup: -20.79%\n",
      "Kastrup->Klampenborg: -15.44%\n",
      "Kastrup->Herlev: -25.66%\n",
      "Kastrup->Christianshavn: -10.61%\n",
      "Glostrup->Klampenborg: -19.51%\n",
      "Glostrup->Herlev: -10.97%\n",
      "Glostrup->Christianshavn: -19.8%\n",
      "Klampenborg->Herlev: -9.16%\n",
      "Klampenborg->Christianshavn: -19.94%\n",
      "Herlev->Christianshavn: -17.81%\n"
     ]
    }
   ],
   "source": [
    "for c in connections:\n",
    "    print(f'{c}: {np.round(100* ((model.getSolution(P[c]) / c.base_ridership)-1),2)}%')"
   ]
  },
  {
   "cell_type": "markdown",
   "metadata": {},
   "source": [
    "Generally, the ridership reduced on all lines, even by up to 25%. Interestingly enough, 3 out of the 4 lowest changes correspond to the biggest cash cows, i.e. where we get the most revenue from."
   ]
  }
 ],
 "metadata": {
  "kernelspec": {
   "display_name": "Python 3",
   "language": "python",
   "name": "python3"
  },
  "language_info": {
   "codemirror_mode": {
    "name": "ipython",
    "version": 3
   },
   "file_extension": ".py",
   "mimetype": "text/x-python",
   "name": "python",
   "nbconvert_exporter": "python",
   "pygments_lexer": "ipython3",
   "version": "3.7.2"
  }
 },
 "nbformat": 4,
 "nbformat_minor": 2
}
