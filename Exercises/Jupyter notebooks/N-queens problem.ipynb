{
 "cells": [
  {
   "cell_type": "markdown",
   "metadata": {},
   "source": [
    "# N-queens problem\n",
    "The problem is to place $n$ queens on an $n\\times n$ chess board so that they don't attack each other. In other words, we have to *choose* where the queens have to be on the board to fulfill this objective. This directly leads to the idea that we will have variables $x_{i,j}$, which equals 1 if there is a queen on the field at row $i$ and column $j$, and 0 otherwise.\n",
    "\n",
    "> This is a big departure from our previous exercises, where we assumed the variables to be continuous between some lower and upper bound. Suddenly, we now have the option to choose, which opens up amazing possibilities for modelling complex decisions."
   ]
  },
  {
   "cell_type": "code",
   "execution_count": 45,
   "metadata": {},
   "outputs": [],
   "source": [
    "import xpress as xp\n",
    "import numpy as np\n",
    "import math\n",
    "from dataclasses import dataclass\n",
    "from sys import stdout\n",
    "\n",
    "model = xp.problem(\"n_queens\")\n",
    "n = 8 # The number of queens\n",
    "nRange = range(n)\n",
    "\n",
    "# Define the indices used\n",
    "@dataclass(frozen=True)\n",
    "class Position:\n",
    "    row: int\n",
    "    column: int\n",
    "        \n",
    "# Generate the list of all positions used\n",
    "positions = [Position(i,j) for i in nRange for j in nRange]\n",
    "\n",
    "# Enable retrieval of position based on index\n",
    "def get_pos(positions: list, i: int, j: int):\n",
    "    return [pos for pos in positions if pos.row == i and pos.column == j].pop()\n",
    "\n",
    "# Define the variables\n",
    "x = {pos : xp.var(vartype = xp.binary, name=f'x_{pos.row},{pos.column}') for pos in positions}\n",
    "model.addVariable(x)"
   ]
  },
  {
   "cell_type": "markdown",
   "metadata": {},
   "source": [
    "Now that we have described the variables, we have to \"encode\" the way queens attack each other in chess. Specifically, a queen attacks anything that is in the same row, column or diagonal. This means, if they should not attack each other, you only can have one queen per column, row or diagonal, and this we need to encode mathematically:\n",
    "\n",
    "## Only one queen per column\n",
    "This is fairly easy. If we look over all the rows for a given column $j$, we only can have one queen:\n",
    "\\begin{equation}\n",
    "\\sum \\limits_{i} x_{i,j} \\leq 1, \\hspace{0.15cm} \\forall j\n",
    "\\end{equation}"
   ]
  },
  {
   "cell_type": "code",
   "execution_count": 46,
   "metadata": {},
   "outputs": [],
   "source": [
    "one_queen_per_column = (xp.constraint(xp.Sum(x[pos] for pos in positions if pos.column == j) <= 1, name = f'One queen for column {j}')\n",
    "                       for j in nRange)"
   ]
  },
  {
   "cell_type": "markdown",
   "metadata": {},
   "source": [
    "## Only one queen per row\n",
    "The same logic as for \"One queen per column\" applies, just with swapped indices:\n",
    "\\begin{equation}\n",
    "\\sum \\limits_{j} x_{i,j} \\leq 1, \\hspace{0.15cm} \\forall i\n",
    "\\end{equation}"
   ]
  },
  {
   "cell_type": "code",
   "execution_count": 47,
   "metadata": {},
   "outputs": [],
   "source": [
    "one_queen_per_row = (xp.constraint(xp.Sum(x[pos] for pos in positions if pos.row == i) <= 1, name = f'One queen for row {i}')\n",
    "                       for i in nRange)"
   ]
  },
  {
   "cell_type": "markdown",
   "metadata": {},
   "source": [
    "## Only one queen per diagonal\n",
    "This is the tricky one, of course. First off, we identify that we have to diagonals: bottom right to top left and bottom left to top right. Let's consider the simplest case, the main diagonal from $(0,0)$ to $(n,n)$. Then, we get:\n",
    "\\begin{align}\n",
    "\\sum \\limits_{k=0}^{n} x_{k,k} \\leq 1\n",
    "\\end{align}\n",
    "Moving \"one to the right\", we get:\n",
    "\\begin{align}\n",
    "\\sum \\limits_{k=0}^{n-1} x_{1+k,k} \\leq 1\n",
    "\\end{align}\n",
    "Thus, generalizing we get\n",
    "\\begin{align}\n",
    "\\sum \\limits_{k=0}^{n-i} x_{i+k,k} \\leq 1\n",
    "\\end{align}\n",
    "Now moving \"one downwards\", we get:\n",
    "\\begin{align}\n",
    "\\sum \\limits_{k=0}^{n-1} x_{k,k+1} \\leq 1\n",
    "\\end{align}\n",
    "and generalizing this means:\n",
    "\\begin{align}\n",
    "\\sum \\limits_{k=0}^{n-i} x_{k,k+i} \\leq 1\n",
    "\\end{align}\n",
    "\n",
    "Now for the diagonal from bottom left to top right, we get:\n",
    "\\begin{align}\n",
    "\\sum \\limits_{k=0}^{i+1} x_{k,i-k} \\leq 1, \\hspace{0.3cm} \\forall i \\in [1,n]\n",
    "\\end{align}\n",
    "while for the bottom side we get:\n",
    "\\begin{align}\n",
    "\\sum \\limits_{k=0}^{i+1} x_{n-k-1,n+k-i-1} \\leq 1, \\hspace{0.3cm} \\forall i \\in [1,n]\n",
    "\\end{align}\n",
    "\n",
    "Note: there are a lot of correct ways to describe this constraint, this is just one of them!"
   ]
  },
  {
   "cell_type": "code",
   "execution_count": 48,
   "metadata": {},
   "outputs": [],
   "source": [
    "one_queen_per_first_diagonal_rows = (xp.constraint(xp.Sum(x[get_pos(positions, k+i, k)] for k in range(n - i)) <= 1, \n",
    "                                              name=f'First diagonal, first part for row {i}') for i in nRange)\n",
    "one_queen_per_first_diagonal_columns = (xp.constraint(xp.Sum(x[get_pos(positions, k, k+i)] for k in range(n - i)) <= 1, \n",
    "                                              name=f'First diagonal, second part for row {i}') for i in nRange)\n",
    "one_queen_per_second_diagonal_columns = (xp.constraint(xp.Sum(x[get_pos(positions, k, i-k)] for k in range(i+1)) <= 1, \n",
    "                                              name=f'Second diagonal, first part for row {i}') for i in nRange)\n",
    "one_queen_per_second_diagonal_rows = (xp.constraint(xp.Sum(x[get_pos(positions, n-k-1, n+k-i-1)] for k in range(i+1)) <= 1, \n",
    "                                              name=f'Second diagonal, second part for row {i}') for i in nRange)"
   ]
  },
  {
   "cell_type": "markdown",
   "metadata": {},
   "source": [
    "## Enforce $n$ queens on the board:\n",
    "Finally, if we don't enforce that we have to have $n$ queens on the board, the optimizer will simply not put any. So we need to do that:\n",
    "\\begin{equation}\n",
    "\\sum \\limits_{i,j} x_{i,j} = n\n",
    "\\end{equation}"
   ]
  },
  {
   "cell_type": "code",
   "execution_count": 49,
   "metadata": {},
   "outputs": [],
   "source": [
    "n_queens_on_board = xp.constraint(xp.Sum(x[pos] for pos in positions) == n, name=f'Ensure {n} queens on board')"
   ]
  },
  {
   "cell_type": "markdown",
   "metadata": {},
   "source": [
    "## Add constraints, solve the model and post-process"
   ]
  },
  {
   "cell_type": "code",
   "execution_count": 50,
   "metadata": {},
   "outputs": [],
   "source": [
    "model.addConstraint(one_queen_per_column, one_queen_per_row, one_queen_per_first_diagonal_rows, one_queen_per_first_diagonal_columns, \n",
    "                    one_queen_per_second_diagonal_columns, one_queen_per_second_diagonal_rows, n_queens_on_board)\n",
    "\n",
    "model.solve()"
   ]
  },
  {
   "cell_type": "code",
   "execution_count": 51,
   "metadata": {},
   "outputs": [
    {
     "name": "stdout",
     "output_type": "stream",
     "text": [
      "Solution:\n",
      " . Q . . . . . .\n",
      " . . . . Q . . .\n",
      " . . . . . . Q .\n",
      " . . . Q . . . .\n",
      " Q . . . . . . .\n",
      " . . . . . . . Q\n",
      " . . . . . Q . .\n",
      " . . Q . . . . .\n"
     ]
    }
   ],
   "source": [
    "xVal = {pos : model.getSolution(x[pos]) for pos in positions}\n",
    "stdout.write(\"Solution:\\n\")\n",
    "for i in nRange:\n",
    "    if (i > 0):\n",
    "        stdout.write('\\n')\n",
    "    for j in nRange:\n",
    "        stdout.write(\" \")\n",
    "        stdout.write(\"Q\" if xVal[get_pos(positions,i,j)] >0.5 else \".\")\n",
    "stdout.write(\"\\n\")"
   ]
  }
 ],
 "metadata": {
  "kernelspec": {
   "display_name": "Python 3",
   "language": "python",
   "name": "python3"
  },
  "language_info": {
   "codemirror_mode": {
    "name": "ipython",
    "version": 3
   },
   "file_extension": ".py",
   "mimetype": "text/x-python",
   "name": "python",
   "nbconvert_exporter": "python",
   "pygments_lexer": "ipython3",
   "version": "3.7.2"
  }
 },
 "nbformat": 4,
 "nbformat_minor": 2
}
