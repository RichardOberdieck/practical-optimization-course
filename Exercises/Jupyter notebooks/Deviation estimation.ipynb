{
 "cells": [
  {
   "cell_type": "markdown",
   "metadata": {},
   "source": [
    "# Deviation estimation\n",
    "First, let us specifically state what we want to do: given a set of 2-D data points $(x,y)$, find the coefficients $a$ and $b$ such that a certain error metric is minimized. The question behind this exercise is to formulate the underlying linear programming problem for linear error metrics.\n",
    "\n",
    "The regression curve we are going to formulate has the following form: $y = ax + b$. Therefore, given a point $(x_j,y_j)$, the error $z_j$ is given by:\n",
    "\\begin{equation}\n",
    "z_j = ax_j + b - y_j\n",
    "\\end{equation}\n",
    "\n",
    "## Initialization and data generation\n",
    "To do regression, we need some data. Therefore, we generate the following random data set."
   ]
  },
  {
   "cell_type": "code",
   "execution_count": 4,
   "metadata": {},
   "outputs": [
    {
     "data": {
      "image/png": "[encoded data removed]",
      "text/plain": [
       "<Figure size 432x288 with 1 Axes>"
      ]
     },
     "metadata": {
      "needs_background": "light"
     },
     "output_type": "display_data"
    }
   ],
   "source": [
    "import numpy as np\n",
    "import matplotlib.pyplot as plt\n",
    "import xpress as xp\n",
    "%env XPRESS=..\n",
    "import math\n",
    "\n",
    "n = 100\n",
    "nRange = range(n)\n",
    "coord = np.random.rand(n,2);\n",
    "\n",
    "# Define the plotting function so that it can be reused for post-processing as well\n",
    "def plotting(coord, a, b): \n",
    "    plt.plot(coord[:,0], coord[:,1],'r.')\n",
    "    \n",
    "    if a is not None:\n",
    "        x = np.linspace(0,1,100)    \n",
    "        plt.plot(x,a*x + b)\n",
    "    plt.xlabel('x coordinate')\n",
    "    plt.ylabel('y coordinate');\n",
    "    plt.show()\n",
    "    \n",
    "plotting(coord, None, None);"
   ]
  },
  {
   "cell_type": "markdown",
   "metadata": {},
   "source": [
    "## Least absolute deviations estimation\n",
    "### Modelling\n",
    "In the least absolute deviations estimation, we use the following objective function $\\sum \\limits_{j\\in J} \\left|z_j\\right|$. The idea is that we minimize the linear deviation from the main regression line without penalizing outliers more (as done in higher-norm variations). This means that we want to solve has the following form:\n",
    "\\begin{equation}\n",
    "\\begin{array}{ll}\n",
    "\\underset{a,b,\\{z_j, \\forall j\\}}{\\text{minimize}} & \\sum \\limits_{j} \\left|z_j\\right| \\\\\n",
    "\\text{subject to} & z_j = ax_j + b - y_j\n",
    "\\end{array}\n",
    "\\end{equation}\n",
    "\n",
    "However, we cannot have the absolute value $\\left|\\cdot\\right|$ just like this. Therefore, we have to introduce two auxiliary variables per absolute value formulation:\n",
    "\\begin{align}\n",
    "z_j &= z_j^+ - z_j^- \\\\\n",
    "\\left|z_j\\right| &= z_j^+ + z_j^-\n",
    "\\end{align}\n",
    "with $z_j^+,z_j^-\\geq 0$. This means, we are actually going to solve the following:\n",
    "\\begin{equation}\n",
    "\\begin{array}{ll}\n",
    "\\underset{a,b,\\{z_j, \\forall j\\}}{\\text{minimize}} & \\sum \\limits_{j} z_j^+ + z_j^- \\\\\n",
    "\\text{subject to} & z_j^+ - z_j^- = ax_j + b - y_j \\\\\n",
    "& z_j^+,z_j^- \\geq 0, \\hspace{0.3cm} \\forall j\n",
    "\\end{array}\n",
    "\\end{equation}\n",
    "\n",
    "**How do you write this in code?**"
   ]
  },
  {
   "cell_type": "markdown",
   "metadata": {},
   "source": [
    "## Least maximum deviation estimation\n",
    "Let's do the other case now. In this variant, we only penalize the largest outlier, i.e. we push the system to give us the linear regression that has the lowest extreme values. This can often be helpful in situations where you want to \"robustify\" a solution: say the different data points are historic values of delivery times, then it makes sense that you would want to minimize the maximum deviation rather than, say, the least square error.\n",
    "\n",
    "Ok, but how do the equations look?\n",
    "\\begin{equation}\n",
    "\\begin{array}{ll}\n",
    "\\underset{a,b,\\{z_j, \\forall j\\}}{\\text{minimize}} & \\max \\limits_{j} z_j^+ + z_j^- \\\\\n",
    "\\text{subject to} & z_j^+ - z_j^- = ax_j + b - y_j \\\\\n",
    "& z_j^+,z_j^- \\geq 0, \\hspace{0.3cm} \\forall j\n",
    "\\end{array}\n",
    "\\end{equation}\n",
    "Using the clever epigraph trick (see e.g. [here](http://eceweb.ucsd.edu/~gert/ECE273/CvxOptTutPaper.pdf)), we can therefore get:\n",
    "\\begin{equation}\n",
    "\\begin{array}{ll}\n",
    "\\underset{t,a,b,\\{z_j, \\forall j\\}}{\\text{minimize}} & t \\\\\n",
    "\\text{subject to} & z_j^+ - z_j^- = ax_j + b - y_j \\\\\n",
    "& z_j^+ + z_j^- \\leq t \\\\\n",
    "& z_j^+,z_j^- \\geq 0, \\hspace{0.3cm} \\forall j\n",
    "\\end{array}\n",
    "\\end{equation}\n",
    "\n",
    "**How does this look like in code?**"
   ]
  }
 ],
 "metadata": {
  "kernelspec": {
   "display_name": "Python 3",
   "language": "python",
   "name": "python3"
  },
  "language_info": {
   "codemirror_mode": {
    "name": "ipython",
    "version": 3
   },
   "file_extension": ".py",
   "mimetype": "text/x-python",
   "name": "python",
   "nbconvert_exporter": "python",
   "pygments_lexer": "ipython3",
   "version": "3.7.2"
  }
 },
 "nbformat": 4,
 "nbformat_minor": 2
}
